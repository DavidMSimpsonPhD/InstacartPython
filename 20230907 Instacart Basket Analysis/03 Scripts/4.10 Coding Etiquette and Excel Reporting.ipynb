{
 "cells": [
  {
   "cell_type": "markdown",
   "id": "c402b830",
   "metadata": {},
   "source": [
    "## Contents\n",
    "#### Importing libraries and data\n",
    "#### Crosstabs\n",
    "#### 4:10 Task\n",
    "#### Part 1, # 3: Segment according to region and create 'Region' column\n",
    "#### Finding value count for customers, and counts and percentage high and low spenders in each region\n",
    "#### Finding the standard deviation of high spender percentage\n",
    "#### Ordering regions by percentage of high spenders\n",
    "#### Creating bar chart for high spenders by region\n",
    "#### Part 1, # 4: Create exclusion flag for low-activity customers\n",
    "#### Part 1, # 5: Creating customer profiles\n",
    "#### Creating Age flag\n",
    "#### Creating family size flag\n",
    "#### Creating income flag\n",
    "#### Creating 'Profile' column with demographic profiles\n",
    "#### Part 1, # 6: Create an appropriate visualization to show the distribution of profiles\n",
    "#### Part 1, # 7: Aggregate the max, mean, and min variables on a customer-profile level for usage frequency and expenditure\n",
    "#### Part 1, # 7: Compare your customer profiles with regions and departments\n",
    "#### Analysis of Married_Middleincome_Sfamily_Younger profile\n",
    "#### Analysis of Married_Upperincome_Sfamily_Older profile\n",
    "#### Analysis of Single_Lowspender_Lowincome profile\n",
    "#### Analysis of Married_Lowerincome_Lfamily_Younger profile\n",
    "#### Analysis of Married_Upperincome_Lfamily_MiddleAge profile\n",
    "#### Analysis of Younger_LivingwParents profile\n",
    "#### Analysis of DivWid Lowerincome Nochildren Older profile\n",
    "#### Analysis of Single_MiddleAged_HighSpender profile\n",
    "#### Analysis of Single_Upperincome_Nochildren_Younger profile"
   ]
  },
  {
   "cell_type": "markdown",
   "id": "f5069554",
   "metadata": {},
   "source": [
    "### Importing libraries and data"
   ]
  },
  {
   "cell_type": "code",
   "execution_count": 1,
   "id": "baca32d3",
   "metadata": {},
   "outputs": [],
   "source": [
    "import pandas as pd\n",
    "pd.set_option('display.max_rows', 500)\n",
    "pd.set_option('display.max_columns', 500)\n",
    "pd.set_option('display.width', 1000)\n",
    "import numpy as np\n",
    "import os\n",
    "import matplotlib.pyplot as plt\n",
    "import seaborn as sns\n",
    "import scipy"
   ]
  },
  {
   "cell_type": "code",
   "execution_count": 2,
   "id": "de96756f",
   "metadata": {},
   "outputs": [],
   "source": [
    "# defining path\n",
    "path = r'/Users/davidmsimpson/20230907 Instacart Basket Analysis'"
   ]
  },
  {
   "cell_type": "code",
   "execution_count": 3,
   "id": "4cdf76c4",
   "metadata": {},
   "outputs": [],
   "source": [
    "# Importing customers\n",
    "df_ords_prods_customers = pd.read_csv(os.path.join(path, '02 Data', 'Prepared Data', 'ords_prods_customers.csv'), index_col = 0)"
   ]
  },
  {
   "cell_type": "markdown",
   "id": "65e0b1f3",
   "metadata": {},
   "source": [
    "### Crosstabs"
   ]
  },
  {
   "cell_type": "code",
   "execution_count": 4,
   "id": "3795dafb",
   "metadata": {},
   "outputs": [],
   "source": [
    "# Creating crosstab\n",
    "crosstab = pd.crosstab(df_ords_prods_customers['days_since_prior_order'], df_ords_prods_customers['order_number'], dropna = False)"
   ]
  },
  {
   "cell_type": "code",
   "execution_count": 5,
   "id": "c82f130d",
   "metadata": {},
   "outputs": [],
   "source": [
    "# Copying crosstab to clipboard\n",
    "crosstab.to_clipboard()"
   ]
  },
  {
   "cell_type": "markdown",
   "id": "2e9341d6",
   "metadata": {},
   "source": [
    "## 4:10 Task"
   ]
  },
  {
   "cell_type": "markdown",
   "id": "47073cfa",
   "metadata": {},
   "source": [
    "## Part 1, # 3: Segment according to region and create 'Region' column. I am using my own regions rather than the ones suggested by the Census Bureau website."
   ]
  },
  {
   "cell_type": "code",
   "execution_count": 6,
   "id": "914f1f43",
   "metadata": {},
   "outputs": [],
   "source": [
    "df_ords_prods_customers.loc[df_ords_prods_customers['State'].isin(['California','Oregon','Washington','Alaska', 'Hawaii']), 'Region'] = 'West Coast'"
   ]
  },
  {
   "cell_type": "code",
   "execution_count": 7,
   "id": "9b61f1ae",
   "metadata": {},
   "outputs": [],
   "source": [
    "df_ords_prods_customers.loc[df_ords_prods_customers['State'].isin(['Idaho','Montana','Wyoming','Nevada', 'Utah','Colorado','Arizona','New Mexico']), 'Region'] = 'Mountain West'"
   ]
  },
  {
   "cell_type": "code",
   "execution_count": 8,
   "id": "dc3aa886",
   "metadata": {},
   "outputs": [],
   "source": [
    "df_ords_prods_customers.loc[df_ords_prods_customers['State'].isin(['Alabama','Georgia','Florida','South Carolina', 'North Carolina','Virginia']), 'Region'] = 'Southeast'"
   ]
  },
  {
   "cell_type": "code",
   "execution_count": 9,
   "id": "8f4267f2",
   "metadata": {},
   "outputs": [],
   "source": [
    "df_ords_prods_customers.loc[df_ords_prods_customers['State'].isin(['North Dakota','South Dakota','Nebraska','Kansas', 'Minnesota','Iowa','Missouri']), 'Region'] = 'Plains'"
   ]
  },
  {
   "cell_type": "code",
   "execution_count": 10,
   "id": "717c4e77",
   "metadata": {},
   "outputs": [],
   "source": [
    "df_ords_prods_customers.loc[df_ords_prods_customers['State'].isin(['Wisconsin','Illinois','Michigan','Indiana', 'Ohio','Kentucky']), 'Region'] = 'North Central'"
   ]
  },
  {
   "cell_type": "code",
   "execution_count": 11,
   "id": "a577aa48",
   "metadata": {},
   "outputs": [],
   "source": [
    "df_ords_prods_customers.loc[df_ords_prods_customers['State'].isin(['Texas','Oklahoma','Arkansas','Louisiana', 'Mississippi','Tennessee']), 'Region'] = 'South Central'"
   ]
  },
  {
   "cell_type": "code",
   "execution_count": 12,
   "id": "0e44da9a",
   "metadata": {},
   "outputs": [],
   "source": [
    "df_ords_prods_customers.loc[df_ords_prods_customers['State'].isin(['Maryland','District of Columbia','Delaware','Pennsylvania', 'New Jersey','New York','West Virginia']), 'Region'] = 'Mid-Atlantic'"
   ]
  },
  {
   "cell_type": "code",
   "execution_count": 13,
   "id": "48c1225a",
   "metadata": {},
   "outputs": [],
   "source": [
    "df_ords_prods_customers.loc[df_ords_prods_customers['State'].isin(['Connecticut','Rhode Island','Massachusetts','Vermont', 'New Hampshire','Maine']), 'Region'] = 'New England'"
   ]
  },
  {
   "cell_type": "code",
   "execution_count": 14,
   "id": "202e5d1e",
   "metadata": {},
   "outputs": [
    {
     "data": {
      "text/html": [
       "<div>\n",
       "<style scoped>\n",
       "    .dataframe tbody tr th:only-of-type {\n",
       "        vertical-align: middle;\n",
       "    }\n",
       "\n",
       "    .dataframe tbody tr th {\n",
       "        vertical-align: top;\n",
       "    }\n",
       "\n",
       "    .dataframe thead th {\n",
       "        text-align: right;\n",
       "    }\n",
       "</style>\n",
       "<table border=\"1\" class=\"dataframe\">\n",
       "  <thead>\n",
       "    <tr style=\"text-align: right;\">\n",
       "      <th></th>\n",
       "      <th>order_id</th>\n",
       "      <th>user_id</th>\n",
       "      <th>order_number</th>\n",
       "      <th>order_day_of_week</th>\n",
       "      <th>order_hour_of_day</th>\n",
       "      <th>days_since_prior_order</th>\n",
       "      <th>new_customer</th>\n",
       "      <th>product_id</th>\n",
       "      <th>add_to_cart_order</th>\n",
       "      <th>reordered</th>\n",
       "      <th>product_name</th>\n",
       "      <th>aisle_id</th>\n",
       "      <th>department_id</th>\n",
       "      <th>prices</th>\n",
       "      <th>price_range_loc</th>\n",
       "      <th>busiest days</th>\n",
       "      <th>busiest period</th>\n",
       "      <th>busiest_period_of_day</th>\n",
       "      <th>max_order</th>\n",
       "      <th>loyalty_flag</th>\n",
       "      <th>Avg_price_paid</th>\n",
       "      <th>Spending_flag</th>\n",
       "      <th>Avg_days_since_order</th>\n",
       "      <th>Frequency_flag</th>\n",
       "      <th>First Name</th>\n",
       "      <th>Surname</th>\n",
       "      <th>Gender</th>\n",
       "      <th>State</th>\n",
       "      <th>Age</th>\n",
       "      <th>date_joined</th>\n",
       "      <th>Number_dependants</th>\n",
       "      <th>family_status</th>\n",
       "      <th>income</th>\n",
       "      <th>Region</th>\n",
       "    </tr>\n",
       "  </thead>\n",
       "  <tbody>\n",
       "    <tr>\n",
       "      <th>0</th>\n",
       "      <td>2539329</td>\n",
       "      <td>1</td>\n",
       "      <td>1</td>\n",
       "      <td>2</td>\n",
       "      <td>8</td>\n",
       "      <td>NaN</td>\n",
       "      <td>1</td>\n",
       "      <td>196</td>\n",
       "      <td>1</td>\n",
       "      <td>0</td>\n",
       "      <td>Soda</td>\n",
       "      <td>77</td>\n",
       "      <td>7</td>\n",
       "      <td>9.0</td>\n",
       "      <td>Mid-range product</td>\n",
       "      <td>Regularly busy</td>\n",
       "      <td>Busiest period</td>\n",
       "      <td>Most orders</td>\n",
       "      <td>10</td>\n",
       "      <td>New customer</td>\n",
       "      <td>6.367797</td>\n",
       "      <td>Low spender</td>\n",
       "      <td>20.259259</td>\n",
       "      <td>Non-frequent customer</td>\n",
       "      <td>Linda</td>\n",
       "      <td>Nguyen</td>\n",
       "      <td>Female</td>\n",
       "      <td>Alabama</td>\n",
       "      <td>31</td>\n",
       "      <td>2/17/2019</td>\n",
       "      <td>3</td>\n",
       "      <td>married</td>\n",
       "      <td>40423</td>\n",
       "      <td>Southeast</td>\n",
       "    </tr>\n",
       "    <tr>\n",
       "      <th>1</th>\n",
       "      <td>2398795</td>\n",
       "      <td>1</td>\n",
       "      <td>2</td>\n",
       "      <td>3</td>\n",
       "      <td>7</td>\n",
       "      <td>15.0</td>\n",
       "      <td>0</td>\n",
       "      <td>196</td>\n",
       "      <td>1</td>\n",
       "      <td>1</td>\n",
       "      <td>Soda</td>\n",
       "      <td>77</td>\n",
       "      <td>7</td>\n",
       "      <td>9.0</td>\n",
       "      <td>Mid-range product</td>\n",
       "      <td>Least busy days</td>\n",
       "      <td>Least busy period</td>\n",
       "      <td>Fewest orders</td>\n",
       "      <td>10</td>\n",
       "      <td>New customer</td>\n",
       "      <td>6.367797</td>\n",
       "      <td>Low spender</td>\n",
       "      <td>20.259259</td>\n",
       "      <td>Non-frequent customer</td>\n",
       "      <td>Linda</td>\n",
       "      <td>Nguyen</td>\n",
       "      <td>Female</td>\n",
       "      <td>Alabama</td>\n",
       "      <td>31</td>\n",
       "      <td>2/17/2019</td>\n",
       "      <td>3</td>\n",
       "      <td>married</td>\n",
       "      <td>40423</td>\n",
       "      <td>Southeast</td>\n",
       "    </tr>\n",
       "    <tr>\n",
       "      <th>2</th>\n",
       "      <td>473747</td>\n",
       "      <td>1</td>\n",
       "      <td>3</td>\n",
       "      <td>3</td>\n",
       "      <td>12</td>\n",
       "      <td>21.0</td>\n",
       "      <td>0</td>\n",
       "      <td>196</td>\n",
       "      <td>1</td>\n",
       "      <td>1</td>\n",
       "      <td>Soda</td>\n",
       "      <td>77</td>\n",
       "      <td>7</td>\n",
       "      <td>9.0</td>\n",
       "      <td>Mid-range product</td>\n",
       "      <td>Least busy days</td>\n",
       "      <td>Busiest period</td>\n",
       "      <td>Most orders</td>\n",
       "      <td>10</td>\n",
       "      <td>New customer</td>\n",
       "      <td>6.367797</td>\n",
       "      <td>Low spender</td>\n",
       "      <td>20.259259</td>\n",
       "      <td>Non-frequent customer</td>\n",
       "      <td>Linda</td>\n",
       "      <td>Nguyen</td>\n",
       "      <td>Female</td>\n",
       "      <td>Alabama</td>\n",
       "      <td>31</td>\n",
       "      <td>2/17/2019</td>\n",
       "      <td>3</td>\n",
       "      <td>married</td>\n",
       "      <td>40423</td>\n",
       "      <td>Southeast</td>\n",
       "    </tr>\n",
       "    <tr>\n",
       "      <th>3</th>\n",
       "      <td>2254736</td>\n",
       "      <td>1</td>\n",
       "      <td>4</td>\n",
       "      <td>4</td>\n",
       "      <td>7</td>\n",
       "      <td>29.0</td>\n",
       "      <td>0</td>\n",
       "      <td>196</td>\n",
       "      <td>1</td>\n",
       "      <td>1</td>\n",
       "      <td>Soda</td>\n",
       "      <td>77</td>\n",
       "      <td>7</td>\n",
       "      <td>9.0</td>\n",
       "      <td>Mid-range product</td>\n",
       "      <td>Least busy days</td>\n",
       "      <td>Least busy period</td>\n",
       "      <td>Fewest orders</td>\n",
       "      <td>10</td>\n",
       "      <td>New customer</td>\n",
       "      <td>6.367797</td>\n",
       "      <td>Low spender</td>\n",
       "      <td>20.259259</td>\n",
       "      <td>Non-frequent customer</td>\n",
       "      <td>Linda</td>\n",
       "      <td>Nguyen</td>\n",
       "      <td>Female</td>\n",
       "      <td>Alabama</td>\n",
       "      <td>31</td>\n",
       "      <td>2/17/2019</td>\n",
       "      <td>3</td>\n",
       "      <td>married</td>\n",
       "      <td>40423</td>\n",
       "      <td>Southeast</td>\n",
       "    </tr>\n",
       "    <tr>\n",
       "      <th>4</th>\n",
       "      <td>431534</td>\n",
       "      <td>1</td>\n",
       "      <td>5</td>\n",
       "      <td>4</td>\n",
       "      <td>15</td>\n",
       "      <td>28.0</td>\n",
       "      <td>0</td>\n",
       "      <td>196</td>\n",
       "      <td>1</td>\n",
       "      <td>1</td>\n",
       "      <td>Soda</td>\n",
       "      <td>77</td>\n",
       "      <td>7</td>\n",
       "      <td>9.0</td>\n",
       "      <td>Mid-range product</td>\n",
       "      <td>Least busy days</td>\n",
       "      <td>Busiest period</td>\n",
       "      <td>Most orders</td>\n",
       "      <td>10</td>\n",
       "      <td>New customer</td>\n",
       "      <td>6.367797</td>\n",
       "      <td>Low spender</td>\n",
       "      <td>20.259259</td>\n",
       "      <td>Non-frequent customer</td>\n",
       "      <td>Linda</td>\n",
       "      <td>Nguyen</td>\n",
       "      <td>Female</td>\n",
       "      <td>Alabama</td>\n",
       "      <td>31</td>\n",
       "      <td>2/17/2019</td>\n",
       "      <td>3</td>\n",
       "      <td>married</td>\n",
       "      <td>40423</td>\n",
       "      <td>Southeast</td>\n",
       "    </tr>\n",
       "    <tr>\n",
       "      <th>...</th>\n",
       "      <td>...</td>\n",
       "      <td>...</td>\n",
       "      <td>...</td>\n",
       "      <td>...</td>\n",
       "      <td>...</td>\n",
       "      <td>...</td>\n",
       "      <td>...</td>\n",
       "      <td>...</td>\n",
       "      <td>...</td>\n",
       "      <td>...</td>\n",
       "      <td>...</td>\n",
       "      <td>...</td>\n",
       "      <td>...</td>\n",
       "      <td>...</td>\n",
       "      <td>...</td>\n",
       "      <td>...</td>\n",
       "      <td>...</td>\n",
       "      <td>...</td>\n",
       "      <td>...</td>\n",
       "      <td>...</td>\n",
       "      <td>...</td>\n",
       "      <td>...</td>\n",
       "      <td>...</td>\n",
       "      <td>...</td>\n",
       "      <td>...</td>\n",
       "      <td>...</td>\n",
       "      <td>...</td>\n",
       "      <td>...</td>\n",
       "      <td>...</td>\n",
       "      <td>...</td>\n",
       "      <td>...</td>\n",
       "      <td>...</td>\n",
       "      <td>...</td>\n",
       "      <td>...</td>\n",
       "    </tr>\n",
       "    <tr>\n",
       "      <th>23049995</th>\n",
       "      <td>2543114</td>\n",
       "      <td>72486</td>\n",
       "      <td>2</td>\n",
       "      <td>0</td>\n",
       "      <td>10</td>\n",
       "      <td>30.0</td>\n",
       "      <td>0</td>\n",
       "      <td>46235</td>\n",
       "      <td>3</td>\n",
       "      <td>0</td>\n",
       "      <td>Darks Liquid Laundry Detergent</td>\n",
       "      <td>75</td>\n",
       "      <td>17</td>\n",
       "      <td>12.5</td>\n",
       "      <td>Mid-range product</td>\n",
       "      <td>Busiest days</td>\n",
       "      <td>Busiest period</td>\n",
       "      <td>Most orders</td>\n",
       "      <td>5</td>\n",
       "      <td>New customer</td>\n",
       "      <td>12.500000</td>\n",
       "      <td>High spender</td>\n",
       "      <td>22.000000</td>\n",
       "      <td>Non-frequent customer</td>\n",
       "      <td>Steven</td>\n",
       "      <td>Dunn</td>\n",
       "      <td>Male</td>\n",
       "      <td>Indiana</td>\n",
       "      <td>50</td>\n",
       "      <td>7/14/2019</td>\n",
       "      <td>2</td>\n",
       "      <td>married</td>\n",
       "      <td>162789</td>\n",
       "      <td>North Central</td>\n",
       "    </tr>\n",
       "    <tr>\n",
       "      <th>23049996</th>\n",
       "      <td>2876636</td>\n",
       "      <td>72486</td>\n",
       "      <td>5</td>\n",
       "      <td>0</td>\n",
       "      <td>13</td>\n",
       "      <td>14.0</td>\n",
       "      <td>0</td>\n",
       "      <td>46235</td>\n",
       "      <td>3</td>\n",
       "      <td>1</td>\n",
       "      <td>Darks Liquid Laundry Detergent</td>\n",
       "      <td>75</td>\n",
       "      <td>17</td>\n",
       "      <td>12.5</td>\n",
       "      <td>Mid-range product</td>\n",
       "      <td>Busiest days</td>\n",
       "      <td>Busiest period</td>\n",
       "      <td>Most orders</td>\n",
       "      <td>5</td>\n",
       "      <td>New customer</td>\n",
       "      <td>12.500000</td>\n",
       "      <td>High spender</td>\n",
       "      <td>22.000000</td>\n",
       "      <td>Non-frequent customer</td>\n",
       "      <td>Steven</td>\n",
       "      <td>Dunn</td>\n",
       "      <td>Male</td>\n",
       "      <td>Indiana</td>\n",
       "      <td>50</td>\n",
       "      <td>7/14/2019</td>\n",
       "      <td>2</td>\n",
       "      <td>married</td>\n",
       "      <td>162789</td>\n",
       "      <td>North Central</td>\n",
       "    </tr>\n",
       "    <tr>\n",
       "      <th>23049997</th>\n",
       "      <td>876147</td>\n",
       "      <td>129743</td>\n",
       "      <td>3</td>\n",
       "      <td>1</td>\n",
       "      <td>15</td>\n",
       "      <td>24.0</td>\n",
       "      <td>0</td>\n",
       "      <td>46235</td>\n",
       "      <td>2</td>\n",
       "      <td>0</td>\n",
       "      <td>Darks Liquid Laundry Detergent</td>\n",
       "      <td>75</td>\n",
       "      <td>17</td>\n",
       "      <td>12.5</td>\n",
       "      <td>Mid-range product</td>\n",
       "      <td>Busiest days</td>\n",
       "      <td>Busiest period</td>\n",
       "      <td>Most orders</td>\n",
       "      <td>3</td>\n",
       "      <td>New customer</td>\n",
       "      <td>12.500000</td>\n",
       "      <td>High spender</td>\n",
       "      <td>24.000000</td>\n",
       "      <td>Non-frequent customer</td>\n",
       "      <td>Matthew</td>\n",
       "      <td>Hurley</td>\n",
       "      <td>Male</td>\n",
       "      <td>Wisconsin</td>\n",
       "      <td>51</td>\n",
       "      <td>6/15/2018</td>\n",
       "      <td>0</td>\n",
       "      <td>single</td>\n",
       "      <td>52258</td>\n",
       "      <td>North Central</td>\n",
       "    </tr>\n",
       "    <tr>\n",
       "      <th>23049998</th>\n",
       "      <td>1970552</td>\n",
       "      <td>47454</td>\n",
       "      <td>1</td>\n",
       "      <td>5</td>\n",
       "      <td>10</td>\n",
       "      <td>NaN</td>\n",
       "      <td>1</td>\n",
       "      <td>20112</td>\n",
       "      <td>3</td>\n",
       "      <td>0</td>\n",
       "      <td>Garbage Bags Small - 30 CT</td>\n",
       "      <td>60</td>\n",
       "      <td>17</td>\n",
       "      <td>5.3</td>\n",
       "      <td>Mid-range product</td>\n",
       "      <td>Regularly busy</td>\n",
       "      <td>Busiest period</td>\n",
       "      <td>Most orders</td>\n",
       "      <td>1</td>\n",
       "      <td>New customer</td>\n",
       "      <td>5.300000</td>\n",
       "      <td>Low spender</td>\n",
       "      <td>NaN</td>\n",
       "      <td>NaN</td>\n",
       "      <td>Sharon</td>\n",
       "      <td>Zhang</td>\n",
       "      <td>Female</td>\n",
       "      <td>New Hampshire</td>\n",
       "      <td>43</td>\n",
       "      <td>11/3/2017</td>\n",
       "      <td>1</td>\n",
       "      <td>married</td>\n",
       "      <td>41303</td>\n",
       "      <td>New England</td>\n",
       "    </tr>\n",
       "    <tr>\n",
       "      <th>23049999</th>\n",
       "      <td>932997</td>\n",
       "      <td>42251</td>\n",
       "      <td>3</td>\n",
       "      <td>2</td>\n",
       "      <td>12</td>\n",
       "      <td>8.0</td>\n",
       "      <td>0</td>\n",
       "      <td>39276</td>\n",
       "      <td>1</td>\n",
       "      <td>0</td>\n",
       "      <td>Bananas</td>\n",
       "      <td>24</td>\n",
       "      <td>4</td>\n",
       "      <td>4.5</td>\n",
       "      <td>Low-range product</td>\n",
       "      <td>Regularly busy</td>\n",
       "      <td>Busiest period</td>\n",
       "      <td>Most orders</td>\n",
       "      <td>3</td>\n",
       "      <td>New customer</td>\n",
       "      <td>4.500000</td>\n",
       "      <td>Low spender</td>\n",
       "      <td>8.000000</td>\n",
       "      <td>Frequent customer</td>\n",
       "      <td>Elizabeth</td>\n",
       "      <td>Huff</td>\n",
       "      <td>Female</td>\n",
       "      <td>Nevada</td>\n",
       "      <td>80</td>\n",
       "      <td>9/4/2018</td>\n",
       "      <td>0</td>\n",
       "      <td>divorced/widowed</td>\n",
       "      <td>43805</td>\n",
       "      <td>Mountain West</td>\n",
       "    </tr>\n",
       "  </tbody>\n",
       "</table>\n",
       "<p>23045571 rows × 34 columns</p>\n",
       "</div>"
      ],
      "text/plain": [
       "          order_id  user_id  order_number  order_day_of_week  order_hour_of_day  days_since_prior_order  new_customer  product_id  add_to_cart_order  reordered                    product_name  aisle_id  department_id  prices    price_range_loc     busiest days     busiest period busiest_period_of_day  max_order  loyalty_flag  Avg_price_paid Spending_flag  Avg_days_since_order         Frequency_flag First Name Surname  Gender          State  Age date_joined  Number_dependants     family_status  income         Region\n",
       "0          2539329        1             1                  2                  8                     NaN             1         196                  1          0                            Soda        77              7     9.0  Mid-range product   Regularly busy     Busiest period           Most orders         10  New customer        6.367797   Low spender             20.259259  Non-frequent customer      Linda  Nguyen  Female        Alabama   31   2/17/2019                  3           married   40423      Southeast\n",
       "1          2398795        1             2                  3                  7                    15.0             0         196                  1          1                            Soda        77              7     9.0  Mid-range product  Least busy days  Least busy period         Fewest orders         10  New customer        6.367797   Low spender             20.259259  Non-frequent customer      Linda  Nguyen  Female        Alabama   31   2/17/2019                  3           married   40423      Southeast\n",
       "2           473747        1             3                  3                 12                    21.0             0         196                  1          1                            Soda        77              7     9.0  Mid-range product  Least busy days     Busiest period           Most orders         10  New customer        6.367797   Low spender             20.259259  Non-frequent customer      Linda  Nguyen  Female        Alabama   31   2/17/2019                  3           married   40423      Southeast\n",
       "3          2254736        1             4                  4                  7                    29.0             0         196                  1          1                            Soda        77              7     9.0  Mid-range product  Least busy days  Least busy period         Fewest orders         10  New customer        6.367797   Low spender             20.259259  Non-frequent customer      Linda  Nguyen  Female        Alabama   31   2/17/2019                  3           married   40423      Southeast\n",
       "4           431534        1             5                  4                 15                    28.0             0         196                  1          1                            Soda        77              7     9.0  Mid-range product  Least busy days     Busiest period           Most orders         10  New customer        6.367797   Low spender             20.259259  Non-frequent customer      Linda  Nguyen  Female        Alabama   31   2/17/2019                  3           married   40423      Southeast\n",
       "...            ...      ...           ...                ...                ...                     ...           ...         ...                ...        ...                             ...       ...            ...     ...                ...              ...                ...                   ...        ...           ...             ...           ...                   ...                    ...        ...     ...     ...            ...  ...         ...                ...               ...     ...            ...\n",
       "23049995   2543114    72486             2                  0                 10                    30.0             0       46235                  3          0  Darks Liquid Laundry Detergent        75             17    12.5  Mid-range product     Busiest days     Busiest period           Most orders          5  New customer       12.500000  High spender             22.000000  Non-frequent customer     Steven    Dunn    Male        Indiana   50   7/14/2019                  2           married  162789  North Central\n",
       "23049996   2876636    72486             5                  0                 13                    14.0             0       46235                  3          1  Darks Liquid Laundry Detergent        75             17    12.5  Mid-range product     Busiest days     Busiest period           Most orders          5  New customer       12.500000  High spender             22.000000  Non-frequent customer     Steven    Dunn    Male        Indiana   50   7/14/2019                  2           married  162789  North Central\n",
       "23049997    876147   129743             3                  1                 15                    24.0             0       46235                  2          0  Darks Liquid Laundry Detergent        75             17    12.5  Mid-range product     Busiest days     Busiest period           Most orders          3  New customer       12.500000  High spender             24.000000  Non-frequent customer    Matthew  Hurley    Male      Wisconsin   51   6/15/2018                  0            single   52258  North Central\n",
       "23049998   1970552    47454             1                  5                 10                     NaN             1       20112                  3          0      Garbage Bags Small - 30 CT        60             17     5.3  Mid-range product   Regularly busy     Busiest period           Most orders          1  New customer        5.300000   Low spender                   NaN                    NaN     Sharon   Zhang  Female  New Hampshire   43   11/3/2017                  1           married   41303    New England\n",
       "23049999    932997    42251             3                  2                 12                     8.0             0       39276                  1          0                         Bananas        24              4     4.5  Low-range product   Regularly busy     Busiest period           Most orders          3  New customer        4.500000   Low spender              8.000000      Frequent customer  Elizabeth    Huff  Female         Nevada   80    9/4/2018                  0  divorced/widowed   43805  Mountain West\n",
       "\n",
       "[23045571 rows x 34 columns]"
      ]
     },
     "execution_count": 14,
     "metadata": {},
     "output_type": "execute_result"
    }
   ],
   "source": [
    "# Checking columns\n",
    "df_ords_prods_customers"
   ]
  },
  {
   "cell_type": "code",
   "execution_count": 15,
   "id": "d87f9c71",
   "metadata": {},
   "outputs": [
    {
     "data": {
      "text/plain": [
       "Region\n",
       "Mountain West    3612368\n",
       "Plains           3159639\n",
       "Mid-Atlantic     3134888\n",
       "Southeast        2742391\n",
       "South Central    2717805\n",
       "New England      2696497\n",
       "North Central    2686613\n",
       "West Coast       2295370\n",
       "Name: count, dtype: int64"
      ]
     },
     "execution_count": 15,
     "metadata": {},
     "output_type": "execute_result"
    }
   ],
   "source": [
    "# Checking values for new column\n",
    "df_ords_prods_customers['Region'].value_counts(dropna = False)"
   ]
  },
  {
   "cell_type": "code",
   "execution_count": 16,
   "id": "b0a81a3a",
   "metadata": {},
   "outputs": [
    {
     "data": {
      "text/plain": [
       "Spending_flag\n",
       "Low spender     22576572\n",
       "High spender      468999\n",
       "Name: count, dtype: int64"
      ]
     },
     "execution_count": 16,
     "metadata": {},
     "output_type": "execute_result"
    }
   ],
   "source": [
    "# Finding value counts for new column\n",
    "df_ords_prods_customers['Spending_flag'].value_counts(dropna = False)"
   ]
  },
  {
   "cell_type": "code",
   "execution_count": 17,
   "id": "89604507",
   "metadata": {},
   "outputs": [],
   "source": [
    "# Group the DataFrame by region\n",
    "df_grouped_by_region = df_ords_prods_customers.groupby(['Region','Spending_flag'])['Spending_flag'].count()"
   ]
  },
  {
   "cell_type": "code",
   "execution_count": 18,
   "id": "14cc24b6",
   "metadata": {},
   "outputs": [],
   "source": [
    "# Create a new DataFrame to store the results\n",
    "df_results = pd.DataFrame(columns=['Low Spenders', 'High Spenders'])"
   ]
  },
  {
   "cell_type": "code",
   "execution_count": 19,
   "id": "b1c1f76a",
   "metadata": {},
   "outputs": [
    {
     "data": {
      "text/html": [
       "<div>\n",
       "<style scoped>\n",
       "    .dataframe tbody tr th:only-of-type {\n",
       "        vertical-align: middle;\n",
       "    }\n",
       "\n",
       "    .dataframe tbody tr th {\n",
       "        vertical-align: top;\n",
       "    }\n",
       "\n",
       "    .dataframe thead th {\n",
       "        text-align: right;\n",
       "    }\n",
       "</style>\n",
       "<table border=\"1\" class=\"dataframe\">\n",
       "  <thead>\n",
       "    <tr style=\"text-align: right;\">\n",
       "      <th></th>\n",
       "      <th>order_id</th>\n",
       "      <th>user_id</th>\n",
       "      <th>order_number</th>\n",
       "      <th>order_day_of_week</th>\n",
       "      <th>order_hour_of_day</th>\n",
       "      <th>days_since_prior_order</th>\n",
       "      <th>new_customer</th>\n",
       "      <th>product_id</th>\n",
       "      <th>add_to_cart_order</th>\n",
       "      <th>reordered</th>\n",
       "      <th>product_name</th>\n",
       "      <th>aisle_id</th>\n",
       "      <th>department_id</th>\n",
       "      <th>prices</th>\n",
       "      <th>price_range_loc</th>\n",
       "      <th>busiest days</th>\n",
       "      <th>busiest period</th>\n",
       "      <th>busiest_period_of_day</th>\n",
       "      <th>max_order</th>\n",
       "      <th>loyalty_flag</th>\n",
       "      <th>Avg_price_paid</th>\n",
       "      <th>Spending_flag</th>\n",
       "      <th>Avg_days_since_order</th>\n",
       "      <th>Frequency_flag</th>\n",
       "      <th>First Name</th>\n",
       "      <th>Surname</th>\n",
       "      <th>Gender</th>\n",
       "      <th>State</th>\n",
       "      <th>Age</th>\n",
       "      <th>date_joined</th>\n",
       "      <th>Number_dependants</th>\n",
       "      <th>family_status</th>\n",
       "      <th>income</th>\n",
       "      <th>Region</th>\n",
       "    </tr>\n",
       "  </thead>\n",
       "  <tbody>\n",
       "    <tr>\n",
       "      <th>0</th>\n",
       "      <td>2539329</td>\n",
       "      <td>1</td>\n",
       "      <td>1</td>\n",
       "      <td>2</td>\n",
       "      <td>8</td>\n",
       "      <td>NaN</td>\n",
       "      <td>1</td>\n",
       "      <td>196</td>\n",
       "      <td>1</td>\n",
       "      <td>0</td>\n",
       "      <td>Soda</td>\n",
       "      <td>77</td>\n",
       "      <td>7</td>\n",
       "      <td>9.0</td>\n",
       "      <td>Mid-range product</td>\n",
       "      <td>Regularly busy</td>\n",
       "      <td>Busiest period</td>\n",
       "      <td>Most orders</td>\n",
       "      <td>10</td>\n",
       "      <td>New customer</td>\n",
       "      <td>6.367797</td>\n",
       "      <td>Low spender</td>\n",
       "      <td>20.259259</td>\n",
       "      <td>Non-frequent customer</td>\n",
       "      <td>Linda</td>\n",
       "      <td>Nguyen</td>\n",
       "      <td>Female</td>\n",
       "      <td>Alabama</td>\n",
       "      <td>31</td>\n",
       "      <td>2/17/2019</td>\n",
       "      <td>3</td>\n",
       "      <td>married</td>\n",
       "      <td>40423</td>\n",
       "      <td>Southeast</td>\n",
       "    </tr>\n",
       "    <tr>\n",
       "      <th>1</th>\n",
       "      <td>2398795</td>\n",
       "      <td>1</td>\n",
       "      <td>2</td>\n",
       "      <td>3</td>\n",
       "      <td>7</td>\n",
       "      <td>15.0</td>\n",
       "      <td>0</td>\n",
       "      <td>196</td>\n",
       "      <td>1</td>\n",
       "      <td>1</td>\n",
       "      <td>Soda</td>\n",
       "      <td>77</td>\n",
       "      <td>7</td>\n",
       "      <td>9.0</td>\n",
       "      <td>Mid-range product</td>\n",
       "      <td>Least busy days</td>\n",
       "      <td>Least busy period</td>\n",
       "      <td>Fewest orders</td>\n",
       "      <td>10</td>\n",
       "      <td>New customer</td>\n",
       "      <td>6.367797</td>\n",
       "      <td>Low spender</td>\n",
       "      <td>20.259259</td>\n",
       "      <td>Non-frequent customer</td>\n",
       "      <td>Linda</td>\n",
       "      <td>Nguyen</td>\n",
       "      <td>Female</td>\n",
       "      <td>Alabama</td>\n",
       "      <td>31</td>\n",
       "      <td>2/17/2019</td>\n",
       "      <td>3</td>\n",
       "      <td>married</td>\n",
       "      <td>40423</td>\n",
       "      <td>Southeast</td>\n",
       "    </tr>\n",
       "    <tr>\n",
       "      <th>2</th>\n",
       "      <td>473747</td>\n",
       "      <td>1</td>\n",
       "      <td>3</td>\n",
       "      <td>3</td>\n",
       "      <td>12</td>\n",
       "      <td>21.0</td>\n",
       "      <td>0</td>\n",
       "      <td>196</td>\n",
       "      <td>1</td>\n",
       "      <td>1</td>\n",
       "      <td>Soda</td>\n",
       "      <td>77</td>\n",
       "      <td>7</td>\n",
       "      <td>9.0</td>\n",
       "      <td>Mid-range product</td>\n",
       "      <td>Least busy days</td>\n",
       "      <td>Busiest period</td>\n",
       "      <td>Most orders</td>\n",
       "      <td>10</td>\n",
       "      <td>New customer</td>\n",
       "      <td>6.367797</td>\n",
       "      <td>Low spender</td>\n",
       "      <td>20.259259</td>\n",
       "      <td>Non-frequent customer</td>\n",
       "      <td>Linda</td>\n",
       "      <td>Nguyen</td>\n",
       "      <td>Female</td>\n",
       "      <td>Alabama</td>\n",
       "      <td>31</td>\n",
       "      <td>2/17/2019</td>\n",
       "      <td>3</td>\n",
       "      <td>married</td>\n",
       "      <td>40423</td>\n",
       "      <td>Southeast</td>\n",
       "    </tr>\n",
       "    <tr>\n",
       "      <th>3</th>\n",
       "      <td>2254736</td>\n",
       "      <td>1</td>\n",
       "      <td>4</td>\n",
       "      <td>4</td>\n",
       "      <td>7</td>\n",
       "      <td>29.0</td>\n",
       "      <td>0</td>\n",
       "      <td>196</td>\n",
       "      <td>1</td>\n",
       "      <td>1</td>\n",
       "      <td>Soda</td>\n",
       "      <td>77</td>\n",
       "      <td>7</td>\n",
       "      <td>9.0</td>\n",
       "      <td>Mid-range product</td>\n",
       "      <td>Least busy days</td>\n",
       "      <td>Least busy period</td>\n",
       "      <td>Fewest orders</td>\n",
       "      <td>10</td>\n",
       "      <td>New customer</td>\n",
       "      <td>6.367797</td>\n",
       "      <td>Low spender</td>\n",
       "      <td>20.259259</td>\n",
       "      <td>Non-frequent customer</td>\n",
       "      <td>Linda</td>\n",
       "      <td>Nguyen</td>\n",
       "      <td>Female</td>\n",
       "      <td>Alabama</td>\n",
       "      <td>31</td>\n",
       "      <td>2/17/2019</td>\n",
       "      <td>3</td>\n",
       "      <td>married</td>\n",
       "      <td>40423</td>\n",
       "      <td>Southeast</td>\n",
       "    </tr>\n",
       "    <tr>\n",
       "      <th>4</th>\n",
       "      <td>431534</td>\n",
       "      <td>1</td>\n",
       "      <td>5</td>\n",
       "      <td>4</td>\n",
       "      <td>15</td>\n",
       "      <td>28.0</td>\n",
       "      <td>0</td>\n",
       "      <td>196</td>\n",
       "      <td>1</td>\n",
       "      <td>1</td>\n",
       "      <td>Soda</td>\n",
       "      <td>77</td>\n",
       "      <td>7</td>\n",
       "      <td>9.0</td>\n",
       "      <td>Mid-range product</td>\n",
       "      <td>Least busy days</td>\n",
       "      <td>Busiest period</td>\n",
       "      <td>Most orders</td>\n",
       "      <td>10</td>\n",
       "      <td>New customer</td>\n",
       "      <td>6.367797</td>\n",
       "      <td>Low spender</td>\n",
       "      <td>20.259259</td>\n",
       "      <td>Non-frequent customer</td>\n",
       "      <td>Linda</td>\n",
       "      <td>Nguyen</td>\n",
       "      <td>Female</td>\n",
       "      <td>Alabama</td>\n",
       "      <td>31</td>\n",
       "      <td>2/17/2019</td>\n",
       "      <td>3</td>\n",
       "      <td>married</td>\n",
       "      <td>40423</td>\n",
       "      <td>Southeast</td>\n",
       "    </tr>\n",
       "  </tbody>\n",
       "</table>\n",
       "</div>"
      ],
      "text/plain": [
       "   order_id  user_id  order_number  order_day_of_week  order_hour_of_day  days_since_prior_order  new_customer  product_id  add_to_cart_order  reordered product_name  aisle_id  department_id  prices    price_range_loc     busiest days     busiest period busiest_period_of_day  max_order  loyalty_flag  Avg_price_paid Spending_flag  Avg_days_since_order         Frequency_flag First Name Surname  Gender    State  Age date_joined  Number_dependants family_status  income     Region\n",
       "0   2539329        1             1                  2                  8                     NaN             1         196                  1          0         Soda        77              7     9.0  Mid-range product   Regularly busy     Busiest period           Most orders         10  New customer        6.367797   Low spender             20.259259  Non-frequent customer      Linda  Nguyen  Female  Alabama   31   2/17/2019                  3       married   40423  Southeast\n",
       "1   2398795        1             2                  3                  7                    15.0             0         196                  1          1         Soda        77              7     9.0  Mid-range product  Least busy days  Least busy period         Fewest orders         10  New customer        6.367797   Low spender             20.259259  Non-frequent customer      Linda  Nguyen  Female  Alabama   31   2/17/2019                  3       married   40423  Southeast\n",
       "2    473747        1             3                  3                 12                    21.0             0         196                  1          1         Soda        77              7     9.0  Mid-range product  Least busy days     Busiest period           Most orders         10  New customer        6.367797   Low spender             20.259259  Non-frequent customer      Linda  Nguyen  Female  Alabama   31   2/17/2019                  3       married   40423  Southeast\n",
       "3   2254736        1             4                  4                  7                    29.0             0         196                  1          1         Soda        77              7     9.0  Mid-range product  Least busy days  Least busy period         Fewest orders         10  New customer        6.367797   Low spender             20.259259  Non-frequent customer      Linda  Nguyen  Female  Alabama   31   2/17/2019                  3       married   40423  Southeast\n",
       "4    431534        1             5                  4                 15                    28.0             0         196                  1          1         Soda        77              7     9.0  Mid-range product  Least busy days     Busiest period           Most orders         10  New customer        6.367797   Low spender             20.259259  Non-frequent customer      Linda  Nguyen  Female  Alabama   31   2/17/2019                  3       married   40423  Southeast"
      ]
     },
     "execution_count": 19,
     "metadata": {},
     "output_type": "execute_result"
    }
   ],
   "source": [
    "df_ords_prods_customers.head()"
   ]
  },
  {
   "cell_type": "code",
   "execution_count": 20,
   "id": "0c8da775",
   "metadata": {},
   "outputs": [
    {
     "data": {
      "text/plain": [
       "Region         Spending_flag\n",
       "Mid-Atlantic   High spender       65066\n",
       "               Low spender      3069822\n",
       "Mountain West  High spender       72499\n",
       "               Low spender      3539869\n",
       "New England    High spender       56784\n",
       "               Low spender      2639713\n",
       "North Central  High spender       60376\n",
       "               Low spender      2626237\n",
       "Plains         High spender       61400\n",
       "               Low spender      3098239\n",
       "South Central  High spender       48932\n",
       "               Low spender      2668873\n",
       "Southeast      High spender       55061\n",
       "               Low spender      2687330\n",
       "West Coast     High spender       48881\n",
       "               Low spender      2246489\n",
       "Name: Spending_flag, dtype: int64"
      ]
     },
     "execution_count": 20,
     "metadata": {},
     "output_type": "execute_result"
    }
   ],
   "source": [
    "df_grouped_by_region"
   ]
  },
  {
   "cell_type": "code",
   "execution_count": 21,
   "id": "831ca749",
   "metadata": {},
   "outputs": [],
   "source": [
    "# Create a new DataFrame to store the results\n",
    "df_spending_region = df_ords_prods_customers[['Region','Spending_flag']]"
   ]
  },
  {
   "cell_type": "code",
   "execution_count": 22,
   "id": "e59bf64a",
   "metadata": {},
   "outputs": [],
   "source": [
    "# Finding value count for customers, and high and low spenders in each region\n",
    "regions = df_ords_prods_customers['Region'].unique()"
   ]
  },
  {
   "cell_type": "code",
   "execution_count": 23,
   "id": "ab6544ad",
   "metadata": {},
   "outputs": [],
   "source": [
    "region_counts = df_ords_prods_customers['Region'].value_counts()"
   ]
  },
  {
   "cell_type": "code",
   "execution_count": 24,
   "id": "6b0ef290",
   "metadata": {},
   "outputs": [
    {
     "data": {
      "text/plain": [
       "Region\n",
       "Mountain West    3612368\n",
       "Plains           3159639\n",
       "Mid-Atlantic     3134888\n",
       "Southeast        2742391\n",
       "South Central    2717805\n",
       "New England      2696497\n",
       "North Central    2686613\n",
       "West Coast       2295370\n",
       "Name: count, dtype: int64"
      ]
     },
     "execution_count": 24,
     "metadata": {},
     "output_type": "execute_result"
    }
   ],
   "source": [
    "region_counts"
   ]
  },
  {
   "cell_type": "code",
   "execution_count": 25,
   "id": "e963ffcd",
   "metadata": {},
   "outputs": [
    {
     "data": {
      "text/plain": [
       "Region\n",
       "Mountain West    15.674890\n",
       "Plains           13.710396\n",
       "Mid-Atlantic     13.602996\n",
       "Southeast        11.899861\n",
       "South Central    11.793177\n",
       "New England      11.700717\n",
       "North Central    11.657828\n",
       "West Coast        9.960135\n",
       "Name: count, dtype: float64"
      ]
     },
     "execution_count": 25,
     "metadata": {},
     "output_type": "execute_result"
    }
   ],
   "source": [
    "# Calculating regional percentages\n",
    "region_counts = df_ords_prods_customers['Region'].value_counts()\n",
    "\n",
    "# Calculate the total count of all regions\n",
    "total_count = region_counts.sum()\n",
    "\n",
    "# Calculate the percentage for each region\n",
    "region_percentages = (region_counts / total_count) * 100\n",
    "\n",
    "region_percentages"
   ]
  },
  {
   "cell_type": "code",
   "execution_count": 26,
   "id": "1d1652b9",
   "metadata": {},
   "outputs": [],
   "source": [
    "lows = []\n",
    "highs = []"
   ]
  },
  {
   "cell_type": "code",
   "execution_count": 27,
   "id": "edf474a7",
   "metadata": {},
   "outputs": [
    {
     "name": "stdout",
     "output_type": "stream",
     "text": [
      "Southeast\n",
      "0.9799222649140841\n",
      "0.020077735085915902\n",
      "\n",
      "North Central\n",
      "0.9775270945238484\n",
      "0.02247290547615157\n",
      "\n",
      "South Central\n",
      "0.9819957649647417\n",
      "0.01800423503525823\n",
      "\n",
      "Mountain West\n",
      "0.9799303393231255\n",
      "0.02006966067687456\n",
      "\n",
      "Plains\n",
      "0.9805674002631313\n",
      "0.019432599736868676\n",
      "\n",
      "New England\n",
      "0.9789415675226043\n",
      "0.021058432477395674\n",
      "\n",
      "West Coast\n",
      "0.9787045225824159\n",
      "0.021295477417584092\n",
      "\n",
      "Mid-Atlantic\n",
      "0.9792445535534284\n",
      "0.020755446446571617\n",
      "\n"
     ]
    }
   ],
   "source": [
    "for region in regions:\n",
    "    region_df = df_spending_region.loc[df_spending_region['Region']==region]\n",
    "    counts = region_df['Spending_flag'].value_counts()\n",
    "    total = counts.sum()\n",
    "    low = counts['Low spender']\n",
    "    high = counts['High spender']\n",
    "    low_pct = low/total\n",
    "    high_pct = high/total\n",
    "    lows.append(low_pct)\n",
    "    highs.append(high_pct)\n",
    "    print(region)\n",
    "    print(low_pct)\n",
    "    print(high_pct)\n",
    "    print()"
   ]
  },
  {
   "cell_type": "code",
   "execution_count": 28,
   "id": "59403166",
   "metadata": {},
   "outputs": [],
   "source": [
    "percentage_df = pd.DataFrame({'Region':regions, 'Low spender pct': lows, 'High spender pct': highs})"
   ]
  },
  {
   "cell_type": "code",
   "execution_count": 29,
   "id": "a2871d59",
   "metadata": {},
   "outputs": [
    {
     "data": {
      "text/html": [
       "<div>\n",
       "<style scoped>\n",
       "    .dataframe tbody tr th:only-of-type {\n",
       "        vertical-align: middle;\n",
       "    }\n",
       "\n",
       "    .dataframe tbody tr th {\n",
       "        vertical-align: top;\n",
       "    }\n",
       "\n",
       "    .dataframe thead th {\n",
       "        text-align: right;\n",
       "    }\n",
       "</style>\n",
       "<table border=\"1\" class=\"dataframe\">\n",
       "  <thead>\n",
       "    <tr style=\"text-align: right;\">\n",
       "      <th></th>\n",
       "      <th>Region</th>\n",
       "      <th>Low spender pct</th>\n",
       "      <th>High spender pct</th>\n",
       "    </tr>\n",
       "  </thead>\n",
       "  <tbody>\n",
       "    <tr>\n",
       "      <th>0</th>\n",
       "      <td>Southeast</td>\n",
       "      <td>0.979922</td>\n",
       "      <td>0.020078</td>\n",
       "    </tr>\n",
       "    <tr>\n",
       "      <th>1</th>\n",
       "      <td>North Central</td>\n",
       "      <td>0.977527</td>\n",
       "      <td>0.022473</td>\n",
       "    </tr>\n",
       "    <tr>\n",
       "      <th>2</th>\n",
       "      <td>South Central</td>\n",
       "      <td>0.981996</td>\n",
       "      <td>0.018004</td>\n",
       "    </tr>\n",
       "    <tr>\n",
       "      <th>3</th>\n",
       "      <td>Mountain West</td>\n",
       "      <td>0.979930</td>\n",
       "      <td>0.020070</td>\n",
       "    </tr>\n",
       "    <tr>\n",
       "      <th>4</th>\n",
       "      <td>Plains</td>\n",
       "      <td>0.980567</td>\n",
       "      <td>0.019433</td>\n",
       "    </tr>\n",
       "    <tr>\n",
       "      <th>5</th>\n",
       "      <td>New England</td>\n",
       "      <td>0.978942</td>\n",
       "      <td>0.021058</td>\n",
       "    </tr>\n",
       "    <tr>\n",
       "      <th>6</th>\n",
       "      <td>West Coast</td>\n",
       "      <td>0.978705</td>\n",
       "      <td>0.021295</td>\n",
       "    </tr>\n",
       "    <tr>\n",
       "      <th>7</th>\n",
       "      <td>Mid-Atlantic</td>\n",
       "      <td>0.979245</td>\n",
       "      <td>0.020755</td>\n",
       "    </tr>\n",
       "  </tbody>\n",
       "</table>\n",
       "</div>"
      ],
      "text/plain": [
       "          Region  Low spender pct  High spender pct\n",
       "0      Southeast         0.979922          0.020078\n",
       "1  North Central         0.977527          0.022473\n",
       "2  South Central         0.981996          0.018004\n",
       "3  Mountain West         0.979930          0.020070\n",
       "4         Plains         0.980567          0.019433\n",
       "5    New England         0.978942          0.021058\n",
       "6     West Coast         0.978705          0.021295\n",
       "7   Mid-Atlantic         0.979245          0.020755"
      ]
     },
     "execution_count": 29,
     "metadata": {},
     "output_type": "execute_result"
    }
   ],
   "source": [
    "percentage_df"
   ]
  },
  {
   "cell_type": "code",
   "execution_count": 30,
   "id": "84e4ec49",
   "metadata": {},
   "outputs": [
    {
     "data": {
      "text/plain": [
       "[0.020077735085915902,\n",
       " 0.02247290547615157,\n",
       " 0.01800423503525823,\n",
       " 0.02006966067687456,\n",
       " 0.019432599736868676,\n",
       " 0.021058432477395674,\n",
       " 0.021295477417584092,\n",
       " 0.020755446446571617]"
      ]
     },
     "execution_count": 30,
     "metadata": {},
     "output_type": "execute_result"
    }
   ],
   "source": [
    "highs"
   ]
  },
  {
   "cell_type": "code",
   "execution_count": 31,
   "id": "8da06210",
   "metadata": {},
   "outputs": [
    {
     "data": {
      "text/plain": [
       "array(['Southeast', 'North Central', 'South Central', 'Mountain West',\n",
       "       'Plains', 'New England', 'West Coast', 'Mid-Atlantic'],\n",
       "      dtype=object)"
      ]
     },
     "execution_count": 31,
     "metadata": {},
     "output_type": "execute_result"
    }
   ],
   "source": [
    "regions"
   ]
  },
  {
   "cell_type": "code",
   "execution_count": 32,
   "id": "982443fe",
   "metadata": {},
   "outputs": [],
   "source": [
    "# Finding the standard deviation of high spender percentage\n",
    "standard_deviation = percentage_df['High spender pct'].std()"
   ]
  },
  {
   "cell_type": "code",
   "execution_count": 33,
   "id": "58739307",
   "metadata": {},
   "outputs": [
    {
     "name": "stdout",
     "output_type": "stream",
     "text": [
      "Standard Deviation: 0.0013388205819980519\n"
     ]
    }
   ],
   "source": [
    "print(\"Standard Deviation:\", standard_deviation)"
   ]
  },
  {
   "cell_type": "code",
   "execution_count": 34,
   "id": "e52fea8d",
   "metadata": {},
   "outputs": [],
   "source": [
    "#Ordering regions by percentage of high spenders\n",
    "sorted_counts = percentage_df['High spender pct'].value_counts().sort_index(ascending=False)"
   ]
  },
  {
   "cell_type": "code",
   "execution_count": 35,
   "id": "5e2ca12b",
   "metadata": {},
   "outputs": [],
   "source": [
    "percentage_df = percentage_df.sort_values(by='High spender pct', ascending=False)"
   ]
  },
  {
   "cell_type": "code",
   "execution_count": 36,
   "id": "81ad9230",
   "metadata": {},
   "outputs": [
    {
     "data": {
      "text/plain": [
       "<Axes: xlabel='High spender pct'>"
      ]
     },
     "execution_count": 36,
     "metadata": {},
     "output_type": "execute_result"
    },
    {
     "data": {
      "image/png": "[encoded data removed]",
      "text/plain": [
       "<Figure size 640x480 with 1 Axes>"
      ]
     },
     "metadata": {},
     "output_type": "display_data"
    }
   ],
   "source": [
    "# Creating descending bar chart\n",
    "sorted_counts.plot(kind='bar')"
   ]
  },
  {
   "cell_type": "code",
   "execution_count": 37,
   "id": "00fceb2f",
   "metadata": {},
   "outputs": [
    {
     "data": {
      "image/png": "[encoded data removed]",
      "text/plain": [
       "<Figure size 1000x600 with 1 Axes>"
      ]
     },
     "metadata": {},
     "output_type": "display_data"
    }
   ],
   "source": [
    "# Revising the chart for better readability\n",
    "fake = pd.DataFrame({'cat': ['North Central', 'West Coast', 'New England', 'Mid-Atlantic', 'Southeast', 'Mountain West', 'Plains', 'South Central'], 'val': [2.27, 2.15, 2.12, 2.10, 2.03, 2.03, 1.96, 1.82]})\n",
    "\n",
    "# Set the figure size to ensure all titles and labels are visible\n",
    "plt.figure(figsize=(10, 6))  \n",
    "\n",
    "# Create the bar chart\n",
    "ax = sns.barplot(x='val', y='cat', data=fake, color='blue')\n",
    "ax.set_xlabel(\"High Spender Percent\")\n",
    "ax.set_ylabel(\"Regions\")\n",
    "ax.set_yticklabels(['North Central', 'West Coast', 'New England', 'Mid-Atlantic', 'Southeast', 'Mountain West', 'Plains', 'South Central'])\n",
    "\n",
    "# Specify the path and filename\n",
    "path = r'/Users/davidmsimpson/20230907 Instacart Basket Analysis'\n",
    "filename = 'High_spenders_by_region.png'\n",
    "\n",
    "# Save the chart\n",
    "plt.savefig(os.path.join(path, '04 Analysis', 'Visualizations', 'High_spenders_by_region.png'))\n",
    "\n",
    "plt.show()\n"
   ]
  },
  {
   "cell_type": "markdown",
   "id": "d7bb7fd7",
   "metadata": {},
   "source": [
    "### Part 1, # 3 conclusion: There is very little difference in the percentage of high spenders depending on region; the standard deviation by region is .00135, which shows no significant variation."
   ]
  },
  {
   "cell_type": "markdown",
   "id": "e8694250",
   "metadata": {},
   "source": [
    "## Part 1, # 4: Create exclusion flag for low-activity customers"
   ]
  },
  {
   "cell_type": "code",
   "execution_count": 38,
   "id": "fb26f966",
   "metadata": {},
   "outputs": [],
   "source": [
    "# Creating exclusion flag\n",
    "df_ords_prods_customers['exclusion_flag'] = df_ords_prods_customers['max_order'] < 5"
   ]
  },
  {
   "cell_type": "code",
   "execution_count": 39,
   "id": "d2cb942d",
   "metadata": {},
   "outputs": [],
   "source": [
    "df_ords_prods_customers['exclusion_flag'] = df_ords_prods_customers['exclusion_flag'].map({True: 'Yes', False: 'No'})"
   ]
  },
  {
   "cell_type": "code",
   "execution_count": 40,
   "id": "9bac0445",
   "metadata": {},
   "outputs": [],
   "source": [
    "# Creating df without low-activity customers\n",
    "df_ords_prods_customers_filtered = df_ords_prods_customers[df_ords_prods_customers['exclusion_flag'] != 'Yes']"
   ]
  },
  {
   "cell_type": "code",
   "execution_count": 41,
   "id": "f90792d7",
   "metadata": {
    "scrolled": true
   },
   "outputs": [
    {
     "data": {
      "text/html": [
       "<div>\n",
       "<style scoped>\n",
       "    .dataframe tbody tr th:only-of-type {\n",
       "        vertical-align: middle;\n",
       "    }\n",
       "\n",
       "    .dataframe tbody tr th {\n",
       "        vertical-align: top;\n",
       "    }\n",
       "\n",
       "    .dataframe thead th {\n",
       "        text-align: right;\n",
       "    }\n",
       "</style>\n",
       "<table border=\"1\" class=\"dataframe\">\n",
       "  <thead>\n",
       "    <tr style=\"text-align: right;\">\n",
       "      <th></th>\n",
       "      <th>order_id</th>\n",
       "      <th>user_id</th>\n",
       "      <th>order_number</th>\n",
       "      <th>order_day_of_week</th>\n",
       "      <th>order_hour_of_day</th>\n",
       "      <th>days_since_prior_order</th>\n",
       "      <th>new_customer</th>\n",
       "      <th>product_id</th>\n",
       "      <th>add_to_cart_order</th>\n",
       "      <th>reordered</th>\n",
       "      <th>product_name</th>\n",
       "      <th>aisle_id</th>\n",
       "      <th>department_id</th>\n",
       "      <th>prices</th>\n",
       "      <th>price_range_loc</th>\n",
       "      <th>busiest days</th>\n",
       "      <th>busiest period</th>\n",
       "      <th>busiest_period_of_day</th>\n",
       "      <th>max_order</th>\n",
       "      <th>loyalty_flag</th>\n",
       "      <th>Avg_price_paid</th>\n",
       "      <th>Spending_flag</th>\n",
       "      <th>Avg_days_since_order</th>\n",
       "      <th>Frequency_flag</th>\n",
       "      <th>First Name</th>\n",
       "      <th>Surname</th>\n",
       "      <th>Gender</th>\n",
       "      <th>State</th>\n",
       "      <th>Age</th>\n",
       "      <th>date_joined</th>\n",
       "      <th>Number_dependants</th>\n",
       "      <th>family_status</th>\n",
       "      <th>income</th>\n",
       "      <th>Region</th>\n",
       "      <th>exclusion_flag</th>\n",
       "    </tr>\n",
       "  </thead>\n",
       "  <tbody>\n",
       "    <tr>\n",
       "      <th>0</th>\n",
       "      <td>2539329</td>\n",
       "      <td>1</td>\n",
       "      <td>1</td>\n",
       "      <td>2</td>\n",
       "      <td>8</td>\n",
       "      <td>NaN</td>\n",
       "      <td>1</td>\n",
       "      <td>196</td>\n",
       "      <td>1</td>\n",
       "      <td>0</td>\n",
       "      <td>Soda</td>\n",
       "      <td>77</td>\n",
       "      <td>7</td>\n",
       "      <td>9.0</td>\n",
       "      <td>Mid-range product</td>\n",
       "      <td>Regularly busy</td>\n",
       "      <td>Busiest period</td>\n",
       "      <td>Most orders</td>\n",
       "      <td>10</td>\n",
       "      <td>New customer</td>\n",
       "      <td>6.367797</td>\n",
       "      <td>Low spender</td>\n",
       "      <td>20.259259</td>\n",
       "      <td>Non-frequent customer</td>\n",
       "      <td>Linda</td>\n",
       "      <td>Nguyen</td>\n",
       "      <td>Female</td>\n",
       "      <td>Alabama</td>\n",
       "      <td>31</td>\n",
       "      <td>2/17/2019</td>\n",
       "      <td>3</td>\n",
       "      <td>married</td>\n",
       "      <td>40423</td>\n",
       "      <td>Southeast</td>\n",
       "      <td>No</td>\n",
       "    </tr>\n",
       "    <tr>\n",
       "      <th>1</th>\n",
       "      <td>2398795</td>\n",
       "      <td>1</td>\n",
       "      <td>2</td>\n",
       "      <td>3</td>\n",
       "      <td>7</td>\n",
       "      <td>15.0</td>\n",
       "      <td>0</td>\n",
       "      <td>196</td>\n",
       "      <td>1</td>\n",
       "      <td>1</td>\n",
       "      <td>Soda</td>\n",
       "      <td>77</td>\n",
       "      <td>7</td>\n",
       "      <td>9.0</td>\n",
       "      <td>Mid-range product</td>\n",
       "      <td>Least busy days</td>\n",
       "      <td>Least busy period</td>\n",
       "      <td>Fewest orders</td>\n",
       "      <td>10</td>\n",
       "      <td>New customer</td>\n",
       "      <td>6.367797</td>\n",
       "      <td>Low spender</td>\n",
       "      <td>20.259259</td>\n",
       "      <td>Non-frequent customer</td>\n",
       "      <td>Linda</td>\n",
       "      <td>Nguyen</td>\n",
       "      <td>Female</td>\n",
       "      <td>Alabama</td>\n",
       "      <td>31</td>\n",
       "      <td>2/17/2019</td>\n",
       "      <td>3</td>\n",
       "      <td>married</td>\n",
       "      <td>40423</td>\n",
       "      <td>Southeast</td>\n",
       "      <td>No</td>\n",
       "    </tr>\n",
       "    <tr>\n",
       "      <th>2</th>\n",
       "      <td>473747</td>\n",
       "      <td>1</td>\n",
       "      <td>3</td>\n",
       "      <td>3</td>\n",
       "      <td>12</td>\n",
       "      <td>21.0</td>\n",
       "      <td>0</td>\n",
       "      <td>196</td>\n",
       "      <td>1</td>\n",
       "      <td>1</td>\n",
       "      <td>Soda</td>\n",
       "      <td>77</td>\n",
       "      <td>7</td>\n",
       "      <td>9.0</td>\n",
       "      <td>Mid-range product</td>\n",
       "      <td>Least busy days</td>\n",
       "      <td>Busiest period</td>\n",
       "      <td>Most orders</td>\n",
       "      <td>10</td>\n",
       "      <td>New customer</td>\n",
       "      <td>6.367797</td>\n",
       "      <td>Low spender</td>\n",
       "      <td>20.259259</td>\n",
       "      <td>Non-frequent customer</td>\n",
       "      <td>Linda</td>\n",
       "      <td>Nguyen</td>\n",
       "      <td>Female</td>\n",
       "      <td>Alabama</td>\n",
       "      <td>31</td>\n",
       "      <td>2/17/2019</td>\n",
       "      <td>3</td>\n",
       "      <td>married</td>\n",
       "      <td>40423</td>\n",
       "      <td>Southeast</td>\n",
       "      <td>No</td>\n",
       "    </tr>\n",
       "    <tr>\n",
       "      <th>3</th>\n",
       "      <td>2254736</td>\n",
       "      <td>1</td>\n",
       "      <td>4</td>\n",
       "      <td>4</td>\n",
       "      <td>7</td>\n",
       "      <td>29.0</td>\n",
       "      <td>0</td>\n",
       "      <td>196</td>\n",
       "      <td>1</td>\n",
       "      <td>1</td>\n",
       "      <td>Soda</td>\n",
       "      <td>77</td>\n",
       "      <td>7</td>\n",
       "      <td>9.0</td>\n",
       "      <td>Mid-range product</td>\n",
       "      <td>Least busy days</td>\n",
       "      <td>Least busy period</td>\n",
       "      <td>Fewest orders</td>\n",
       "      <td>10</td>\n",
       "      <td>New customer</td>\n",
       "      <td>6.367797</td>\n",
       "      <td>Low spender</td>\n",
       "      <td>20.259259</td>\n",
       "      <td>Non-frequent customer</td>\n",
       "      <td>Linda</td>\n",
       "      <td>Nguyen</td>\n",
       "      <td>Female</td>\n",
       "      <td>Alabama</td>\n",
       "      <td>31</td>\n",
       "      <td>2/17/2019</td>\n",
       "      <td>3</td>\n",
       "      <td>married</td>\n",
       "      <td>40423</td>\n",
       "      <td>Southeast</td>\n",
       "      <td>No</td>\n",
       "    </tr>\n",
       "    <tr>\n",
       "      <th>4</th>\n",
       "      <td>431534</td>\n",
       "      <td>1</td>\n",
       "      <td>5</td>\n",
       "      <td>4</td>\n",
       "      <td>15</td>\n",
       "      <td>28.0</td>\n",
       "      <td>0</td>\n",
       "      <td>196</td>\n",
       "      <td>1</td>\n",
       "      <td>1</td>\n",
       "      <td>Soda</td>\n",
       "      <td>77</td>\n",
       "      <td>7</td>\n",
       "      <td>9.0</td>\n",
       "      <td>Mid-range product</td>\n",
       "      <td>Least busy days</td>\n",
       "      <td>Busiest period</td>\n",
       "      <td>Most orders</td>\n",
       "      <td>10</td>\n",
       "      <td>New customer</td>\n",
       "      <td>6.367797</td>\n",
       "      <td>Low spender</td>\n",
       "      <td>20.259259</td>\n",
       "      <td>Non-frequent customer</td>\n",
       "      <td>Linda</td>\n",
       "      <td>Nguyen</td>\n",
       "      <td>Female</td>\n",
       "      <td>Alabama</td>\n",
       "      <td>31</td>\n",
       "      <td>2/17/2019</td>\n",
       "      <td>3</td>\n",
       "      <td>married</td>\n",
       "      <td>40423</td>\n",
       "      <td>Southeast</td>\n",
       "      <td>No</td>\n",
       "    </tr>\n",
       "    <tr>\n",
       "      <th>...</th>\n",
       "      <td>...</td>\n",
       "      <td>...</td>\n",
       "      <td>...</td>\n",
       "      <td>...</td>\n",
       "      <td>...</td>\n",
       "      <td>...</td>\n",
       "      <td>...</td>\n",
       "      <td>...</td>\n",
       "      <td>...</td>\n",
       "      <td>...</td>\n",
       "      <td>...</td>\n",
       "      <td>...</td>\n",
       "      <td>...</td>\n",
       "      <td>...</td>\n",
       "      <td>...</td>\n",
       "      <td>...</td>\n",
       "      <td>...</td>\n",
       "      <td>...</td>\n",
       "      <td>...</td>\n",
       "      <td>...</td>\n",
       "      <td>...</td>\n",
       "      <td>...</td>\n",
       "      <td>...</td>\n",
       "      <td>...</td>\n",
       "      <td>...</td>\n",
       "      <td>...</td>\n",
       "      <td>...</td>\n",
       "      <td>...</td>\n",
       "      <td>...</td>\n",
       "      <td>...</td>\n",
       "      <td>...</td>\n",
       "      <td>...</td>\n",
       "      <td>...</td>\n",
       "      <td>...</td>\n",
       "      <td>...</td>\n",
       "    </tr>\n",
       "    <tr>\n",
       "      <th>23049988</th>\n",
       "      <td>1219160</td>\n",
       "      <td>57909</td>\n",
       "      <td>3</td>\n",
       "      <td>2</td>\n",
       "      <td>14</td>\n",
       "      <td>1.0</td>\n",
       "      <td>0</td>\n",
       "      <td>32665</td>\n",
       "      <td>1</td>\n",
       "      <td>1</td>\n",
       "      <td>Organic Ezekiel 49 Bread Cinnamon Raisin</td>\n",
       "      <td>112</td>\n",
       "      <td>3</td>\n",
       "      <td>12.4</td>\n",
       "      <td>Mid-range product</td>\n",
       "      <td>Regularly busy</td>\n",
       "      <td>Busiest period</td>\n",
       "      <td>Most orders</td>\n",
       "      <td>5</td>\n",
       "      <td>New customer</td>\n",
       "      <td>12.400000</td>\n",
       "      <td>High spender</td>\n",
       "      <td>2.000000</td>\n",
       "      <td>Frequent customer</td>\n",
       "      <td>Frank</td>\n",
       "      <td>Howell</td>\n",
       "      <td>Male</td>\n",
       "      <td>New Hampshire</td>\n",
       "      <td>44</td>\n",
       "      <td>10/12/2017</td>\n",
       "      <td>3</td>\n",
       "      <td>married</td>\n",
       "      <td>157024</td>\n",
       "      <td>New England</td>\n",
       "      <td>No</td>\n",
       "    </tr>\n",
       "    <tr>\n",
       "      <th>23049989</th>\n",
       "      <td>2891581</td>\n",
       "      <td>57909</td>\n",
       "      <td>4</td>\n",
       "      <td>3</td>\n",
       "      <td>10</td>\n",
       "      <td>1.0</td>\n",
       "      <td>0</td>\n",
       "      <td>32665</td>\n",
       "      <td>1</td>\n",
       "      <td>1</td>\n",
       "      <td>Organic Ezekiel 49 Bread Cinnamon Raisin</td>\n",
       "      <td>112</td>\n",
       "      <td>3</td>\n",
       "      <td>12.4</td>\n",
       "      <td>Mid-range product</td>\n",
       "      <td>Least busy days</td>\n",
       "      <td>Busiest period</td>\n",
       "      <td>Most orders</td>\n",
       "      <td>5</td>\n",
       "      <td>New customer</td>\n",
       "      <td>12.400000</td>\n",
       "      <td>High spender</td>\n",
       "      <td>2.000000</td>\n",
       "      <td>Frequent customer</td>\n",
       "      <td>Frank</td>\n",
       "      <td>Howell</td>\n",
       "      <td>Male</td>\n",
       "      <td>New Hampshire</td>\n",
       "      <td>44</td>\n",
       "      <td>10/12/2017</td>\n",
       "      <td>3</td>\n",
       "      <td>married</td>\n",
       "      <td>157024</td>\n",
       "      <td>New England</td>\n",
       "      <td>No</td>\n",
       "    </tr>\n",
       "    <tr>\n",
       "      <th>23049990</th>\n",
       "      <td>3060811</td>\n",
       "      <td>57909</td>\n",
       "      <td>5</td>\n",
       "      <td>5</td>\n",
       "      <td>12</td>\n",
       "      <td>2.0</td>\n",
       "      <td>0</td>\n",
       "      <td>32665</td>\n",
       "      <td>1</td>\n",
       "      <td>1</td>\n",
       "      <td>Organic Ezekiel 49 Bread Cinnamon Raisin</td>\n",
       "      <td>112</td>\n",
       "      <td>3</td>\n",
       "      <td>12.4</td>\n",
       "      <td>Mid-range product</td>\n",
       "      <td>Regularly busy</td>\n",
       "      <td>Busiest period</td>\n",
       "      <td>Most orders</td>\n",
       "      <td>5</td>\n",
       "      <td>New customer</td>\n",
       "      <td>12.400000</td>\n",
       "      <td>High spender</td>\n",
       "      <td>2.000000</td>\n",
       "      <td>Frequent customer</td>\n",
       "      <td>Frank</td>\n",
       "      <td>Howell</td>\n",
       "      <td>Male</td>\n",
       "      <td>New Hampshire</td>\n",
       "      <td>44</td>\n",
       "      <td>10/12/2017</td>\n",
       "      <td>3</td>\n",
       "      <td>married</td>\n",
       "      <td>157024</td>\n",
       "      <td>New England</td>\n",
       "      <td>No</td>\n",
       "    </tr>\n",
       "    <tr>\n",
       "      <th>23049995</th>\n",
       "      <td>2543114</td>\n",
       "      <td>72486</td>\n",
       "      <td>2</td>\n",
       "      <td>0</td>\n",
       "      <td>10</td>\n",
       "      <td>30.0</td>\n",
       "      <td>0</td>\n",
       "      <td>46235</td>\n",
       "      <td>3</td>\n",
       "      <td>0</td>\n",
       "      <td>Darks Liquid Laundry Detergent</td>\n",
       "      <td>75</td>\n",
       "      <td>17</td>\n",
       "      <td>12.5</td>\n",
       "      <td>Mid-range product</td>\n",
       "      <td>Busiest days</td>\n",
       "      <td>Busiest period</td>\n",
       "      <td>Most orders</td>\n",
       "      <td>5</td>\n",
       "      <td>New customer</td>\n",
       "      <td>12.500000</td>\n",
       "      <td>High spender</td>\n",
       "      <td>22.000000</td>\n",
       "      <td>Non-frequent customer</td>\n",
       "      <td>Steven</td>\n",
       "      <td>Dunn</td>\n",
       "      <td>Male</td>\n",
       "      <td>Indiana</td>\n",
       "      <td>50</td>\n",
       "      <td>7/14/2019</td>\n",
       "      <td>2</td>\n",
       "      <td>married</td>\n",
       "      <td>162789</td>\n",
       "      <td>North Central</td>\n",
       "      <td>No</td>\n",
       "    </tr>\n",
       "    <tr>\n",
       "      <th>23049996</th>\n",
       "      <td>2876636</td>\n",
       "      <td>72486</td>\n",
       "      <td>5</td>\n",
       "      <td>0</td>\n",
       "      <td>13</td>\n",
       "      <td>14.0</td>\n",
       "      <td>0</td>\n",
       "      <td>46235</td>\n",
       "      <td>3</td>\n",
       "      <td>1</td>\n",
       "      <td>Darks Liquid Laundry Detergent</td>\n",
       "      <td>75</td>\n",
       "      <td>17</td>\n",
       "      <td>12.5</td>\n",
       "      <td>Mid-range product</td>\n",
       "      <td>Busiest days</td>\n",
       "      <td>Busiest period</td>\n",
       "      <td>Most orders</td>\n",
       "      <td>5</td>\n",
       "      <td>New customer</td>\n",
       "      <td>12.500000</td>\n",
       "      <td>High spender</td>\n",
       "      <td>22.000000</td>\n",
       "      <td>Non-frequent customer</td>\n",
       "      <td>Steven</td>\n",
       "      <td>Dunn</td>\n",
       "      <td>Male</td>\n",
       "      <td>Indiana</td>\n",
       "      <td>50</td>\n",
       "      <td>7/14/2019</td>\n",
       "      <td>2</td>\n",
       "      <td>married</td>\n",
       "      <td>162789</td>\n",
       "      <td>North Central</td>\n",
       "      <td>No</td>\n",
       "    </tr>\n",
       "  </tbody>\n",
       "</table>\n",
       "<p>22058386 rows × 35 columns</p>\n",
       "</div>"
      ],
      "text/plain": [
       "          order_id  user_id  order_number  order_day_of_week  order_hour_of_day  days_since_prior_order  new_customer  product_id  add_to_cart_order  reordered                              product_name  aisle_id  department_id  prices    price_range_loc     busiest days     busiest period busiest_period_of_day  max_order  loyalty_flag  Avg_price_paid Spending_flag  Avg_days_since_order         Frequency_flag First Name Surname  Gender          State  Age date_joined  Number_dependants family_status  income         Region exclusion_flag\n",
       "0          2539329        1             1                  2                  8                     NaN             1         196                  1          0                                      Soda        77              7     9.0  Mid-range product   Regularly busy     Busiest period           Most orders         10  New customer        6.367797   Low spender             20.259259  Non-frequent customer      Linda  Nguyen  Female        Alabama   31   2/17/2019                  3       married   40423      Southeast             No\n",
       "1          2398795        1             2                  3                  7                    15.0             0         196                  1          1                                      Soda        77              7     9.0  Mid-range product  Least busy days  Least busy period         Fewest orders         10  New customer        6.367797   Low spender             20.259259  Non-frequent customer      Linda  Nguyen  Female        Alabama   31   2/17/2019                  3       married   40423      Southeast             No\n",
       "2           473747        1             3                  3                 12                    21.0             0         196                  1          1                                      Soda        77              7     9.0  Mid-range product  Least busy days     Busiest period           Most orders         10  New customer        6.367797   Low spender             20.259259  Non-frequent customer      Linda  Nguyen  Female        Alabama   31   2/17/2019                  3       married   40423      Southeast             No\n",
       "3          2254736        1             4                  4                  7                    29.0             0         196                  1          1                                      Soda        77              7     9.0  Mid-range product  Least busy days  Least busy period         Fewest orders         10  New customer        6.367797   Low spender             20.259259  Non-frequent customer      Linda  Nguyen  Female        Alabama   31   2/17/2019                  3       married   40423      Southeast             No\n",
       "4           431534        1             5                  4                 15                    28.0             0         196                  1          1                                      Soda        77              7     9.0  Mid-range product  Least busy days     Busiest period           Most orders         10  New customer        6.367797   Low spender             20.259259  Non-frequent customer      Linda  Nguyen  Female        Alabama   31   2/17/2019                  3       married   40423      Southeast             No\n",
       "...            ...      ...           ...                ...                ...                     ...           ...         ...                ...        ...                                       ...       ...            ...     ...                ...              ...                ...                   ...        ...           ...             ...           ...                   ...                    ...        ...     ...     ...            ...  ...         ...                ...           ...     ...            ...            ...\n",
       "23049988   1219160    57909             3                  2                 14                     1.0             0       32665                  1          1  Organic Ezekiel 49 Bread Cinnamon Raisin       112              3    12.4  Mid-range product   Regularly busy     Busiest period           Most orders          5  New customer       12.400000  High spender              2.000000      Frequent customer      Frank  Howell    Male  New Hampshire   44  10/12/2017                  3       married  157024    New England             No\n",
       "23049989   2891581    57909             4                  3                 10                     1.0             0       32665                  1          1  Organic Ezekiel 49 Bread Cinnamon Raisin       112              3    12.4  Mid-range product  Least busy days     Busiest period           Most orders          5  New customer       12.400000  High spender              2.000000      Frequent customer      Frank  Howell    Male  New Hampshire   44  10/12/2017                  3       married  157024    New England             No\n",
       "23049990   3060811    57909             5                  5                 12                     2.0             0       32665                  1          1  Organic Ezekiel 49 Bread Cinnamon Raisin       112              3    12.4  Mid-range product   Regularly busy     Busiest period           Most orders          5  New customer       12.400000  High spender              2.000000      Frequent customer      Frank  Howell    Male  New Hampshire   44  10/12/2017                  3       married  157024    New England             No\n",
       "23049995   2543114    72486             2                  0                 10                    30.0             0       46235                  3          0            Darks Liquid Laundry Detergent        75             17    12.5  Mid-range product     Busiest days     Busiest period           Most orders          5  New customer       12.500000  High spender             22.000000  Non-frequent customer     Steven    Dunn    Male        Indiana   50   7/14/2019                  2       married  162789  North Central             No\n",
       "23049996   2876636    72486             5                  0                 13                    14.0             0       46235                  3          1            Darks Liquid Laundry Detergent        75             17    12.5  Mid-range product     Busiest days     Busiest period           Most orders          5  New customer       12.500000  High spender             22.000000  Non-frequent customer     Steven    Dunn    Male        Indiana   50   7/14/2019                  2       married  162789  North Central             No\n",
       "\n",
       "[22058386 rows x 35 columns]"
      ]
     },
     "execution_count": 41,
     "metadata": {},
     "output_type": "execute_result"
    }
   ],
   "source": [
    "# Checking new df\n",
    "df_ords_prods_customers_filtered"
   ]
  },
  {
   "cell_type": "markdown",
   "id": "8b21f58f",
   "metadata": {},
   "source": [
    "## Part 1, # 5: Creating customer profiles"
   ]
  },
  {
   "cell_type": "code",
   "execution_count": 42,
   "id": "4033915b",
   "metadata": {},
   "outputs": [
    {
     "data": {
      "text/plain": [
       "Number_dependants\n",
       "3    5539356\n",
       "0    5521949\n",
       "2    5504467\n",
       "1    5492614\n",
       "Name: count, dtype: int64"
      ]
     },
     "execution_count": 42,
     "metadata": {},
     "output_type": "execute_result"
    }
   ],
   "source": [
    "# Checking variable values\n",
    "df_ords_prods_customers_filtered['Number_dependants'].value_counts(dropna = False)"
   ]
  },
  {
   "cell_type": "code",
   "execution_count": 43,
   "id": "71fc4d32",
   "metadata": {},
   "outputs": [
    {
     "data": {
      "text/html": [
       "<div>\n",
       "<style scoped>\n",
       "    .dataframe tbody tr th:only-of-type {\n",
       "        vertical-align: middle;\n",
       "    }\n",
       "\n",
       "    .dataframe tbody tr th {\n",
       "        vertical-align: top;\n",
       "    }\n",
       "\n",
       "    .dataframe thead th {\n",
       "        text-align: right;\n",
       "    }\n",
       "</style>\n",
       "<table border=\"1\" class=\"dataframe\">\n",
       "  <thead>\n",
       "    <tr style=\"text-align: right;\">\n",
       "      <th></th>\n",
       "      <th>order_id</th>\n",
       "      <th>user_id</th>\n",
       "      <th>order_number</th>\n",
       "      <th>order_day_of_week</th>\n",
       "      <th>order_hour_of_day</th>\n",
       "      <th>days_since_prior_order</th>\n",
       "      <th>new_customer</th>\n",
       "      <th>product_id</th>\n",
       "      <th>add_to_cart_order</th>\n",
       "      <th>reordered</th>\n",
       "      <th>aisle_id</th>\n",
       "      <th>department_id</th>\n",
       "      <th>prices</th>\n",
       "      <th>max_order</th>\n",
       "      <th>Avg_price_paid</th>\n",
       "      <th>Avg_days_since_order</th>\n",
       "      <th>Age</th>\n",
       "      <th>Number_dependants</th>\n",
       "      <th>income</th>\n",
       "    </tr>\n",
       "  </thead>\n",
       "  <tbody>\n",
       "    <tr>\n",
       "      <th>count</th>\n",
       "      <td>2.205839e+07</td>\n",
       "      <td>2.205839e+07</td>\n",
       "      <td>2.205839e+07</td>\n",
       "      <td>2.205839e+07</td>\n",
       "      <td>2.205839e+07</td>\n",
       "      <td>2.089926e+07</td>\n",
       "      <td>2.205839e+07</td>\n",
       "      <td>2.205839e+07</td>\n",
       "      <td>2.205839e+07</td>\n",
       "      <td>2.205839e+07</td>\n",
       "      <td>2.205839e+07</td>\n",
       "      <td>2.205839e+07</td>\n",
       "      <td>2.205839e+07</td>\n",
       "      <td>2.205839e+07</td>\n",
       "      <td>2.205839e+07</td>\n",
       "      <td>2.205839e+07</td>\n",
       "      <td>2.205839e+07</td>\n",
       "      <td>2.205839e+07</td>\n",
       "      <td>2.205839e+07</td>\n",
       "    </tr>\n",
       "    <tr>\n",
       "      <th>mean</th>\n",
       "      <td>1.710392e+06</td>\n",
       "      <td>1.028940e+05</td>\n",
       "      <td>1.815608e+01</td>\n",
       "      <td>2.719391e+00</td>\n",
       "      <td>1.339647e+01</td>\n",
       "      <td>1.072648e+01</td>\n",
       "      <td>5.254800e-02</td>\n",
       "      <td>2.590671e+04</td>\n",
       "      <td>8.207924e+00</td>\n",
       "      <td>6.376890e-01</td>\n",
       "      <td>7.131143e+01</td>\n",
       "      <td>9.340828e+00</td>\n",
       "      <td>7.879858e+00</td>\n",
       "      <td>3.503252e+01</td>\n",
       "      <td>1.061435e+01</td>\n",
       "      <td>1.091100e+01</td>\n",
       "      <td>4.945739e+01</td>\n",
       "      <td>1.501452e+00</td>\n",
       "      <td>9.969301e+04</td>\n",
       "    </tr>\n",
       "    <tr>\n",
       "      <th>std</th>\n",
       "      <td>9.874029e+05</td>\n",
       "      <td>5.948388e+04</td>\n",
       "      <td>1.782815e+01</td>\n",
       "      <td>2.095681e+00</td>\n",
       "      <td>4.249023e+00</td>\n",
       "      <td>8.522422e+00</td>\n",
       "      <td>2.231294e-01</td>\n",
       "      <td>1.398619e+04</td>\n",
       "      <td>6.973507e+00</td>\n",
       "      <td>4.806680e-01</td>\n",
       "      <td>3.810602e+01</td>\n",
       "      <td>6.185997e+00</td>\n",
       "      <td>4.243317e+00</td>\n",
       "      <td>2.506276e+01</td>\n",
       "      <td>3.937407e+01</td>\n",
       "      <td>5.644655e+00</td>\n",
       "      <td>1.848638e+01</td>\n",
       "      <td>1.119334e+00</td>\n",
       "      <td>4.201224e+04</td>\n",
       "    </tr>\n",
       "    <tr>\n",
       "      <th>min</th>\n",
       "      <td>2.000000e+00</td>\n",
       "      <td>1.000000e+00</td>\n",
       "      <td>1.000000e+00</td>\n",
       "      <td>0.000000e+00</td>\n",
       "      <td>0.000000e+00</td>\n",
       "      <td>0.000000e+00</td>\n",
       "      <td>0.000000e+00</td>\n",
       "      <td>1.000000e+00</td>\n",
       "      <td>1.000000e+00</td>\n",
       "      <td>0.000000e+00</td>\n",
       "      <td>1.000000e+00</td>\n",
       "      <td>1.000000e+00</td>\n",
       "      <td>1.000000e+00</td>\n",
       "      <td>5.000000e+00</td>\n",
       "      <td>1.000000e+00</td>\n",
       "      <td>0.000000e+00</td>\n",
       "      <td>1.800000e+01</td>\n",
       "      <td>0.000000e+00</td>\n",
       "      <td>2.590300e+04</td>\n",
       "    </tr>\n",
       "    <tr>\n",
       "      <th>25%</th>\n",
       "      <td>8.553500e+05</td>\n",
       "      <td>5.131500e+04</td>\n",
       "      <td>5.000000e+00</td>\n",
       "      <td>1.000000e+00</td>\n",
       "      <td>1.000000e+01</td>\n",
       "      <td>5.000000e+00</td>\n",
       "      <td>0.000000e+00</td>\n",
       "      <td>1.391100e+04</td>\n",
       "      <td>3.000000e+00</td>\n",
       "      <td>0.000000e+00</td>\n",
       "      <td>2.400000e+01</td>\n",
       "      <td>4.000000e+00</td>\n",
       "      <td>4.400000e+00</td>\n",
       "      <td>1.500000e+01</td>\n",
       "      <td>7.428054e+00</td>\n",
       "      <td>6.733781e+00</td>\n",
       "      <td>3.300000e+01</td>\n",
       "      <td>0.000000e+00</td>\n",
       "      <td>6.783300e+04</td>\n",
       "    </tr>\n",
       "    <tr>\n",
       "      <th>50%</th>\n",
       "      <td>1.710464e+06</td>\n",
       "      <td>1.025130e+05</td>\n",
       "      <td>1.200000e+01</td>\n",
       "      <td>2.000000e+00</td>\n",
       "      <td>1.300000e+01</td>\n",
       "      <td>7.000000e+00</td>\n",
       "      <td>0.000000e+00</td>\n",
       "      <td>2.557900e+04</td>\n",
       "      <td>6.000000e+00</td>\n",
       "      <td>1.000000e+00</td>\n",
       "      <td>8.300000e+01</td>\n",
       "      <td>7.000000e+00</td>\n",
       "      <td>7.500000e+00</td>\n",
       "      <td>2.900000e+01</td>\n",
       "      <td>7.910600e+00</td>\n",
       "      <td>9.549451e+00</td>\n",
       "      <td>4.900000e+01</td>\n",
       "      <td>2.000000e+00</td>\n",
       "      <td>9.693900e+04</td>\n",
       "    </tr>\n",
       "    <tr>\n",
       "      <th>75%</th>\n",
       "      <td>2.565332e+06</td>\n",
       "      <td>1.543490e+05</td>\n",
       "      <td>2.500000e+01</td>\n",
       "      <td>5.000000e+00</td>\n",
       "      <td>1.600000e+01</td>\n",
       "      <td>1.400000e+01</td>\n",
       "      <td>0.000000e+00</td>\n",
       "      <td>3.829300e+04</td>\n",
       "      <td>1.100000e+01</td>\n",
       "      <td>1.000000e+00</td>\n",
       "      <td>1.070000e+02</td>\n",
       "      <td>1.600000e+01</td>\n",
       "      <td>1.130000e+01</td>\n",
       "      <td>4.900000e+01</td>\n",
       "      <td>8.382759e+00</td>\n",
       "      <td>1.420000e+01</td>\n",
       "      <td>6.500000e+01</td>\n",
       "      <td>3.000000e+00</td>\n",
       "      <td>1.280490e+05</td>\n",
       "    </tr>\n",
       "    <tr>\n",
       "      <th>max</th>\n",
       "      <td>3.421083e+06</td>\n",
       "      <td>2.062090e+05</td>\n",
       "      <td>9.900000e+01</td>\n",
       "      <td>6.000000e+00</td>\n",
       "      <td>2.300000e+01</td>\n",
       "      <td>3.000000e+01</td>\n",
       "      <td>1.000000e+00</td>\n",
       "      <td>4.968300e+04</td>\n",
       "      <td>1.430000e+02</td>\n",
       "      <td>1.000000e+00</td>\n",
       "      <td>1.340000e+02</td>\n",
       "      <td>2.100000e+01</td>\n",
       "      <td>2.500000e+01</td>\n",
       "      <td>9.900000e+01</td>\n",
       "      <td>4.974711e+03</td>\n",
       "      <td>3.000000e+01</td>\n",
       "      <td>8.100000e+01</td>\n",
       "      <td>3.000000e+00</td>\n",
       "      <td>5.939010e+05</td>\n",
       "    </tr>\n",
       "  </tbody>\n",
       "</table>\n",
       "</div>"
      ],
      "text/plain": [
       "           order_id       user_id  order_number  order_day_of_week  order_hour_of_day  days_since_prior_order  new_customer    product_id  add_to_cart_order     reordered      aisle_id  department_id        prices     max_order  Avg_price_paid  Avg_days_since_order           Age  Number_dependants        income\n",
       "count  2.205839e+07  2.205839e+07  2.205839e+07       2.205839e+07       2.205839e+07            2.089926e+07  2.205839e+07  2.205839e+07       2.205839e+07  2.205839e+07  2.205839e+07   2.205839e+07  2.205839e+07  2.205839e+07    2.205839e+07          2.205839e+07  2.205839e+07       2.205839e+07  2.205839e+07\n",
       "mean   1.710392e+06  1.028940e+05  1.815608e+01       2.719391e+00       1.339647e+01            1.072648e+01  5.254800e-02  2.590671e+04       8.207924e+00  6.376890e-01  7.131143e+01   9.340828e+00  7.879858e+00  3.503252e+01    1.061435e+01          1.091100e+01  4.945739e+01       1.501452e+00  9.969301e+04\n",
       "std    9.874029e+05  5.948388e+04  1.782815e+01       2.095681e+00       4.249023e+00            8.522422e+00  2.231294e-01  1.398619e+04       6.973507e+00  4.806680e-01  3.810602e+01   6.185997e+00  4.243317e+00  2.506276e+01    3.937407e+01          5.644655e+00  1.848638e+01       1.119334e+00  4.201224e+04\n",
       "min    2.000000e+00  1.000000e+00  1.000000e+00       0.000000e+00       0.000000e+00            0.000000e+00  0.000000e+00  1.000000e+00       1.000000e+00  0.000000e+00  1.000000e+00   1.000000e+00  1.000000e+00  5.000000e+00    1.000000e+00          0.000000e+00  1.800000e+01       0.000000e+00  2.590300e+04\n",
       "25%    8.553500e+05  5.131500e+04  5.000000e+00       1.000000e+00       1.000000e+01            5.000000e+00  0.000000e+00  1.391100e+04       3.000000e+00  0.000000e+00  2.400000e+01   4.000000e+00  4.400000e+00  1.500000e+01    7.428054e+00          6.733781e+00  3.300000e+01       0.000000e+00  6.783300e+04\n",
       "50%    1.710464e+06  1.025130e+05  1.200000e+01       2.000000e+00       1.300000e+01            7.000000e+00  0.000000e+00  2.557900e+04       6.000000e+00  1.000000e+00  8.300000e+01   7.000000e+00  7.500000e+00  2.900000e+01    7.910600e+00          9.549451e+00  4.900000e+01       2.000000e+00  9.693900e+04\n",
       "75%    2.565332e+06  1.543490e+05  2.500000e+01       5.000000e+00       1.600000e+01            1.400000e+01  0.000000e+00  3.829300e+04       1.100000e+01  1.000000e+00  1.070000e+02   1.600000e+01  1.130000e+01  4.900000e+01    8.382759e+00          1.420000e+01  6.500000e+01       3.000000e+00  1.280490e+05\n",
       "max    3.421083e+06  2.062090e+05  9.900000e+01       6.000000e+00       2.300000e+01            3.000000e+01  1.000000e+00  4.968300e+04       1.430000e+02  1.000000e+00  1.340000e+02   2.100000e+01  2.500000e+01  9.900000e+01    4.974711e+03          3.000000e+01  8.100000e+01       3.000000e+00  5.939010e+05"
      ]
     },
     "execution_count": 43,
     "metadata": {},
     "output_type": "execute_result"
    }
   ],
   "source": [
    "df_ords_prods_customers_filtered.describe()"
   ]
  },
  {
   "cell_type": "code",
   "execution_count": 44,
   "id": "6310bb24",
   "metadata": {},
   "outputs": [
    {
     "data": {
      "text/plain": [
       "family_status\n",
       "married                             15483056\n",
       "single                               3635584\n",
       "divorced/widowed                     1886365\n",
       "living with parents and siblings     1053381\n",
       "Name: count, dtype: int64"
      ]
     },
     "execution_count": 44,
     "metadata": {},
     "output_type": "execute_result"
    }
   ],
   "source": [
    "# Checking variable values\n",
    "df_ords_prods_customers_filtered['family_status'].value_counts(dropna = False)"
   ]
  },
  {
   "cell_type": "code",
   "execution_count": 45,
   "id": "427c210d",
   "metadata": {},
   "outputs": [],
   "source": [
    "# Calculate the counts for each category in the 'family status' column\n",
    "family_status_counts = df_ords_prods_customers_filtered['family_status'].value_counts()\n",
    "\n",
    "# Calculate the percentages\n",
    "family_status_percentages = (family_status_counts / family_status_counts.sum()) * 100"
   ]
  },
  {
   "cell_type": "code",
   "execution_count": 46,
   "id": "cac1f206",
   "metadata": {},
   "outputs": [
    {
     "data": {
      "text/plain": [
       "family_status\n",
       "married                             70.191246\n",
       "single                              16.481641\n",
       "divorced/widowed                     8.551691\n",
       "living with parents and siblings     4.775422\n",
       "Name: count, dtype: float64"
      ]
     },
     "execution_count": 46,
     "metadata": {},
     "output_type": "execute_result"
    }
   ],
   "source": [
    "family_status_percentages"
   ]
  },
  {
   "cell_type": "code",
   "execution_count": 47,
   "id": "b41b6232",
   "metadata": {},
   "outputs": [],
   "source": [
    "# Group the DataFrame by 'family status' and calculate the mean of 'Avg_price_paid'\n",
    "average_price_by_family_status = df_ords_prods_customers_filtered.groupby('family_status')['Avg_price_paid'].mean()"
   ]
  },
  {
   "cell_type": "code",
   "execution_count": 48,
   "id": "66ba2b85",
   "metadata": {},
   "outputs": [
    {
     "data": {
      "text/plain": [
       "family_status\n",
       "divorced/widowed                    10.905814\n",
       "living with parents and siblings    10.240286\n",
       "married                             10.704643\n",
       "single                              10.186966\n",
       "Name: Avg_price_paid, dtype: float64"
      ]
     },
     "execution_count": 48,
     "metadata": {},
     "output_type": "execute_result"
    }
   ],
   "source": [
    "average_price_by_family_status"
   ]
  },
  {
   "cell_type": "code",
   "execution_count": 49,
   "id": "bf3c9e1c",
   "metadata": {},
   "outputs": [
    {
     "name": "stderr",
     "output_type": "stream",
     "text": [
      "/var/folders/v0/xrbnqqfs3715z2hj7f5pvkf80000gn/T/ipykernel_2861/2378996070.py:2: SettingWithCopyWarning: \n",
      "A value is trying to be set on a copy of a slice from a DataFrame.\n",
      "Try using .loc[row_indexer,col_indexer] = value instead\n",
      "\n",
      "See the caveats in the documentation: https://pandas.pydata.org/pandas-docs/stable/user_guide/indexing.html#returning-a-view-versus-a-copy\n",
      "  df_ords_prods_customers_filtered['total_amount_paid'] = df_ords_prods_customers_filtered['prices'] * df_ords_prods_customers_filtered['order_number']\n"
     ]
    }
   ],
   "source": [
    "# Calculate the total amount paid for each order (price x order_number) using .loc\n",
    "df_ords_prods_customers_filtered['total_amount_paid'] = df_ords_prods_customers_filtered['prices'] * df_ords_prods_customers_filtered['order_number']\n",
    "\n",
    "# Group the DataFrame by 'family status' and 'user_id,' and calculate the sum of 'total_amount_paid'\n",
    "average_total_amount_by_family_status = df_ords_prods_customers_filtered.groupby(['family_status', 'user_id'])['total_amount_paid'].sum()\n",
    "\n",
    "# Group by 'family status' and calculate the mean of the sums for each user\n",
    "average_total_amount_by_family_status = average_total_amount_by_family_status.groupby('family_status').mean()"
   ]
  },
  {
   "cell_type": "code",
   "execution_count": 50,
   "id": "2eb60487",
   "metadata": {},
   "outputs": [
    {
     "data": {
      "text/plain": [
       "family_status\n",
       "divorced/widowed                    19837.272433\n",
       "living with parents and siblings    20218.047030\n",
       "married                             19413.272790\n",
       "single                              19604.864881\n",
       "Name: total_amount_paid, dtype: float64"
      ]
     },
     "execution_count": 50,
     "metadata": {},
     "output_type": "execute_result"
    }
   ],
   "source": [
    "average_total_amount_by_family_status"
   ]
  },
  {
   "cell_type": "code",
   "execution_count": 51,
   "id": "b38f4aea",
   "metadata": {},
   "outputs": [
    {
     "data": {
      "text/plain": [
       "Spending_flag\n",
       "Low spender     21625130\n",
       "High spender      433256\n",
       "Name: count, dtype: int64"
      ]
     },
     "execution_count": 51,
     "metadata": {},
     "output_type": "execute_result"
    }
   ],
   "source": [
    "# Checking variable values\n",
    "df_ords_prods_customers_filtered['Spending_flag'].value_counts(dropna = False)"
   ]
  },
  {
   "cell_type": "code",
   "execution_count": 52,
   "id": "80c79af6",
   "metadata": {},
   "outputs": [],
   "source": [
    "# Check Family status and Spending flag\n",
    "df_family_status_grouped_by_spending = df_ords_prods_customers_filtered.groupby(['family_status','Spending_flag'])['Spending_flag'].count()"
   ]
  },
  {
   "cell_type": "code",
   "execution_count": 53,
   "id": "b3169801",
   "metadata": {},
   "outputs": [],
   "source": [
    "# Check Family status flag and Spending flag\n",
    "df_family_status_grouped_by_spending = df_ords_prods_customers_filtered.groupby(['family_status','Spending_flag'])['Spending_flag'].count()"
   ]
  },
  {
   "cell_type": "code",
   "execution_count": 54,
   "id": "34e334f6",
   "metadata": {},
   "outputs": [],
   "source": [
    "# Create a new DataFrame to store the results\n",
    "df_family_status_results = pd.DataFrame(columns=['Low Spenders', 'High Spenders'])"
   ]
  },
  {
   "cell_type": "code",
   "execution_count": 55,
   "id": "baaeafe4",
   "metadata": {},
   "outputs": [],
   "source": [
    "# Calculate percentages within each income group\n",
    "df_family_status_results = df_family_status_grouped_by_spending.unstack().div(df_family_status_grouped_by_spending.unstack().sum(axis=1), axis=0).fillna(0)"
   ]
  },
  {
   "cell_type": "code",
   "execution_count": 56,
   "id": "8b2fc544",
   "metadata": {},
   "outputs": [],
   "source": [
    "# Rename the columns\n",
    "df_family_status_results.columns = ['High Spenders', 'Low Spenders']"
   ]
  },
  {
   "cell_type": "code",
   "execution_count": 57,
   "id": "d9821485",
   "metadata": {},
   "outputs": [],
   "source": [
    "df_family_status_results *= 100"
   ]
  },
  {
   "cell_type": "code",
   "execution_count": 58,
   "id": "d8d51c43",
   "metadata": {},
   "outputs": [],
   "source": [
    "# Sort the DataFrame by the first column in descending order\n",
    "df_family_status_results = df_family_status_results.sort_values(by='High Spenders', ascending=False)\n"
   ]
  },
  {
   "cell_type": "code",
   "execution_count": 59,
   "id": "ff6104cd",
   "metadata": {},
   "outputs": [
    {
     "data": {
      "text/html": [
       "<div>\n",
       "<style scoped>\n",
       "    .dataframe tbody tr th:only-of-type {\n",
       "        vertical-align: middle;\n",
       "    }\n",
       "\n",
       "    .dataframe tbody tr th {\n",
       "        vertical-align: top;\n",
       "    }\n",
       "\n",
       "    .dataframe thead th {\n",
       "        text-align: right;\n",
       "    }\n",
       "</style>\n",
       "<table border=\"1\" class=\"dataframe\">\n",
       "  <thead>\n",
       "    <tr style=\"text-align: right;\">\n",
       "      <th></th>\n",
       "      <th>High Spenders</th>\n",
       "      <th>Low Spenders</th>\n",
       "    </tr>\n",
       "    <tr>\n",
       "      <th>family_status</th>\n",
       "      <th></th>\n",
       "      <th></th>\n",
       "    </tr>\n",
       "  </thead>\n",
       "  <tbody>\n",
       "    <tr>\n",
       "      <th>married</th>\n",
       "      <td>1.990040</td>\n",
       "      <td>98.009960</td>\n",
       "    </tr>\n",
       "    <tr>\n",
       "      <th>single</th>\n",
       "      <td>1.932372</td>\n",
       "      <td>98.067628</td>\n",
       "    </tr>\n",
       "    <tr>\n",
       "      <th>living with parents and siblings</th>\n",
       "      <td>1.876814</td>\n",
       "      <td>98.123186</td>\n",
       "    </tr>\n",
       "    <tr>\n",
       "      <th>divorced/widowed</th>\n",
       "      <td>1.861464</td>\n",
       "      <td>98.138536</td>\n",
       "    </tr>\n",
       "  </tbody>\n",
       "</table>\n",
       "</div>"
      ],
      "text/plain": [
       "                                  High Spenders  Low Spenders\n",
       "family_status                                                \n",
       "married                                1.990040     98.009960\n",
       "single                                 1.932372     98.067628\n",
       "living with parents and siblings       1.876814     98.123186\n",
       "divorced/widowed                       1.861464     98.138536"
      ]
     },
     "execution_count": 59,
     "metadata": {},
     "output_type": "execute_result"
    }
   ],
   "source": [
    "df_family_status_results"
   ]
  },
  {
   "cell_type": "markdown",
   "id": "868ba9a7",
   "metadata": {},
   "source": [
    "#### Creating Age flag"
   ]
  },
  {
   "cell_type": "code",
   "execution_count": 60,
   "id": "e1e32ca4",
   "metadata": {},
   "outputs": [
    {
     "name": "stderr",
     "output_type": "stream",
     "text": [
      "/var/folders/v0/xrbnqqfs3715z2hj7f5pvkf80000gn/T/ipykernel_2861/3983078904.py:2: SettingWithCopyWarning: \n",
      "A value is trying to be set on a copy of a slice from a DataFrame.\n",
      "Try using .loc[row_indexer,col_indexer] = value instead\n",
      "\n",
      "See the caveats in the documentation: https://pandas.pydata.org/pandas-docs/stable/user_guide/indexing.html#returning-a-view-versus-a-copy\n",
      "  df_ords_prods_customers_filtered.loc[df_ords_prods_customers_filtered['Age'] <= 39, 'Age_flag'] = 'Younger'\n"
     ]
    }
   ],
   "source": [
    "# Creating Age flag\n",
    "df_ords_prods_customers_filtered.loc[df_ords_prods_customers_filtered['Age'] <= 39, 'Age_flag'] = 'Younger'"
   ]
  },
  {
   "cell_type": "code",
   "execution_count": 61,
   "id": "1343462b",
   "metadata": {},
   "outputs": [],
   "source": [
    "df_ords_prods_customers_filtered.loc[(df_ords_prods_customers_filtered['Age'] >= 40) & (df_ords_prods_customers_filtered['Age'] <= 60), 'Age_flag'] = 'Middle Age'"
   ]
  },
  {
   "cell_type": "code",
   "execution_count": 62,
   "id": "ee01dac8",
   "metadata": {},
   "outputs": [],
   "source": [
    "df_ords_prods_customers_filtered.loc[df_ords_prods_customers_filtered['Age'] > 60, 'Age_flag'] = 'Older'"
   ]
  },
  {
   "cell_type": "code",
   "execution_count": 63,
   "id": "49b086b2",
   "metadata": {
    "scrolled": true
   },
   "outputs": [
    {
     "data": {
      "text/plain": [
       "Age_flag\n",
       "Younger       7606244\n",
       "Middle Age    7250242\n",
       "Older         7201900\n",
       "Name: count, dtype: int64"
      ]
     },
     "execution_count": 63,
     "metadata": {},
     "output_type": "execute_result"
    }
   ],
   "source": [
    "# Checking variable values\n",
    "df_ords_prods_customers_filtered['Age_flag'].value_counts(dropna = False)"
   ]
  },
  {
   "cell_type": "code",
   "execution_count": 64,
   "id": "f67b01fa",
   "metadata": {},
   "outputs": [
    {
     "data": {
      "text/plain": [
       "Age_flag\n",
       "Younger       34.482323\n",
       "Middle Age    32.868416\n",
       "Older         32.649261\n",
       "Name: count, dtype: float64"
      ]
     },
     "execution_count": 64,
     "metadata": {},
     "output_type": "execute_result"
    }
   ],
   "source": [
    "# Calculate the counts for each category in the 'Age_flag' column\n",
    "Age_flag_counts = df_ords_prods_customers_filtered['Age_flag'].value_counts()\n",
    "\n",
    "# Calculate the percentages\n",
    "Age_flag_percentages = (Age_flag_counts / Age_flag_counts.sum()) * 100\n",
    "\n",
    "Age_flag_percentages"
   ]
  },
  {
   "cell_type": "code",
   "execution_count": 65,
   "id": "27410955",
   "metadata": {},
   "outputs": [
    {
     "data": {
      "text/plain": [
       "Age_flag\n",
       "Middle Age    10.625775\n",
       "Older         10.657955\n",
       "Younger       10.562173\n",
       "Name: Avg_price_paid, dtype: float64"
      ]
     },
     "execution_count": 65,
     "metadata": {},
     "output_type": "execute_result"
    }
   ],
   "source": [
    "# Group the DataFrame by 'Age_flag' and calculate the mean of 'Avg_price_paid'\n",
    "average_price_by_Age_flag = df_ords_prods_customers_filtered.groupby('Age_flag')['Avg_price_paid'].mean()\n",
    "\n",
    "average_price_by_Age_flag"
   ]
  },
  {
   "cell_type": "code",
   "execution_count": 66,
   "id": "c94dd891",
   "metadata": {},
   "outputs": [
    {
     "name": "stderr",
     "output_type": "stream",
     "text": [
      "/var/folders/v0/xrbnqqfs3715z2hj7f5pvkf80000gn/T/ipykernel_2861/2769432487.py:2: SettingWithCopyWarning: \n",
      "A value is trying to be set on a copy of a slice from a DataFrame.\n",
      "Try using .loc[row_indexer,col_indexer] = value instead\n",
      "\n",
      "See the caveats in the documentation: https://pandas.pydata.org/pandas-docs/stable/user_guide/indexing.html#returning-a-view-versus-a-copy\n",
      "  df_ords_prods_customers_filtered['total_amount_paid'] = df_ords_prods_customers_filtered['prices'] * df_ords_prods_customers_filtered['order_number']\n"
     ]
    },
    {
     "data": {
      "text/plain": [
       "Age_flag\n",
       "Middle Age    19403.084701\n",
       "Older         19424.821713\n",
       "Younger       19720.048767\n",
       "Name: total_amount_paid, dtype: float64"
      ]
     },
     "execution_count": 66,
     "metadata": {},
     "output_type": "execute_result"
    }
   ],
   "source": [
    "# Calculate the total amount paid for each order (price x order_number) using .loc\n",
    "df_ords_prods_customers_filtered['total_amount_paid'] = df_ords_prods_customers_filtered['prices'] * df_ords_prods_customers_filtered['order_number']\n",
    "\n",
    "# Group the DataFrame by 'Age_flag' and 'user_id,' and calculate the sum of 'total_amount_paid'\n",
    "average_total_amount_by_Age_flag = df_ords_prods_customers_filtered.groupby(['Age_flag', 'user_id'])['total_amount_paid'].sum()\n",
    "\n",
    "# Group by 'family status' and calculate the mean of the sums for each user\n",
    "average_total_amount_by_Age_flag = average_total_amount_by_Age_flag.groupby('Age_flag').mean()\n",
    "\n",
    "average_total_amount_by_Age_flag"
   ]
  },
  {
   "cell_type": "code",
   "execution_count": 67,
   "id": "ce5da7d1",
   "metadata": {},
   "outputs": [
    {
     "data": {
      "text/html": [
       "<div>\n",
       "<style scoped>\n",
       "    .dataframe tbody tr th:only-of-type {\n",
       "        vertical-align: middle;\n",
       "    }\n",
       "\n",
       "    .dataframe tbody tr th {\n",
       "        vertical-align: top;\n",
       "    }\n",
       "\n",
       "    .dataframe thead th {\n",
       "        text-align: right;\n",
       "    }\n",
       "</style>\n",
       "<table border=\"1\" class=\"dataframe\">\n",
       "  <thead>\n",
       "    <tr style=\"text-align: right;\">\n",
       "      <th></th>\n",
       "      <th>High Spenders</th>\n",
       "      <th>Low Spenders</th>\n",
       "    </tr>\n",
       "    <tr>\n",
       "      <th>Age_flag</th>\n",
       "      <th></th>\n",
       "      <th></th>\n",
       "    </tr>\n",
       "  </thead>\n",
       "  <tbody>\n",
       "    <tr>\n",
       "      <th>Middle Age</th>\n",
       "      <td>2.010085</td>\n",
       "      <td>97.989915</td>\n",
       "    </tr>\n",
       "    <tr>\n",
       "      <th>Older</th>\n",
       "      <td>1.977228</td>\n",
       "      <td>98.022772</td>\n",
       "    </tr>\n",
       "    <tr>\n",
       "      <th>Younger</th>\n",
       "      <td>1.907932</td>\n",
       "      <td>98.092068</td>\n",
       "    </tr>\n",
       "  </tbody>\n",
       "</table>\n",
       "</div>"
      ],
      "text/plain": [
       "            High Spenders  Low Spenders\n",
       "Age_flag                               \n",
       "Middle Age       2.010085     97.989915\n",
       "Older            1.977228     98.022772\n",
       "Younger          1.907932     98.092068"
      ]
     },
     "execution_count": 67,
     "metadata": {},
     "output_type": "execute_result"
    }
   ],
   "source": [
    "# Check Age flag and Spending flag\n",
    "df_Age_flag_grouped_by_spending = df_ords_prods_customers_filtered.groupby(['Age_flag','Spending_flag'])['Spending_flag'].count()\n",
    "\n",
    "# Create a new DataFrame to store the results\n",
    "df_Age_flag_results = pd.DataFrame(columns=['Low Spenders', 'High Spenders'])\n",
    "\n",
    "# Calculate percentages within each income group\n",
    "df_Age_flag_results = df_Age_flag_grouped_by_spending.unstack().div(df_Age_flag_grouped_by_spending.unstack().sum(axis=1), axis=0).fillna(0)\n",
    "\n",
    "# Rename the columns\n",
    "df_Age_flag_results.columns = ['High Spenders', 'Low Spenders']\n",
    "\n",
    "df_Age_flag_results *= 100\n",
    "\n",
    "# Sort the DataFrame by the first column in descending order\n",
    "df_Age_flag_results = df_Age_flag_results.sort_values(by='High Spenders', ascending=False)\n",
    "\n",
    "df_Age_flag_results"
   ]
  },
  {
   "cell_type": "markdown",
   "id": "744d6c8c",
   "metadata": {},
   "source": [
    "#### Creating family size flag"
   ]
  },
  {
   "cell_type": "code",
   "execution_count": 68,
   "id": "3e2c602a",
   "metadata": {},
   "outputs": [
    {
     "name": "stderr",
     "output_type": "stream",
     "text": [
      "/var/folders/v0/xrbnqqfs3715z2hj7f5pvkf80000gn/T/ipykernel_2861/2205214932.py:2: SettingWithCopyWarning: \n",
      "A value is trying to be set on a copy of a slice from a DataFrame.\n",
      "Try using .loc[row_indexer,col_indexer] = value instead\n",
      "\n",
      "See the caveats in the documentation: https://pandas.pydata.org/pandas-docs/stable/user_guide/indexing.html#returning-a-view-versus-a-copy\n",
      "  df_ords_prods_customers_filtered.loc[df_ords_prods_customers_filtered['Number_dependants'] == 0, 'Family_size_flag'] = 'No chidren'\n"
     ]
    }
   ],
   "source": [
    "# Creating family size flag\n",
    "df_ords_prods_customers_filtered.loc[df_ords_prods_customers_filtered['Number_dependants'] == 0, 'Family_size_flag'] = 'No chidren'"
   ]
  },
  {
   "cell_type": "code",
   "execution_count": 69,
   "id": "c8c9dd84",
   "metadata": {},
   "outputs": [],
   "source": [
    "df_ords_prods_customers_filtered.loc[(df_ords_prods_customers_filtered['Number_dependants'] >= 1) & (df_ords_prods_customers_filtered['Number_dependants'] <= 2), 'Family_size_flag'] = 'Small family'"
   ]
  },
  {
   "cell_type": "code",
   "execution_count": 70,
   "id": "0ed73267",
   "metadata": {},
   "outputs": [],
   "source": [
    "df_ords_prods_customers_filtered.loc[df_ords_prods_customers_filtered['Number_dependants'] >= 3, 'Family_size_flag'] = 'Large family'"
   ]
  },
  {
   "cell_type": "code",
   "execution_count": 71,
   "id": "599301a0",
   "metadata": {},
   "outputs": [
    {
     "data": {
      "text/plain": [
       "Family_size_flag\n",
       "Small family    10997081\n",
       "Large family     5539356\n",
       "No chidren       5521949\n",
       "Name: count, dtype: int64"
      ]
     },
     "execution_count": 71,
     "metadata": {},
     "output_type": "execute_result"
    }
   ],
   "source": [
    "df_ords_prods_customers_filtered['Family_size_flag'].value_counts(dropna = False)"
   ]
  },
  {
   "cell_type": "code",
   "execution_count": 72,
   "id": "bd2a0f92",
   "metadata": {},
   "outputs": [],
   "source": [
    "# Family size flag and Spending flag\n",
    "df_Familysize_grouped_by_spending = df_ords_prods_customers_filtered.groupby(['Family_size_flag','Spending_flag'])['Spending_flag'].count()"
   ]
  },
  {
   "cell_type": "code",
   "execution_count": 73,
   "id": "c8b85537",
   "metadata": {},
   "outputs": [],
   "source": [
    "# Create a new DataFrame to store the results\n",
    "df_familysize_results = df_Familysize_grouped_by_spending.unstack().fillna(0)"
   ]
  },
  {
   "cell_type": "code",
   "execution_count": 74,
   "id": "cce456eb",
   "metadata": {},
   "outputs": [],
   "source": [
    "# Rename the columns\n",
    "df_familysize_results.columns = ['High Spenders', 'Low Spenders']"
   ]
  },
  {
   "cell_type": "code",
   "execution_count": 75,
   "id": "b5ff2def",
   "metadata": {},
   "outputs": [],
   "source": [
    "# Calculate percentages within each family size group\n",
    "df_familysize_results = df_familysize_results.div(df_familysize_results.sum(axis=1), axis=0).fillna(0)"
   ]
  },
  {
   "cell_type": "code",
   "execution_count": 76,
   "id": "18330750",
   "metadata": {},
   "outputs": [],
   "source": [
    "# Multiply by 100 to get percentages in the form of 0-100\n",
    "df_familysize_results *= 100"
   ]
  },
  {
   "cell_type": "code",
   "execution_count": 77,
   "id": "341c4944",
   "metadata": {},
   "outputs": [],
   "source": [
    "# Sort the DataFrame by the first column in descending order\n",
    "df_familysize_results = df_familysize_results.sort_values(by='High Spenders', ascending=False)"
   ]
  },
  {
   "cell_type": "code",
   "execution_count": 78,
   "id": "858ee6d4",
   "metadata": {},
   "outputs": [
    {
     "data": {
      "text/html": [
       "<div>\n",
       "<style scoped>\n",
       "    .dataframe tbody tr th:only-of-type {\n",
       "        vertical-align: middle;\n",
       "    }\n",
       "\n",
       "    .dataframe tbody tr th {\n",
       "        vertical-align: top;\n",
       "    }\n",
       "\n",
       "    .dataframe thead th {\n",
       "        text-align: right;\n",
       "    }\n",
       "</style>\n",
       "<table border=\"1\" class=\"dataframe\">\n",
       "  <thead>\n",
       "    <tr style=\"text-align: right;\">\n",
       "      <th></th>\n",
       "      <th>High Spenders</th>\n",
       "      <th>Low Spenders</th>\n",
       "    </tr>\n",
       "    <tr>\n",
       "      <th>Family_size_flag</th>\n",
       "      <th></th>\n",
       "      <th></th>\n",
       "    </tr>\n",
       "  </thead>\n",
       "  <tbody>\n",
       "    <tr>\n",
       "      <th>Large family</th>\n",
       "      <td>2.030597</td>\n",
       "      <td>97.969403</td>\n",
       "    </tr>\n",
       "    <tr>\n",
       "      <th>Small family</th>\n",
       "      <td>1.958765</td>\n",
       "      <td>98.041235</td>\n",
       "    </tr>\n",
       "    <tr>\n",
       "      <th>No chidren</th>\n",
       "      <td>1.908149</td>\n",
       "      <td>98.091851</td>\n",
       "    </tr>\n",
       "  </tbody>\n",
       "</table>\n",
       "</div>"
      ],
      "text/plain": [
       "                  High Spenders  Low Spenders\n",
       "Family_size_flag                             \n",
       "Large family           2.030597     97.969403\n",
       "Small family           1.958765     98.041235\n",
       "No chidren             1.908149     98.091851"
      ]
     },
     "execution_count": 78,
     "metadata": {},
     "output_type": "execute_result"
    }
   ],
   "source": [
    "df_familysize_results"
   ]
  },
  {
   "cell_type": "markdown",
   "id": "2506421b",
   "metadata": {},
   "source": [
    "#### Creating income flag"
   ]
  },
  {
   "cell_type": "code",
   "execution_count": 79,
   "id": "7c9004b1",
   "metadata": {},
   "outputs": [
    {
     "name": "stderr",
     "output_type": "stream",
     "text": [
      "/var/folders/v0/xrbnqqfs3715z2hj7f5pvkf80000gn/T/ipykernel_2861/1085013216.py:2: SettingWithCopyWarning: \n",
      "A value is trying to be set on a copy of a slice from a DataFrame.\n",
      "Try using .loc[row_indexer,col_indexer] = value instead\n",
      "\n",
      "See the caveats in the documentation: https://pandas.pydata.org/pandas-docs/stable/user_guide/indexing.html#returning-a-view-versus-a-copy\n",
      "  df_ords_prods_customers_filtered.loc[df_ords_prods_customers_filtered['income'] <= 67839, 'Income_flag'] = 'Lower income'\n"
     ]
    }
   ],
   "source": [
    "# Creating income flag\n",
    "df_ords_prods_customers_filtered.loc[df_ords_prods_customers_filtered['income'] <= 67839, 'Income_flag'] = 'Lower income'"
   ]
  },
  {
   "cell_type": "code",
   "execution_count": 80,
   "id": "b00e6884",
   "metadata": {},
   "outputs": [],
   "source": [
    "df_ords_prods_customers_filtered.loc[(df_ords_prods_customers_filtered['income'] > 67839) & (df_ords_prods_customers_filtered['income'] <= 128073), 'Income_flag'] = 'Middle income'"
   ]
  },
  {
   "cell_type": "code",
   "execution_count": 81,
   "id": "1b019b1e",
   "metadata": {},
   "outputs": [],
   "source": [
    "df_ords_prods_customers_filtered.loc[df_ords_prods_customers_filtered['income'] > 128073, 'Income_flag'] = 'Upper income'"
   ]
  },
  {
   "cell_type": "code",
   "execution_count": 82,
   "id": "935caf1c",
   "metadata": {},
   "outputs": [
    {
     "data": {
      "text/plain": [
       "Income_flag\n",
       "Middle income    11030066\n",
       "Lower income      5516394\n",
       "Upper income      5511926\n",
       "Name: count, dtype: int64"
      ]
     },
     "execution_count": 82,
     "metadata": {},
     "output_type": "execute_result"
    }
   ],
   "source": [
    "df_ords_prods_customers_filtered['Income_flag'].value_counts(dropna = False)"
   ]
  },
  {
   "cell_type": "code",
   "execution_count": 83,
   "id": "ba02ac92",
   "metadata": {},
   "outputs": [
    {
     "data": {
      "text/plain": [
       "Income_flag\n",
       "Middle income    0.500040\n",
       "Lower income     0.250081\n",
       "Upper income     0.249879\n",
       "Name: count, dtype: float64"
      ]
     },
     "execution_count": 83,
     "metadata": {},
     "output_type": "execute_result"
    }
   ],
   "source": [
    "# Calculate the counts for each category in the 'Income_flag' column\n",
    "Income_flag_counts = df_ords_prods_customers_filtered['Income_flag'].value_counts()\n",
    "\n",
    "# Calculate the percentages\n",
    "Income_flag_percentages = (Income_flag_counts / Income_flag_counts.sum())\n",
    "\n",
    "Income_flag_percentages"
   ]
  },
  {
   "cell_type": "code",
   "execution_count": 84,
   "id": "186db57a",
   "metadata": {},
   "outputs": [
    {
     "data": {
      "text/plain": [
       "Income_flag\n",
       "Lower income      7.430806\n",
       "Middle income     8.861062\n",
       "Upper income     17.309026\n",
       "Name: Avg_price_paid, dtype: float64"
      ]
     },
     "execution_count": 84,
     "metadata": {},
     "output_type": "execute_result"
    }
   ],
   "source": [
    "# Finding Average Price Paid by Income Group\n",
    "#Group the DataFrame by 'Income_flag' and calculate the mean of 'Avg_price_paid'\n",
    "average_price_by_Income_flag = df_ords_prods_customers_filtered.groupby('Income_flag')['Avg_price_paid'].mean()\n",
    "\n",
    "average_price_by_Income_flag"
   ]
  },
  {
   "cell_type": "code",
   "execution_count": 85,
   "id": "8b9bc5ab",
   "metadata": {},
   "outputs": [
    {
     "data": {
      "image/png": "[encoded data removed]",
      "text/plain": [
       "<Figure size 800x600 with 1 Axes>"
      ]
     },
     "metadata": {},
     "output_type": "display_data"
    }
   ],
   "source": [
    "# Your data\n",
    "average_price_by_Income_flag = df_ords_prods_customers_filtered.groupby('Income_flag')['Avg_price_paid'].mean()\n",
    "\n",
    "# Sort the data in descending order\n",
    "average_price_by_Income_flag = average_price_by_Income_flag.sort_values(ascending=False)\n",
    "\n",
    "# Create the bar plot\n",
    "plt.figure(figsize=(8, 6))  # Adjust the figure size if needed\n",
    "plt.bar(average_price_by_Income_flag.index, average_price_by_Income_flag)\n",
    "plt.xlabel('Income Group')\n",
    "plt.ylabel('Average Price Paid')\n",
    "plt.title('Average Price Paid per Income Group')\n",
    "\n",
    "# Rotate x-axis labels for better readability (optional)\n",
    "plt.xticks(rotation=45)\n",
    "\n",
    "# Specify the path and filename\n",
    "path = r'/Users/davidmsimpson/20230907 Instacart Basket Analysis'\n",
    "filename = 'Avg_price_paid_per_Income.png'\n",
    "\n",
    "# Increase the bottom margin to fit the labels\n",
    "plt.subplots_adjust(bottom=0.2)\n",
    "\n",
    "# Save the chart\n",
    "plt.savefig(os.path.join(path, '04 Analysis', 'Visualizations', 'Avg_price_paid_per_Income.png'))\n",
    "\n",
    "# Show the plot\n",
    "plt.show()\n"
   ]
  },
  {
   "cell_type": "code",
   "execution_count": 86,
   "id": "f4b276a2",
   "metadata": {},
   "outputs": [],
   "source": [
    "# Check Income flag and Spending flag\n",
    "df_income_grouped_by_spending = df_ords_prods_customers_filtered.groupby(['Income_flag','Spending_flag'])['Spending_flag'].count()"
   ]
  },
  {
   "cell_type": "code",
   "execution_count": 87,
   "id": "ff0021b2",
   "metadata": {},
   "outputs": [],
   "source": [
    "# Create a new DataFrame to store the results\n",
    "df_income_results = pd.DataFrame(columns=['Low Spenders', 'High Spenders'])"
   ]
  },
  {
   "cell_type": "code",
   "execution_count": 88,
   "id": "258afe5b",
   "metadata": {},
   "outputs": [
    {
     "data": {
      "text/plain": [
       "Income_flag    Spending_flag\n",
       "Lower income   High spender        31621\n",
       "               Low spender       5484773\n",
       "Middle income  High spender       135223\n",
       "               Low spender      10894843\n",
       "Upper income   High spender       266412\n",
       "               Low spender       5245514\n",
       "Name: Spending_flag, dtype: int64"
      ]
     },
     "execution_count": 88,
     "metadata": {},
     "output_type": "execute_result"
    }
   ],
   "source": [
    "df_income_grouped_by_spending"
   ]
  },
  {
   "cell_type": "code",
   "execution_count": 89,
   "id": "ec8ac112",
   "metadata": {},
   "outputs": [
    {
     "data": {
      "text/html": [
       "<div>\n",
       "<style scoped>\n",
       "    .dataframe tbody tr th:only-of-type {\n",
       "        vertical-align: middle;\n",
       "    }\n",
       "\n",
       "    .dataframe tbody tr th {\n",
       "        vertical-align: top;\n",
       "    }\n",
       "\n",
       "    .dataframe thead th {\n",
       "        text-align: right;\n",
       "    }\n",
       "</style>\n",
       "<table border=\"1\" class=\"dataframe\">\n",
       "  <thead>\n",
       "    <tr style=\"text-align: right;\">\n",
       "      <th></th>\n",
       "      <th>High Spenders</th>\n",
       "      <th>Low Spenders</th>\n",
       "    </tr>\n",
       "    <tr>\n",
       "      <th>Income_flag</th>\n",
       "      <th></th>\n",
       "      <th></th>\n",
       "    </tr>\n",
       "  </thead>\n",
       "  <tbody>\n",
       "    <tr>\n",
       "      <th>Upper income</th>\n",
       "      <td>4.833374</td>\n",
       "      <td>95.166626</td>\n",
       "    </tr>\n",
       "    <tr>\n",
       "      <th>Middle income</th>\n",
       "      <td>1.225949</td>\n",
       "      <td>98.774051</td>\n",
       "    </tr>\n",
       "    <tr>\n",
       "      <th>Lower income</th>\n",
       "      <td>0.573219</td>\n",
       "      <td>99.426781</td>\n",
       "    </tr>\n",
       "  </tbody>\n",
       "</table>\n",
       "</div>"
      ],
      "text/plain": [
       "               High Spenders  Low Spenders\n",
       "Income_flag                               \n",
       "Upper income        4.833374     95.166626\n",
       "Middle income       1.225949     98.774051\n",
       "Lower income        0.573219     99.426781"
      ]
     },
     "execution_count": 89,
     "metadata": {},
     "output_type": "execute_result"
    }
   ],
   "source": [
    "# Check Income and Spending flag\n",
    "df_Income_flag_grouped_by_spending = df_ords_prods_customers_filtered.groupby(['Income_flag','Spending_flag'])['Spending_flag'].count()\n",
    "\n",
    "# Create a new DataFrame to store the results\n",
    "df_Income_flag_results = pd.DataFrame(columns=['Low Spenders', 'High Spenders'])\n",
    "\n",
    "# Calculate percentages within each income group\n",
    "df_Income_flag_results = df_Income_flag_grouped_by_spending.unstack().div(df_Income_flag_grouped_by_spending.unstack().sum(axis=1), axis=0).fillna(0)\n",
    "\n",
    "# Rename the columns\n",
    "df_Income_flag_results.columns = ['High Spenders', 'Low Spenders']\n",
    "\n",
    "df_Income_flag_results *= 100\n",
    "\n",
    "# Sort the DataFrame by the first column in descending order\n",
    "df_Income_flag_results = df_Income_flag_results.sort_values(by='High Spenders', ascending=False)\n",
    "\n",
    "df_Income_flag_results\n"
   ]
  },
  {
   "cell_type": "code",
   "execution_count": 90,
   "id": "accb8581",
   "metadata": {},
   "outputs": [
    {
     "name": "stderr",
     "output_type": "stream",
     "text": [
      "/var/folders/v0/xrbnqqfs3715z2hj7f5pvkf80000gn/T/ipykernel_2861/433938197.py:3: SettingWithCopyWarning: \n",
      "A value is trying to be set on a copy of a slice from a DataFrame.\n",
      "Try using .loc[row_indexer,col_indexer] = value instead\n",
      "\n",
      "See the caveats in the documentation: https://pandas.pydata.org/pandas-docs/stable/user_guide/indexing.html#returning-a-view-versus-a-copy\n",
      "  df_ords_prods_customers_filtered['total_amount_paid'] = df_ords_prods_customers_filtered['prices'] * df_ords_prods_customers_filtered['order_number']\n"
     ]
    },
    {
     "data": {
      "text/plain": [
       "Income_flag\n",
       "Lower income     15082.560282\n",
       "Middle income    21531.297634\n",
       "Upper income     21217.006324\n",
       "Name: total_amount_paid, dtype: float64"
      ]
     },
     "execution_count": 90,
     "metadata": {},
     "output_type": "execute_result"
    }
   ],
   "source": [
    "# Finding average total paid by customer by Income Group\n",
    "# Calculate the total amount paid for each order (price x order_number) using .loc\n",
    "df_ords_prods_customers_filtered['total_amount_paid'] = df_ords_prods_customers_filtered['prices'] * df_ords_prods_customers_filtered['order_number']\n",
    "\n",
    "# Group the DataFrame by 'Income_flag' and 'user_id,' and calculate the sum of 'total_amount_paid'\n",
    "average_total_amount_by_Income_flag = df_ords_prods_customers_filtered.groupby(['Income_flag', 'user_id'])['total_amount_paid'].sum()\n",
    "\n",
    "# Group by Income and calculate the mean of the sums for each user\n",
    "average_total_amount_by_Income_flag = average_total_amount_by_Income_flag.groupby('Income_flag').mean()\n",
    "\n",
    "average_total_amount_by_Income_flag"
   ]
  },
  {
   "cell_type": "markdown",
   "id": "1a121f2f",
   "metadata": {},
   "source": [
    "#### Creating 'Profile' column with profiles"
   ]
  },
  {
   "cell_type": "code",
   "execution_count": 91,
   "id": "a7e08873",
   "metadata": {},
   "outputs": [
    {
     "name": "stderr",
     "output_type": "stream",
     "text": [
      "/var/folders/v0/xrbnqqfs3715z2hj7f5pvkf80000gn/T/ipykernel_2861/3207490109.py:2: SettingWithCopyWarning: \n",
      "A value is trying to be set on a copy of a slice from a DataFrame.\n",
      "Try using .loc[row_indexer,col_indexer] = value instead\n",
      "\n",
      "See the caveats in the documentation: https://pandas.pydata.org/pandas-docs/stable/user_guide/indexing.html#returning-a-view-versus-a-copy\n",
      "  df_ords_prods_customers_filtered.loc[(df_ords_prods_customers_filtered['family_status'] == 'single')\n"
     ]
    }
   ],
   "source": [
    "# Creating Single_Upperincome_Nochildren_Younger profile\n",
    "df_ords_prods_customers_filtered.loc[(df_ords_prods_customers_filtered['family_status'] == 'single') \n",
    "                                     & (df_ords_prods_customers_filtered['Income_flag'] == 'Upper income')\n",
    "                                     & (df_ords_prods_customers_filtered['Number_dependants'] == 0)\n",
    "                                     & (df_ords_prods_customers_filtered['Age_flag'] == 'Younger'),\n",
    "                                        'Profile'] = 'Single_Upperincome_Nochildren_Younger'"
   ]
  },
  {
   "cell_type": "code",
   "execution_count": 92,
   "id": "36f6cff9",
   "metadata": {},
   "outputs": [],
   "source": [
    "# Creating Married_Upperincome_Lfamily_MiddleAge profile\n",
    "df_ords_prods_customers_filtered.loc[(df_ords_prods_customers_filtered['family_status'] == 'married') \n",
    "                                     & (df_ords_prods_customers_filtered['Income_flag'] == 'Upper income') \n",
    "                                     & (df_ords_prods_customers_filtered['Family_size_flag'] == 'Large family') \n",
    "                                     & (df_ords_prods_customers_filtered['Age_flag'] == 'Middle Age'), 'Profile'] = 'Married_Upperincome_Lfamily_MiddleAge'"
   ]
  },
  {
   "cell_type": "code",
   "execution_count": 93,
   "id": "24d50fea",
   "metadata": {},
   "outputs": [],
   "source": [
    "# Creating Married_Lowerincome_Lfamily_Younger profile\n",
    "df_ords_prods_customers_filtered.loc[(df_ords_prods_customers_filtered['family_status'] == 'married') \n",
    "                                     & (df_ords_prods_customers_filtered['Income_flag'] == 'Lower income') \n",
    "                                     & (df_ords_prods_customers_filtered['Family_size_flag'] == 'Large family') \n",
    "                                     & (df_ords_prods_customers_filtered['Age_flag'] == 'Younger'), 'Profile'] = 'Married_Lowerincome_Lfamily_Younger'"
   ]
  },
  {
   "cell_type": "code",
   "execution_count": 94,
   "id": "6c6dbaeb",
   "metadata": {},
   "outputs": [],
   "source": [
    "# Creating DivWid_Lowerincome_Nochildren_Older profile\n",
    "df_ords_prods_customers_filtered.loc[(df_ords_prods_customers_filtered['family_status'] == 'divorced/widowed') \n",
    "                                     & (df_ords_prods_customers_filtered['Income_flag'] == 'Lower income') \n",
    "                                     & (df_ords_prods_customers_filtered['Number_dependants'] == 0) \n",
    "                                     & (df_ords_prods_customers_filtered['Age_flag'] == 'Older'), 'Profile'] = 'DivWid_Lowerincome_Nochildren_Older'"
   ]
  },
  {
   "cell_type": "code",
   "execution_count": 95,
   "id": "93bd5ae4",
   "metadata": {},
   "outputs": [],
   "source": [
    "# Creating Married_Middleincome_Sfamily_Younger profile\n",
    "df_ords_prods_customers_filtered.loc[(df_ords_prods_customers_filtered['family_status'] == 'married') \n",
    "                                     & (df_ords_prods_customers_filtered['Income_flag'] == 'Middle income') \n",
    "                                     & (df_ords_prods_customers_filtered['Family_size_flag'] == 'Small family') \n",
    "                                     & (df_ords_prods_customers_filtered['Age_flag'] == 'Younger'), 'Profile'] = 'Married_Middleincome_Sfamily_Younger'"
   ]
  },
  {
   "cell_type": "code",
   "execution_count": 96,
   "id": "140952fb",
   "metadata": {},
   "outputs": [],
   "source": [
    "# Creating Married_Upperincome_Sfamily_Older profile\n",
    "df_ords_prods_customers_filtered.loc[(df_ords_prods_customers_filtered['family_status'] == 'married') \n",
    "                                     & (df_ords_prods_customers_filtered['Income_flag'] == 'Upper income') \n",
    "                                     & (df_ords_prods_customers_filtered['Family_size_flag'] == 'Small family') \n",
    "                                     & (df_ords_prods_customers_filtered['Age_flag'] == 'Older'), 'Profile'] = 'Married_Upperincome_Sfamily_Older'"
   ]
  },
  {
   "cell_type": "code",
   "execution_count": 97,
   "id": "37cb4277",
   "metadata": {},
   "outputs": [],
   "source": [
    "# Creating Younger_LivingwParents profile\n",
    "df_ords_prods_customers_filtered.loc[(df_ords_prods_customers_filtered['family_status'] == 'living with parents and siblings')\n",
    "                                     & (df_ords_prods_customers_filtered['Income_flag'] == 'Lower income')\n",
    "                                     & (df_ords_prods_customers_filtered['Age_flag'] == 'Younger'), 'Profile'] = 'Younger_LivingwParents'"
   ]
  },
  {
   "cell_type": "code",
   "execution_count": 98,
   "id": "132393cc",
   "metadata": {},
   "outputs": [],
   "source": [
    "# Creating Single_MiddleAged_HighSpender profile\n",
    "df_ords_prods_customers_filtered.loc[(df_ords_prods_customers_filtered['family_status'] == 'single') \n",
    "                                     & (df_ords_prods_customers_filtered['Spending_flag'] == 'High spender') \n",
    "                                     & (df_ords_prods_customers_filtered['Number_dependants'] == 0) \n",
    "                                     & (df_ords_prods_customers_filtered['Age_flag'] == 'Middle Age'), 'Profile'] = 'Single_MiddleAged_HighSpender'"
   ]
  },
  {
   "cell_type": "code",
   "execution_count": 99,
   "id": "068dba15",
   "metadata": {},
   "outputs": [],
   "source": [
    "# Creating Single_Lowspender_Lowincome profile\n",
    "df_ords_prods_customers_filtered.loc[(df_ords_prods_customers_filtered['family_status'] == 'single')\n",
    "                                    & (df_ords_prods_customers_filtered['Income_flag'] == 'Lower income')\n",
    "                                    & (df_ords_prods_customers_filtered['Spending_flag'] == 'Low spender'), 'Profile'] = 'Single_Lowspender_Lowincome'"
   ]
  },
  {
   "cell_type": "code",
   "execution_count": 100,
   "id": "0469db76",
   "metadata": {},
   "outputs": [
    {
     "data": {
      "text/plain": [
       "Profile\n",
       "NaN                                      15760433\n",
       "Married_Middleincome_Sfamily_Younger      1603290\n",
       "Married_Upperincome_Sfamily_Older         1386644\n",
       "Single_Lowspender_Lowincome               1145548\n",
       "Married_Lowerincome_Lfamily_Younger        736908\n",
       "Married_Upperincome_Lfamily_MiddleAge      674319\n",
       "Younger_LivingwParents                     478752\n",
       "DivWid_Lowerincome_Nochildren_Older        219866\n",
       "Single_MiddleAged_HighSpender               35817\n",
       "Single_Upperincome_Nochildren_Younger       16809\n",
       "Name: count, dtype: int64"
      ]
     },
     "execution_count": 100,
     "metadata": {},
     "output_type": "execute_result"
    }
   ],
   "source": [
    "# Count of profiles with NaNs\n",
    "df_ords_prods_customers_filtered['Profile'].value_counts(dropna = False)"
   ]
  },
  {
   "cell_type": "code",
   "execution_count": 101,
   "id": "d28c2a64",
   "metadata": {},
   "outputs": [
    {
     "name": "stdout",
     "output_type": "stream",
     "text": [
      "Profile\n",
      "NaN                                      0.714487\n",
      "Married_Middleincome_Sfamily_Younger     0.072684\n",
      "Married_Upperincome_Sfamily_Older        0.062862\n",
      "Single_Lowspender_Lowincome              0.051933\n",
      "Married_Lowerincome_Lfamily_Younger      0.033407\n",
      "Married_Upperincome_Lfamily_MiddleAge    0.030570\n",
      "Younger_LivingwParents                   0.021704\n",
      "DivWid_Lowerincome_Nochildren_Older      0.009967\n",
      "Single_MiddleAged_HighSpender            0.001624\n",
      "Single_Upperincome_Nochildren_Younger    0.000762\n",
      "Name: count, dtype: float64\n"
     ]
    }
   ],
   "source": [
    "# Count of profiles with NaNs\n",
    "profile_counts = df_ords_prods_customers_filtered['Profile'].value_counts(dropna=False)\n",
    "\n",
    "# Calculate the percentage of the total as decimals\n",
    "percentage_of_total_decimal = profile_counts / profile_counts.sum()\n",
    "\n",
    "# Display the percentage_of_total as decimals\n",
    "print(percentage_of_total_decimal)"
   ]
  },
  {
   "cell_type": "code",
   "execution_count": 102,
   "id": "c629df9b",
   "metadata": {},
   "outputs": [
    {
     "data": {
      "text/plain": [
       "Profile\n",
       "Married_Middleincome_Sfamily_Younger     1603290\n",
       "Married_Upperincome_Sfamily_Older        1386644\n",
       "Single_Lowspender_Lowincome              1145548\n",
       "Married_Lowerincome_Lfamily_Younger       736908\n",
       "Married_Upperincome_Lfamily_MiddleAge     674319\n",
       "Younger_LivingwParents                    478752\n",
       "DivWid_Lowerincome_Nochildren_Older       219866\n",
       "Single_MiddleAged_HighSpender              35817\n",
       "Single_Upperincome_Nochildren_Younger      16809\n",
       "Name: count, dtype: int64"
      ]
     },
     "execution_count": 102,
     "metadata": {},
     "output_type": "execute_result"
    }
   ],
   "source": [
    "# Count of profiles without NaNs\n",
    "df_ords_prods_customers_filtered['Profile'].value_counts(dropna = True)"
   ]
  },
  {
   "cell_type": "code",
   "execution_count": 103,
   "id": "551ab734",
   "metadata": {},
   "outputs": [
    {
     "name": "stdout",
     "output_type": "stream",
     "text": [
      "Profile\n",
      "Married_Middleincome_Sfamily_Younger     0.254573\n",
      "Married_Upperincome_Sfamily_Older        0.220174\n",
      "Single_Lowspender_Lowincome              0.181892\n",
      "Married_Lowerincome_Lfamily_Younger      0.117008\n",
      "Married_Upperincome_Lfamily_MiddleAge    0.107070\n",
      "Younger_LivingwParents                   0.076017\n",
      "DivWid_Lowerincome_Nochildren_Older      0.034911\n",
      "Single_MiddleAged_HighSpender            0.005687\n",
      "Single_Upperincome_Nochildren_Younger    0.002669\n",
      "Name: count, dtype: float64\n"
     ]
    }
   ],
   "source": [
    "# Count of profiles with NaNs\n",
    "profile_counts = df_ords_prods_customers_filtered['Profile'].value_counts(dropna=True)\n",
    "\n",
    "# Calculate the percentage of the total as decimals\n",
    "percentage_of_total_decimal = profile_counts / profile_counts.sum()\n",
    "\n",
    "# Display the percentage_of_total as decimals\n",
    "print(percentage_of_total_decimal)"
   ]
  },
  {
   "cell_type": "code",
   "execution_count": 104,
   "id": "4fcc8293",
   "metadata": {},
   "outputs": [],
   "source": [
    "# Creating df for profiles\n",
    "df_Profiles_dropna = df_ords_prods_customers_filtered.dropna(subset=['Profile'])"
   ]
  },
  {
   "cell_type": "code",
   "execution_count": 105,
   "id": "657c6086",
   "metadata": {},
   "outputs": [
    {
     "data": {
      "text/plain": [
       "(6297953, 40)"
      ]
     },
     "execution_count": 105,
     "metadata": {},
     "output_type": "execute_result"
    }
   ],
   "source": [
    "df_Profiles_dropna.shape"
   ]
  },
  {
   "cell_type": "markdown",
   "id": "28aa5757",
   "metadata": {},
   "source": [
    "## Part 1, # 6: Create an appropriate visualization to show the distribution of profiles."
   ]
  },
  {
   "cell_type": "code",
   "execution_count": 106,
   "id": "fbf0792f",
   "metadata": {
    "scrolled": true
   },
   "outputs": [
    {
     "data": {
      "image/png": "[encoded data removed]",
      "text/plain": [
       "<Figure size 1000x1000 with 1 Axes>"
      ]
     },
     "metadata": {},
     "output_type": "display_data"
    }
   ],
   "source": [
    "# Creating bar plot for profiles\n",
    "plt.figure(figsize=(10, 10))\n",
    "ax = df_Profiles_dropna['Profile'].value_counts().plot.bar()\n",
    "\n",
    "# Set the title, x-axis label, and y-axis label\n",
    "ax.set_title(\"Distribution of Customer Order by Profile\")\n",
    "ax.set_xlabel(\"Profile\")\n",
    "ax.set_ylabel(\"Count in millions\")\n",
    "\n",
    "path = r'/Users/davidmsimpson/20230907 Instacart Basket Analysis'\n",
    "filename = 'Distribution_of_order_by_profile.png'\n",
    "\n",
    "# Adjust the margins to create more space for y-axis labels\n",
    "plt.subplots_adjust(left=0.2, right=0.9, top=0.9, bottom=0.4)\n",
    "\n",
    "# Save the chart\n",
    "plt.savefig(os.path.join(path, '04 Analysis', 'Visualizations', 'Distribution_of_order_by_profile.png'))\n",
    "\n",
    "# Show the plot\n",
    "plt.show()"
   ]
  },
  {
   "cell_type": "markdown",
   "id": "dc599c8c",
   "metadata": {},
   "source": [
    "## Part 1, # 7: Aggregate the max, mean, and min variables on a customer-profile level for usage frequency and expenditure."
   ]
  },
  {
   "cell_type": "code",
   "execution_count": 107,
   "id": "59676c6a",
   "metadata": {},
   "outputs": [],
   "source": [
    "# Group the DataFrame by Profile and calculate the min, max, and mean of the Avg_days_since_order column\n",
    "df_grouped = df_ords_prods_customers_filtered.groupby('Profile')['Avg_days_since_order'].agg(['min', 'max', 'mean'])"
   ]
  },
  {
   "cell_type": "code",
   "execution_count": 108,
   "id": "05d95da5",
   "metadata": {},
   "outputs": [
    {
     "name": "stdout",
     "output_type": "stream",
     "text": [
      "                                            min        max       mean\n",
      "Profile                                                              \n",
      "DivWid_Lowerincome_Nochildren_Older    0.000000  30.000000  11.237108\n",
      "Married_Lowerincome_Lfamily_Younger    0.608696  30.000000  10.865150\n",
      "Married_Middleincome_Sfamily_Younger   0.833333  30.000000  10.874106\n",
      "Married_Upperincome_Lfamily_MiddleAge  1.603448  30.000000  10.905217\n",
      "Married_Upperincome_Sfamily_Older      0.263158  30.000000  10.759972\n",
      "Single_Lowspender_Lowincome            0.000000  30.000000  11.028580\n",
      "Single_MiddleAged_HighSpender          0.670732  30.000000  10.638905\n",
      "Single_Upperincome_Nochildren_Younger  3.222222  28.577586  10.189142\n",
      "Younger_LivingwParents                 0.947368  30.000000  11.000352\n"
     ]
    }
   ],
   "source": [
    "# Print the results\n",
    "print(df_grouped)"
   ]
  },
  {
   "cell_type": "code",
   "execution_count": 109,
   "id": "17bddd51",
   "metadata": {},
   "outputs": [],
   "source": [
    "# Trying a different way: Finding the mean for avg_price_paid by profile\n",
    "df_profiles_avgpricepaid = df_ords_prods_customers_filtered.groupby('Profile').Avg_price_paid.mean()"
   ]
  },
  {
   "cell_type": "code",
   "execution_count": 110,
   "id": "ddeae6a9",
   "metadata": {},
   "outputs": [],
   "source": [
    "df_sorted_profiles_avgpricepaid = df_profiles_avgpricepaid.sort_values(ascending=False)"
   ]
  },
  {
   "cell_type": "code",
   "execution_count": 111,
   "id": "3b08a2bb",
   "metadata": {},
   "outputs": [
    {
     "name": "stdout",
     "output_type": "stream",
     "text": [
      "Profile\n",
      "Single_Upperincome_Nochildren_Younger    199.144966\n",
      "Single_MiddleAged_HighSpender            120.508765\n",
      "Married_Upperincome_Lfamily_MiddleAge     15.169152\n",
      "Married_Upperincome_Sfamily_Older         14.280519\n",
      "Married_Middleincome_Sfamily_Younger       9.403566\n",
      "Married_Lowerincome_Lfamily_Younger        7.725624\n",
      "Younger_LivingwParents                     7.687402\n",
      "Single_Lowspender_Lowincome                7.517446\n",
      "DivWid_Lowerincome_Nochildren_Older        6.855133\n",
      "Name: Avg_price_paid, dtype: float64\n"
     ]
    }
   ],
   "source": [
    "print(df_sorted_profiles_avgpricepaid)"
   ]
  },
  {
   "cell_type": "code",
   "execution_count": 112,
   "id": "70e0c6d3",
   "metadata": {},
   "outputs": [
    {
     "data": {
      "image/png": "[encoded data removed]",
      "text/plain": [
       "<Figure size 1000x600 with 1 Axes>"
      ]
     },
     "metadata": {},
     "output_type": "display_data"
    }
   ],
   "source": [
    "# Create a bar graph for mean price paid per profile\n",
    "plt.figure(figsize=(10, 6))\n",
    "plt.bar(df_sorted_profiles_avgpricepaid.index, df_sorted_profiles_avgpricepaid.values)\n",
    "\n",
    "# Label the axes and title\n",
    "plt.xlabel('Profiles')\n",
    "plt.ylabel('Mean Price Paid')\n",
    "plt.title('Mean Price Paid by Profile (Descending Order)')\n",
    "\n",
    "# Rotate x-axis labels for better readability\n",
    "plt.xticks(rotation=90)\n",
    "\n",
    "path = r'/Users/davidmsimpson/20230907 Instacart Basket Analysis'\n",
    "filename = 'Mean_price_paid_by_profile.png'\n",
    "\n",
    "# Adjust the margins to create more space for y-axis labels\n",
    "plt.subplots_adjust(left=0.2, right=0.9, top=0.9, bottom=0.6)\n",
    "\n",
    "# Save the chart\n",
    "plt.savefig(os.path.join(path, '04 Analysis', 'Visualizations', 'Mean_price_paid_by_profile.png'))\n",
    "\n",
    "# Show the plot\n",
    "plt.tight_layout()\n",
    "plt.show()"
   ]
  },
  {
   "cell_type": "code",
   "execution_count": 113,
   "id": "1ebc3982",
   "metadata": {},
   "outputs": [],
   "source": [
    "# Max\n",
    "df_profiles_avgpricepaid = df_ords_prods_customers_filtered.groupby('Profile').Avg_price_paid.max()"
   ]
  },
  {
   "cell_type": "code",
   "execution_count": 114,
   "id": "9e79f93d",
   "metadata": {},
   "outputs": [],
   "source": [
    "df_sorted_profiles_avgpricepaid = df_profiles_avgpricepaid.sort_values(ascending=False)"
   ]
  },
  {
   "cell_type": "code",
   "execution_count": 115,
   "id": "43e58a03",
   "metadata": {},
   "outputs": [
    {
     "name": "stdout",
     "output_type": "stream",
     "text": [
      "Profile\n",
      "Single_MiddleAged_HighSpender            4262.071429\n",
      "Single_Upperincome_Nochildren_Younger    3391.568182\n",
      "Married_Upperincome_Sfamily_Older        2985.329714\n",
      "Married_Upperincome_Lfamily_MiddleAge    1870.331250\n",
      "Married_Middleincome_Sfamily_Younger     1646.929000\n",
      "Married_Lowerincome_Lfamily_Younger        25.565249\n",
      "Younger_LivingwParents                     16.289474\n",
      "DivWid_Lowerincome_Nochildren_Older        14.100000\n",
      "Single_Lowspender_Lowincome                 9.996491\n",
      "Name: Avg_price_paid, dtype: float64\n"
     ]
    }
   ],
   "source": [
    "print(df_sorted_profiles_avgpricepaid)"
   ]
  },
  {
   "cell_type": "code",
   "execution_count": 116,
   "id": "4b059803",
   "metadata": {},
   "outputs": [],
   "source": [
    "# Min\n",
    "df_profiles_avgpricepaid = df_ords_prods_customers_filtered.groupby('Profile').Avg_price_paid.min()"
   ]
  },
  {
   "cell_type": "code",
   "execution_count": 117,
   "id": "87527e35",
   "metadata": {},
   "outputs": [],
   "source": [
    "df_sorted_profiles_avgpricepaid = df_profiles_avgpricepaid.sort_values(ascending=False)"
   ]
  },
  {
   "cell_type": "code",
   "execution_count": 118,
   "id": "fc8b87e4",
   "metadata": {},
   "outputs": [
    {
     "name": "stdout",
     "output_type": "stream",
     "text": [
      "Profile\n",
      "Single_MiddleAged_HighSpender            10.000000\n",
      "Single_Upperincome_Nochildren_Younger     5.594444\n",
      "Married_Upperincome_Lfamily_MiddleAge     2.750000\n",
      "Married_Upperincome_Sfamily_Older         2.700000\n",
      "Married_Middleincome_Sfamily_Younger      2.354545\n",
      "Younger_LivingwParents                    2.000000\n",
      "Married_Lowerincome_Lfamily_Younger       1.746154\n",
      "DivWid_Lowerincome_Nochildren_Older       1.000000\n",
      "Single_Lowspender_Lowincome               1.000000\n",
      "Name: Avg_price_paid, dtype: float64\n"
     ]
    }
   ],
   "source": [
    "print(df_sorted_profiles_avgpricepaid)"
   ]
  },
  {
   "cell_type": "markdown",
   "id": "d9805a0c",
   "metadata": {},
   "source": [
    "## Part 1, # 7: Compare your customer profiles with regions and departments"
   ]
  },
  {
   "cell_type": "markdown",
   "id": "9b17ab84",
   "metadata": {},
   "source": [
    "#### Analysis of Married_Middleincome_Sfamily_Younger profile (Young Family)"
   ]
  },
  {
   "cell_type": "code",
   "execution_count": 119,
   "id": "7abbcdad",
   "metadata": {},
   "outputs": [],
   "source": [
    "# Creating Married_Middleincome_Sfamily_Younger dataframe\n",
    "df_Married_Middleincome_Sfamily_Younger = df_ords_prods_customers_filtered[df_ords_prods_customers_filtered['Profile']=='Married_Middleincome_Sfamily_Younger']"
   ]
  },
  {
   "cell_type": "code",
   "execution_count": 120,
   "id": "1f4dfee6",
   "metadata": {},
   "outputs": [
    {
     "data": {
      "text/plain": [
       "Region\n",
       "Mountain West    253902\n",
       "Mid-Atlantic     221779\n",
       "Plains           218330\n",
       "South Central    198592\n",
       "Southeast        192338\n",
       "New England      188848\n",
       "North Central    172711\n",
       "West Coast       156790\n",
       "Name: count, dtype: int64"
      ]
     },
     "execution_count": 120,
     "metadata": {},
     "output_type": "execute_result"
    }
   ],
   "source": [
    "# Finding regional numbers for Married_Middleincome_Sfamily_Younger\n",
    "df_Married_Middleincome_Sfamily_Younger['Region'].value_counts(dropna = False)"
   ]
  },
  {
   "cell_type": "code",
   "execution_count": 121,
   "id": "e9c633d9",
   "metadata": {},
   "outputs": [],
   "source": [
    "# Finding regional percentages for Married_Middleincome_Sfamily_Younger\n",
    "total_rows = df_Married_Middleincome_Sfamily_Younger.shape[0]"
   ]
  },
  {
   "cell_type": "code",
   "execution_count": 122,
   "id": "666d99da",
   "metadata": {},
   "outputs": [],
   "source": [
    "percentages = df_Married_Middleincome_Sfamily_Younger['Region'].value_counts(dropna = False) / total_rows * 100"
   ]
  },
  {
   "cell_type": "code",
   "execution_count": 123,
   "id": "fdaddb27",
   "metadata": {},
   "outputs": [
    {
     "name": "stdout",
     "output_type": "stream",
     "text": [
      "Region\n",
      "Mountain West    15.836312\n",
      "Mid-Atlantic     13.832744\n",
      "Plains           13.617624\n",
      "South Central    12.386530\n",
      "Southeast        11.996457\n",
      "New England      11.778780\n",
      "North Central    10.772287\n",
      "West Coast        9.779266\n",
      "Name: count, dtype: float64\n"
     ]
    }
   ],
   "source": [
    "print(percentages)"
   ]
  },
  {
   "cell_type": "code",
   "execution_count": 124,
   "id": "dd53ac4f",
   "metadata": {},
   "outputs": [
    {
     "data": {
      "image/png": "[encoded data removed]",
      "text/plain": [
       "<Figure size 1000x600 with 1 Axes>"
      ]
     },
     "metadata": {},
     "output_type": "display_data"
    }
   ],
   "source": [
    "# Create a bar graph for regional distribution of customers in Married_Middleincome_Sfamily_Younger\n",
    "plt.figure(figsize=(10, 6)) \n",
    "percentages.plot(kind='bar')\n",
    "\n",
    "# Label the axes and title\n",
    "plt.xlabel('Region')\n",
    "plt.ylabel('Percentage')\n",
    "plt.title('Regional Distribution of Customers in Profile: Married_Middleincome_Sfamily_Younger')\n",
    "\n",
    "# Adjust the margins to create more space for y-axis labels\n",
    "plt.subplots_adjust(left=0.3, right=0.8, top=0.9, bottom=0.3)\n",
    "\n",
    "path = r'/Users/davidmsimpson/20230907 Instacart Basket Analysis'\n",
    "filename = 'Regional_dist_Married_Middleincome_Sfamily_Younger.png'\n",
    "\n",
    "# Save the chart\n",
    "plt.savefig(os.path.join(path, '04 Analysis', 'Visualizations', 'Regional_dist_Married_Middleincome_Sfamily_Younger'))\n",
    "\n",
    "# Show the plot\n",
    "plt.tight_layout()\n",
    "plt.show()"
   ]
  },
  {
   "cell_type": "code",
   "execution_count": 125,
   "id": "e21a508a",
   "metadata": {},
   "outputs": [
    {
     "data": {
      "text/plain": [
       "department_id\n",
       "4     627677\n",
       "16    303540\n",
       "7     103898\n",
       "19     93272\n",
       "1      89339\n",
       "13     79133\n",
       "20     48272\n",
       "3      48013\n",
       "15     47987\n",
       "12     38373\n",
       "9      36909\n",
       "14     25951\n",
       "17     24397\n",
       "18     14211\n",
       "6       8598\n",
       "11      5956\n",
       "5       3544\n",
       "10      1659\n",
       "21      1440\n",
       "8        836\n",
       "2        285\n",
       "Name: count, dtype: int64"
      ]
     },
     "execution_count": 125,
     "metadata": {},
     "output_type": "execute_result"
    }
   ],
   "source": [
    "# Finding department_id numbers for Married_Middleincome_Sfamily_Younger\n",
    "df_Married_Middleincome_Sfamily_Younger['department_id'].value_counts(dropna = False)"
   ]
  },
  {
   "cell_type": "code",
   "execution_count": 126,
   "id": "4d3f6eac",
   "metadata": {},
   "outputs": [],
   "source": [
    "# Finding department_id percentages for Married_Middleincome_Sfamily_Younger\n",
    "total_rows = df_Married_Middleincome_Sfamily_Younger.shape[0]"
   ]
  },
  {
   "cell_type": "code",
   "execution_count": 127,
   "id": "15ce264e",
   "metadata": {},
   "outputs": [],
   "source": [
    "percentages = df_Married_Middleincome_Sfamily_Younger['department_id'].value_counts(dropna = False) / total_rows * 100"
   ]
  },
  {
   "cell_type": "code",
   "execution_count": 128,
   "id": "a1972603",
   "metadata": {},
   "outputs": [
    {
     "name": "stdout",
     "output_type": "stream",
     "text": [
      "department_id\n",
      "4     39.149312\n",
      "16    18.932320\n",
      "7      6.480300\n",
      "19     5.817538\n",
      "1      5.572230\n",
      "13     4.935664\n",
      "20     3.010809\n",
      "3      2.994655\n",
      "15     2.993033\n",
      "12     2.393391\n",
      "9      2.302079\n",
      "14     1.618609\n",
      "17     1.521684\n",
      "18     0.886365\n",
      "6      0.536272\n",
      "11     0.371486\n",
      "5      0.221045\n",
      "10     0.103475\n",
      "21     0.089815\n",
      "8      0.052143\n",
      "2      0.017776\n",
      "Name: count, dtype: float64\n"
     ]
    }
   ],
   "source": [
    "print(percentages)"
   ]
  },
  {
   "cell_type": "code",
   "execution_count": 129,
   "id": "38d0ea58",
   "metadata": {},
   "outputs": [],
   "source": [
    "# Finding loyalty flag percentages for Married_Middleincome_Sfamily_Younger\n",
    "percentages = df_Married_Middleincome_Sfamily_Younger['loyalty_flag'].value_counts(dropna = False) / total_rows * 100"
   ]
  },
  {
   "cell_type": "code",
   "execution_count": 130,
   "id": "a1dbdb07",
   "metadata": {},
   "outputs": [
    {
     "name": "stdout",
     "output_type": "stream",
     "text": [
      "loyalty_flag\n",
      "Regular customer    51.839779\n",
      "Loyal customer      33.912081\n",
      "New customer        14.248140\n",
      "Name: count, dtype: float64\n"
     ]
    }
   ],
   "source": [
    "print(percentages)"
   ]
  },
  {
   "cell_type": "code",
   "execution_count": 131,
   "id": "0d890b59",
   "metadata": {},
   "outputs": [
    {
     "data": {
      "image/png": "[encoded data removed]",
      "text/plain": [
       "<Figure size 800x500 with 1 Axes>"
      ]
     },
     "metadata": {},
     "output_type": "display_data"
    }
   ],
   "source": [
    "# Create a bar graph for loyalty status of customers in Married_Middleincome_Sfamily_Younger\n",
    "plt.figure(figsize=(8, 5)) \n",
    "percentages.plot(kind='bar')\n",
    "\n",
    "# Label the axes and title\n",
    "plt.xlabel('Loyalty flag')\n",
    "plt.ylabel('Percentage')\n",
    "plt.title('Loyalty status for the Profile: Married_Middleincome_Sfamily_Younger')\n",
    "\n",
    "# Show the plot\n",
    "plt.tight_layout()\n",
    "plt.show()"
   ]
  },
  {
   "cell_type": "code",
   "execution_count": 132,
   "id": "f14f65ba",
   "metadata": {},
   "outputs": [],
   "source": [
    "# Finding price range percentages for Married_Middleincome_Sfamily_Younger\n",
    "percentages = df_Married_Middleincome_Sfamily_Younger['price_range_loc'].value_counts(dropna = False) / total_rows * 100"
   ]
  },
  {
   "cell_type": "code",
   "execution_count": 133,
   "id": "ff8acf2f",
   "metadata": {},
   "outputs": [
    {
     "name": "stdout",
     "output_type": "stream",
     "text": [
      "price_range_loc\n",
      "Mid-range product     69.855609\n",
      "Low-range product     28.749634\n",
      "High-range product     1.394757\n",
      "Name: count, dtype: float64\n"
     ]
    }
   ],
   "source": [
    "print(percentages)"
   ]
  },
  {
   "cell_type": "markdown",
   "id": "66a017f7",
   "metadata": {},
   "source": [
    "#### Analysis of Married_Upperincome_Sfamily_Older profile (Affluent Small Family)"
   ]
  },
  {
   "cell_type": "code",
   "execution_count": 134,
   "id": "eee990e0",
   "metadata": {},
   "outputs": [],
   "source": [
    "# Creating Married_Upperincome_Sfamily_Older dataframe\n",
    "df_Married_Upperincome_Sfamily_Older = df_ords_prods_customers_filtered[df_ords_prods_customers_filtered['Profile']=='Married_Upperincome_Sfamily_Older']"
   ]
  },
  {
   "cell_type": "code",
   "execution_count": 135,
   "id": "5484fe6a",
   "metadata": {},
   "outputs": [
    {
     "data": {
      "text/plain": [
       "Region\n",
       "Mountain West    216969\n",
       "Mid-Atlantic     184052\n",
       "Plains           178169\n",
       "Southeast        169272\n",
       "North Central    168769\n",
       "New England      167714\n",
       "South Central    166703\n",
       "West Coast       134996\n",
       "Name: count, dtype: int64"
      ]
     },
     "execution_count": 135,
     "metadata": {},
     "output_type": "execute_result"
    }
   ],
   "source": [
    "# Finding regional numbers for Married_Upperincome_Sfamily_Older\n",
    "df_Married_Upperincome_Sfamily_Older['Region'].value_counts(dropna = False)"
   ]
  },
  {
   "cell_type": "code",
   "execution_count": 136,
   "id": "cc66047c",
   "metadata": {},
   "outputs": [],
   "source": [
    "# Finding regional percentages for Married_Upperincome_Sfamily_Older\n",
    "total_rows = df_Married_Upperincome_Sfamily_Older.shape[0]"
   ]
  },
  {
   "cell_type": "code",
   "execution_count": 137,
   "id": "496b3a1c",
   "metadata": {},
   "outputs": [],
   "source": [
    "percentages = df_Married_Upperincome_Sfamily_Older['Region'].value_counts(dropna = False) / total_rows * 100"
   ]
  },
  {
   "cell_type": "code",
   "execution_count": 138,
   "id": "08f24405",
   "metadata": {},
   "outputs": [
    {
     "name": "stdout",
     "output_type": "stream",
     "text": [
      "Region\n",
      "Mountain West    15.647059\n",
      "Mid-Atlantic     13.273198\n",
      "Plains           12.848936\n",
      "Southeast        12.207315\n",
      "North Central    12.171040\n",
      "New England      12.094957\n",
      "South Central    12.022047\n",
      "West Coast        9.735448\n",
      "Name: count, dtype: float64\n"
     ]
    }
   ],
   "source": [
    "print(percentages)"
   ]
  },
  {
   "cell_type": "code",
   "execution_count": 139,
   "id": "8d9b3819",
   "metadata": {},
   "outputs": [
    {
     "data": {
      "image/png": "[encoded data removed]",
      "text/plain": [
       "<Figure size 1000x600 with 1 Axes>"
      ]
     },
     "metadata": {},
     "output_type": "display_data"
    }
   ],
   "source": [
    "# Create a bar graph for regional distribution of customers in Married_Upperincome_Sfamily_Older\n",
    "plt.figure(figsize=(10, 6)) \n",
    "percentages.plot(kind='bar')\n",
    "\n",
    "# Label the axes and title\n",
    "plt.xlabel('Region')\n",
    "plt.ylabel('Percentage')\n",
    "plt.title('Regional Distribution of Customers in Profile: Married_Upperincome_Sfamily_Older')\n",
    "\n",
    "# Adjust the margins to create more space for y-axis labels\n",
    "plt.subplots_adjust(left=0.3, right=0.8, top=0.9, bottom=0.3)\n",
    "\n",
    "path = r'/Users/davidmsimpson/20230907 Instacart Basket Analysis'\n",
    "filename = 'Regional_dist_Married_Upperincome_Sfamily_Older.png'\n",
    "\n",
    "# Save the chart\n",
    "plt.savefig(os.path.join(path, '04 Analysis', 'Visualizations', 'Regional_dist_Married_Upperincome_Sfamily_Older'))\n",
    "\n",
    "# Show the plot\n",
    "plt.tight_layout()\n",
    "plt.show()"
   ]
  },
  {
   "cell_type": "code",
   "execution_count": 140,
   "id": "74988278",
   "metadata": {},
   "outputs": [
    {
     "data": {
      "text/plain": [
       "department_id\n",
       "4     535107\n",
       "16    259490\n",
       "7      95646\n",
       "19     79860\n",
       "1      77463\n",
       "13     68396\n",
       "3      44215\n",
       "20     42987\n",
       "15     41771\n",
       "12     33754\n",
       "9      32261\n",
       "14     22873\n",
       "17     21009\n",
       "18     12177\n",
       "6       7323\n",
       "11      5277\n",
       "5       3492\n",
       "10      1369\n",
       "21      1227\n",
       "8        627\n",
       "2        320\n",
       "Name: count, dtype: int64"
      ]
     },
     "execution_count": 140,
     "metadata": {},
     "output_type": "execute_result"
    }
   ],
   "source": [
    "# Finding department_id numbers for Married_Upperincome_Sfamily_Older\n",
    "df_Married_Upperincome_Sfamily_Older['department_id'].value_counts(dropna = False)"
   ]
  },
  {
   "cell_type": "code",
   "execution_count": 141,
   "id": "57960699",
   "metadata": {},
   "outputs": [],
   "source": [
    "# Finding department_id percentages for Married_Upperincome_Sfamily_Older\n",
    "total_rows = df_Married_Upperincome_Sfamily_Older.shape[0]"
   ]
  },
  {
   "cell_type": "code",
   "execution_count": 142,
   "id": "1e091b8d",
   "metadata": {},
   "outputs": [],
   "source": [
    "percentages = df_Married_Upperincome_Sfamily_Older['department_id'].value_counts(dropna = False) / total_rows * 100"
   ]
  },
  {
   "cell_type": "code",
   "execution_count": 143,
   "id": "7ee7862b",
   "metadata": {},
   "outputs": [
    {
     "name": "stdout",
     "output_type": "stream",
     "text": [
      "department_id\n",
      "4     38.590078\n",
      "16    18.713527\n",
      "7      6.897661\n",
      "19     5.759229\n",
      "1      5.586365\n",
      "13     4.932484\n",
      "3      3.188634\n",
      "20     3.100075\n",
      "15     3.012381\n",
      "12     2.434222\n",
      "9      2.326552\n",
      "14     1.649522\n",
      "17     1.515097\n",
      "18     0.878163\n",
      "6      0.528110\n",
      "11     0.380559\n",
      "5      0.251831\n",
      "10     0.098728\n",
      "21     0.088487\n",
      "8      0.045217\n",
      "2      0.023077\n",
      "Name: count, dtype: float64\n"
     ]
    }
   ],
   "source": [
    "print(percentages)"
   ]
  },
  {
   "cell_type": "code",
   "execution_count": 144,
   "id": "fa6ff652",
   "metadata": {},
   "outputs": [],
   "source": [
    "# Finding loyalty flag percentages for Married_Upperincome_Sfamily_Older\n",
    "percentages = df_Married_Upperincome_Sfamily_Older['loyalty_flag'].value_counts(dropna = False) / total_rows * 100"
   ]
  },
  {
   "cell_type": "code",
   "execution_count": 145,
   "id": "b7831c9a",
   "metadata": {},
   "outputs": [
    {
     "name": "stdout",
     "output_type": "stream",
     "text": [
      "loyalty_flag\n",
      "Regular customer    50.659578\n",
      "Loyal customer      34.856603\n",
      "New customer        14.483818\n",
      "Name: count, dtype: float64\n"
     ]
    }
   ],
   "source": [
    "print(percentages)"
   ]
  },
  {
   "cell_type": "code",
   "execution_count": 146,
   "id": "5a177442",
   "metadata": {},
   "outputs": [],
   "source": [
    "# Finding price range percentages for Married_Upperincome_Sfamily_Older\n",
    "percentages = df_Married_Upperincome_Sfamily_Older['price_range_loc'].value_counts(dropna = False) / total_rows * 100"
   ]
  },
  {
   "cell_type": "code",
   "execution_count": 147,
   "id": "1d9f80e6",
   "metadata": {},
   "outputs": [
    {
     "name": "stdout",
     "output_type": "stream",
     "text": [
      "price_range_loc\n",
      "Mid-range product     69.879508\n",
      "Low-range product     28.699940\n",
      "High-range product     1.420552\n",
      "Name: count, dtype: float64\n"
     ]
    }
   ],
   "source": [
    "print(percentages)"
   ]
  },
  {
   "cell_type": "markdown",
   "id": "59515925",
   "metadata": {},
   "source": [
    "#### Analysis of Single_Lowspender_Lowincome profile (Constrained Single)"
   ]
  },
  {
   "cell_type": "code",
   "execution_count": 148,
   "id": "babece97",
   "metadata": {},
   "outputs": [],
   "source": [
    "# Creating Single_Lowspender_Lowincome dataframe\n",
    "df_Single_Lowspender_Lowincome = df_ords_prods_customers_filtered[df_ords_prods_customers_filtered['Profile']=='Single_Lowspender_Lowincome']"
   ]
  },
  {
   "cell_type": "code",
   "execution_count": 149,
   "id": "2ed7930f",
   "metadata": {},
   "outputs": [
    {
     "data": {
      "text/plain": [
       "Region\n",
       "Mountain West    184199\n",
       "Mid-Atlantic     155436\n",
       "Plains           146236\n",
       "South Central    139437\n",
       "Southeast        137629\n",
       "North Central    135660\n",
       "New England      129007\n",
       "West Coast       117944\n",
       "Name: count, dtype: int64"
      ]
     },
     "execution_count": 149,
     "metadata": {},
     "output_type": "execute_result"
    }
   ],
   "source": [
    "# Finding regional numbers for Single_Lowspender_Lowincome\n",
    "df_Single_Lowspender_Lowincome['Region'].value_counts(dropna = False)"
   ]
  },
  {
   "cell_type": "code",
   "execution_count": 150,
   "id": "fa98a8ee",
   "metadata": {},
   "outputs": [],
   "source": [
    "# Finding regional percentages for Single_Lowspender_Lowincome\n",
    "total_rows = df_Single_Lowspender_Lowincome.shape[0]"
   ]
  },
  {
   "cell_type": "code",
   "execution_count": 151,
   "id": "57428607",
   "metadata": {},
   "outputs": [],
   "source": [
    "percentages = df_Single_Lowspender_Lowincome['Region'].value_counts(dropna = False) / total_rows * 100"
   ]
  },
  {
   "cell_type": "code",
   "execution_count": 152,
   "id": "410be446",
   "metadata": {},
   "outputs": [
    {
     "name": "stdout",
     "output_type": "stream",
     "text": [
      "Region\n",
      "Mountain West    16.079553\n",
      "Mid-Atlantic     13.568702\n",
      "Plains           12.765593\n",
      "South Central    12.172078\n",
      "Southeast        12.014250\n",
      "North Central    11.842367\n",
      "New England      11.261597\n",
      "West Coast       10.295858\n",
      "Name: count, dtype: float64\n"
     ]
    }
   ],
   "source": [
    "print(percentages)"
   ]
  },
  {
   "cell_type": "code",
   "execution_count": 153,
   "id": "18492b82",
   "metadata": {},
   "outputs": [
    {
     "data": {
      "image/png": "[encoded data removed]",
      "text/plain": [
       "<Figure size 1000x600 with 1 Axes>"
      ]
     },
     "metadata": {},
     "output_type": "display_data"
    }
   ],
   "source": [
    "# Create a bar graph for regional distribution of customers in Single_Lowspender_Lowincome\n",
    "plt.figure(figsize=(10, 6)) \n",
    "percentages.plot(kind='bar')\n",
    "\n",
    "# Label the axes and title\n",
    "plt.xlabel('Region')\n",
    "plt.ylabel('Percentage')\n",
    "plt.title('Regional Distribution of Customers in Profile: Single_Lowspender_Lowincome')\n",
    "\n",
    "# Adjust the margins to create more space for y-axis labels\n",
    "plt.subplots_adjust(left=0.3, right=0.8, top=0.9, bottom=0.3)\n",
    "\n",
    "path = r'/Users/davidmsimpson/20230907 Instacart Basket Analysis'\n",
    "filename = 'Regional_dist_Single_Lowspender_Lowincome.png'\n",
    "\n",
    "# Save the chart\n",
    "plt.savefig(os.path.join(path, '04 Analysis', 'Visualizations', 'Regional_dist_Single_Lowspender_Lowincome'))\n",
    "\n",
    "# Show the plot\n",
    "plt.tight_layout()\n",
    "plt.show()"
   ]
  },
  {
   "cell_type": "code",
   "execution_count": 154,
   "id": "628f6a0e",
   "metadata": {
    "scrolled": true
   },
   "outputs": [
    {
     "data": {
      "text/plain": [
       "department_id\n",
       "4     424008\n",
       "16    204930\n",
       "19    101566\n",
       "7      93741\n",
       "1      60637\n",
       "13     54413\n",
       "20     35759\n",
       "3      34246\n",
       "15     30370\n",
       "9      23532\n",
       "14     20213\n",
       "12     20115\n",
       "17     17628\n",
       "18      8561\n",
       "6       6102\n",
       "11      4294\n",
       "5       2561\n",
       "10      1279\n",
       "21       923\n",
       "8        436\n",
       "2        234\n",
       "Name: count, dtype: int64"
      ]
     },
     "execution_count": 154,
     "metadata": {},
     "output_type": "execute_result"
    }
   ],
   "source": [
    "# Finding department_id numbers for Single_Lowspender_Lowincome\n",
    "df_Single_Lowspender_Lowincome['department_id'].value_counts(dropna = False)"
   ]
  },
  {
   "cell_type": "code",
   "execution_count": 155,
   "id": "bc903c7d",
   "metadata": {},
   "outputs": [],
   "source": [
    "# Finding department_id percentages for Single_Lowspender_Lowincome\n",
    "total_rows = df_Single_Lowspender_Lowincome.shape[0]"
   ]
  },
  {
   "cell_type": "code",
   "execution_count": 156,
   "id": "78355c96",
   "metadata": {},
   "outputs": [],
   "source": [
    "percentages = df_Single_Lowspender_Lowincome['department_id'].value_counts(dropna = False) / total_rows * 100"
   ]
  },
  {
   "cell_type": "code",
   "execution_count": 157,
   "id": "b6b4b0e6",
   "metadata": {},
   "outputs": [
    {
     "name": "stdout",
     "output_type": "stream",
     "text": [
      "department_id\n",
      "4     37.013552\n",
      "16    17.889255\n",
      "19     8.866150\n",
      "7      8.183070\n",
      "1      5.293274\n",
      "13     4.749954\n",
      "20     3.121563\n",
      "3      2.989486\n",
      "15     2.651133\n",
      "9      2.054213\n",
      "14     1.764483\n",
      "12     1.755928\n",
      "17     1.538827\n",
      "18     0.747328\n",
      "6      0.532671\n",
      "11     0.374842\n",
      "5      0.223561\n",
      "10     0.111650\n",
      "21     0.080573\n",
      "8      0.038060\n",
      "2      0.020427\n",
      "Name: count, dtype: float64\n"
     ]
    }
   ],
   "source": [
    "print(percentages)"
   ]
  },
  {
   "cell_type": "code",
   "execution_count": 158,
   "id": "a5263034",
   "metadata": {},
   "outputs": [],
   "source": [
    "# Finding loyalty flag percentages for Single_Lowspender_Lowincome\n",
    "percentages = df_Single_Lowspender_Lowincome['loyalty_flag'].value_counts(dropna = False) / total_rows * 100"
   ]
  },
  {
   "cell_type": "code",
   "execution_count": 159,
   "id": "7897f4d3",
   "metadata": {},
   "outputs": [
    {
     "name": "stdout",
     "output_type": "stream",
     "text": [
      "loyalty_flag\n",
      "Regular customer    49.696303\n",
      "Loyal customer      33.999797\n",
      "New customer        16.303900\n",
      "Name: count, dtype: float64\n"
     ]
    }
   ],
   "source": [
    "print(percentages)"
   ]
  },
  {
   "cell_type": "code",
   "execution_count": 160,
   "id": "7fc5f0f3",
   "metadata": {},
   "outputs": [],
   "source": [
    "# Finding price range percentages for Single_Lowspender_Lowincome\n",
    "percentages = df_Single_Lowspender_Lowincome['price_range_loc'].value_counts(dropna = False) / total_rows * 100"
   ]
  },
  {
   "cell_type": "code",
   "execution_count": 161,
   "id": "35f862b9",
   "metadata": {},
   "outputs": [
    {
     "name": "stdout",
     "output_type": "stream",
     "text": [
      "price_range_loc\n",
      "Mid-range product     65.371944\n",
      "Low-range product     33.647739\n",
      "High-range product     0.980317\n",
      "Name: count, dtype: float64\n"
     ]
    }
   ],
   "source": [
    "print(percentages)"
   ]
  },
  {
   "cell_type": "markdown",
   "id": "81d69bd6",
   "metadata": {},
   "source": [
    "#### Analysis of Married_Lowerincome_Lfamily_Younger (Constrained Large Family)"
   ]
  },
  {
   "cell_type": "code",
   "execution_count": 162,
   "id": "d1351050",
   "metadata": {},
   "outputs": [],
   "source": [
    "# Creating Married_Lowerincome_Lfamily_Younger dataframe\n",
    "df_Married_Lowerincome_Lfamily_Younger = df_ords_prods_customers_filtered[df_ords_prods_customers_filtered['Profile']=='Married_Lowerincome_Lfamily_Younger']"
   ]
  },
  {
   "cell_type": "code",
   "execution_count": 163,
   "id": "a1266a20",
   "metadata": {},
   "outputs": [
    {
     "data": {
      "text/plain": [
       "Region\n",
       "Mountain West    127588\n",
       "Southeast         99531\n",
       "Plains            99162\n",
       "Mid-Atlantic      96902\n",
       "New England       84196\n",
       "South Central     83952\n",
       "North Central     79248\n",
       "West Coast        66329\n",
       "Name: count, dtype: int64"
      ]
     },
     "execution_count": 163,
     "metadata": {},
     "output_type": "execute_result"
    }
   ],
   "source": [
    "# Finding regional numbers for Married_Lowerincome_Lfamily_Younger\n",
    "df_Married_Lowerincome_Lfamily_Younger['Region'].value_counts(dropna = False)"
   ]
  },
  {
   "cell_type": "code",
   "execution_count": 164,
   "id": "c20d98aa",
   "metadata": {},
   "outputs": [],
   "source": [
    "# Finding regional percentages for Married_Lowerincome_Lfamily_Younger\n",
    "total_rows = df_Married_Lowerincome_Lfamily_Younger.shape[0]"
   ]
  },
  {
   "cell_type": "code",
   "execution_count": 165,
   "id": "fc0b465a",
   "metadata": {},
   "outputs": [],
   "source": [
    "percentages = df_Married_Lowerincome_Lfamily_Younger['Region'].value_counts(dropna = False) / total_rows * 100"
   ]
  },
  {
   "cell_type": "code",
   "execution_count": 166,
   "id": "3d347683",
   "metadata": {},
   "outputs": [
    {
     "name": "stdout",
     "output_type": "stream",
     "text": [
      "Region\n",
      "Mountain West    17.313966\n",
      "Southeast        13.506571\n",
      "Plains           13.456497\n",
      "Mid-Atlantic     13.149810\n",
      "New England      11.425578\n",
      "South Central    11.392467\n",
      "North Central    10.754124\n",
      "West Coast        9.000988\n",
      "Name: count, dtype: float64\n"
     ]
    }
   ],
   "source": [
    "print(percentages)"
   ]
  },
  {
   "cell_type": "code",
   "execution_count": 167,
   "id": "0687f014",
   "metadata": {},
   "outputs": [
    {
     "data": {
      "image/png": "[encoded data removed]",
      "text/plain": [
       "<Figure size 1000x600 with 1 Axes>"
      ]
     },
     "metadata": {},
     "output_type": "display_data"
    }
   ],
   "source": [
    "# Create a bar graph for regional distribution of customers in Married_Lowerincome_Lfamily_Younger\n",
    "plt.figure(figsize=(10, 6)) \n",
    "percentages.plot(kind='bar')\n",
    "\n",
    "# Label the axes and title\n",
    "plt.xlabel('Region')\n",
    "plt.ylabel('Percentage')\n",
    "plt.title('Regional Distribution of Customers in Profile: Married_Lowerincome_Lfamily_Younger')\n",
    "\n",
    "# Adjust the margins to create more space for y-axis labels\n",
    "plt.subplots_adjust(left=0.3, right=0.8, top=0.9, bottom=0.3)\n",
    "\n",
    "path = r'/Users/davidmsimpson/20230907 Instacart Basket Analysis'\n",
    "filename = 'Regional_dist_Married_Lowerincome_Lfamily_Younger.png'\n",
    "\n",
    "# Save the chart\n",
    "plt.savefig(os.path.join(path, '04 Analysis', 'Visualizations', 'Regional_dist_Married_Lowerincome_Lfamily_Younger'))\n",
    "\n",
    "# Show the plot\n",
    "plt.tight_layout()\n",
    "plt.show()"
   ]
  },
  {
   "cell_type": "code",
   "execution_count": 168,
   "id": "c4a869da",
   "metadata": {
    "scrolled": true
   },
   "outputs": [
    {
     "data": {
      "text/plain": [
       "department_id\n",
       "4     279310\n",
       "16    133111\n",
       "19     58948\n",
       "7      55831\n",
       "1      40675\n",
       "13     34684\n",
       "20     22318\n",
       "3      21344\n",
       "15     20176\n",
       "9      15682\n",
       "12     15352\n",
       "14     12403\n",
       "17     11103\n",
       "18      6007\n",
       "6       3687\n",
       "11      2788\n",
       "5       1482\n",
       "10       874\n",
       "21       635\n",
       "8        306\n",
       "2        192\n",
       "Name: count, dtype: int64"
      ]
     },
     "execution_count": 168,
     "metadata": {},
     "output_type": "execute_result"
    }
   ],
   "source": [
    "# Finding department_id numbers for Married_Lowerincome_Lfamily_Younger\n",
    "df_Married_Lowerincome_Lfamily_Younger['department_id'].value_counts(dropna = False)"
   ]
  },
  {
   "cell_type": "code",
   "execution_count": 169,
   "id": "db4d7146",
   "metadata": {},
   "outputs": [],
   "source": [
    "# Finding department_id percentages for Married_Lowerincome_Lfamily_Younger\n",
    "total_rows = df_Married_Lowerincome_Lfamily_Younger.shape[0]"
   ]
  },
  {
   "cell_type": "code",
   "execution_count": 170,
   "id": "465d9411",
   "metadata": {},
   "outputs": [],
   "source": [
    "percentages = df_Married_Lowerincome_Lfamily_Younger['department_id'].value_counts(dropna = False) / total_rows * 100"
   ]
  },
  {
   "cell_type": "code",
   "execution_count": 171,
   "id": "9c993603",
   "metadata": {},
   "outputs": [
    {
     "name": "stdout",
     "output_type": "stream",
     "text": [
      "department_id\n",
      "4     37.902968\n",
      "16    18.063449\n",
      "19     7.999370\n",
      "7      7.576387\n",
      "1      5.519685\n",
      "13     4.706693\n",
      "20     3.028601\n",
      "3      2.896427\n",
      "15     2.737927\n",
      "9      2.128081\n",
      "12     2.083299\n",
      "14     1.683114\n",
      "17     1.506701\n",
      "18     0.815163\n",
      "6      0.500334\n",
      "11     0.378338\n",
      "5      0.201111\n",
      "10     0.118604\n",
      "21     0.086171\n",
      "8      0.041525\n",
      "2      0.026055\n",
      "Name: count, dtype: float64\n"
     ]
    }
   ],
   "source": [
    "print(percentages)"
   ]
  },
  {
   "cell_type": "code",
   "execution_count": 172,
   "id": "3615036a",
   "metadata": {},
   "outputs": [],
   "source": [
    "# Finding loyalty flag percentages for Married_Lowerincome_Lfamily_Younger\n",
    "percentages = df_Married_Lowerincome_Lfamily_Younger['loyalty_flag'].value_counts(dropna = False) / total_rows * 100"
   ]
  },
  {
   "cell_type": "code",
   "execution_count": 173,
   "id": "2c8b53cc",
   "metadata": {},
   "outputs": [
    {
     "name": "stdout",
     "output_type": "stream",
     "text": [
      "loyalty_flag\n",
      "Regular customer    50.859673\n",
      "Loyal customer      34.086209\n",
      "New customer        15.054118\n",
      "Name: count, dtype: float64\n"
     ]
    }
   ],
   "source": [
    "print(percentages)"
   ]
  },
  {
   "cell_type": "code",
   "execution_count": 174,
   "id": "1827956b",
   "metadata": {},
   "outputs": [],
   "source": [
    "# Finding price range percentages for Married_Lowerincome_Lfamily_Younger\n",
    "percentages = df_Married_Lowerincome_Lfamily_Younger['price_range_loc'].value_counts(dropna = False) / total_rows * 100"
   ]
  },
  {
   "cell_type": "code",
   "execution_count": 175,
   "id": "1630f48b",
   "metadata": {},
   "outputs": [
    {
     "name": "stdout",
     "output_type": "stream",
     "text": [
      "price_range_loc\n",
      "Mid-range product     67.026413\n",
      "Low-range product     31.787822\n",
      "High-range product     1.185765\n",
      "Name: count, dtype: float64\n"
     ]
    }
   ],
   "source": [
    "print(percentages)"
   ]
  },
  {
   "cell_type": "markdown",
   "id": "37e70d06",
   "metadata": {},
   "source": [
    "#### Analysis of Married_Upperincome_Lfamily_MiddleAge (Affluent Large Family)"
   ]
  },
  {
   "cell_type": "code",
   "execution_count": 176,
   "id": "d68c5546",
   "metadata": {},
   "outputs": [],
   "source": [
    "# Creating Married_Upperincome_Lfamily_MiddleAge\n",
    "df_Married_Upperincome_Lfamily_MiddleAge = df_ords_prods_customers_filtered[df_ords_prods_customers_filtered['Profile']=='Married_Upperincome_Lfamily_MiddleAge']"
   ]
  },
  {
   "cell_type": "code",
   "execution_count": 177,
   "id": "f60d14cd",
   "metadata": {},
   "outputs": [
    {
     "data": {
      "text/plain": [
       "Region\n",
       "Mountain West    108285\n",
       "Plains            94820\n",
       "Mid-Atlantic      90648\n",
       "South Central     82266\n",
       "Southeast         79252\n",
       "New England       75659\n",
       "West Coast        71936\n",
       "North Central     71453\n",
       "Name: count, dtype: int64"
      ]
     },
     "execution_count": 177,
     "metadata": {},
     "output_type": "execute_result"
    }
   ],
   "source": [
    "# Finding regional numbers for Married_Upperincome_Lfamily_MiddleAge\n",
    "df_Married_Upperincome_Lfamily_MiddleAge['Region'].value_counts(dropna = False)"
   ]
  },
  {
   "cell_type": "code",
   "execution_count": 178,
   "id": "5f2b8156",
   "metadata": {},
   "outputs": [],
   "source": [
    "# Finding regional percentages for Married_Upperincome_Lfamily_MiddleAge\n",
    "total_rows = df_Married_Upperincome_Lfamily_MiddleAge.shape[0]"
   ]
  },
  {
   "cell_type": "code",
   "execution_count": 179,
   "id": "3a892fa0",
   "metadata": {},
   "outputs": [],
   "source": [
    "percentages = df_Married_Upperincome_Lfamily_MiddleAge['Region'].value_counts(dropna = False) / total_rows * 100"
   ]
  },
  {
   "cell_type": "code",
   "execution_count": 180,
   "id": "3082fbb3",
   "metadata": {},
   "outputs": [
    {
     "name": "stdout",
     "output_type": "stream",
     "text": [
      "Region\n",
      "Mountain West    16.058423\n",
      "Plains           14.061594\n",
      "Mid-Atlantic     13.442896\n",
      "South Central    12.199864\n",
      "Southeast        11.752894\n",
      "New England      11.220061\n",
      "West Coast       10.667948\n",
      "North Central    10.596320\n",
      "Name: count, dtype: float64\n"
     ]
    }
   ],
   "source": [
    "print(percentages)"
   ]
  },
  {
   "cell_type": "code",
   "execution_count": 181,
   "id": "44982cb9",
   "metadata": {},
   "outputs": [
    {
     "data": {
      "image/png": "[encoded data removed]",
      "text/plain": [
       "<Figure size 1000x600 with 1 Axes>"
      ]
     },
     "metadata": {},
     "output_type": "display_data"
    }
   ],
   "source": [
    "# Create a bar graph for regional distribution of customers in Married_Upperincome_Lfamily_MiddleAge\n",
    "plt.figure(figsize=(10, 6)) \n",
    "percentages.plot(kind='bar')\n",
    "\n",
    "# Label the axes and title\n",
    "plt.xlabel('Region')\n",
    "plt.ylabel('Percentage')\n",
    "plt.title('Regional Distribution of Customers in Profile: Married_Upperincome_Lfamily_MiddleAge')\n",
    "\n",
    "# Adjust the margins to create more space for y-axis labels\n",
    "plt.subplots_adjust(left=0.3, right=0.8, top=0.9, bottom=0.3)\n",
    "\n",
    "path = r'/Users/davidmsimpson/20230907 Instacart Basket Analysis'\n",
    "filename = 'Regional_dist_Married_Upperincome_Lfamily_MiddleAge.png'\n",
    "\n",
    "# Save the chart\n",
    "plt.savefig(os.path.join(path, '04 Analysis', 'Visualizations', 'Regional_dist_Married_Upperincome_Lfamily_MiddleAge'))\n",
    "\n",
    "# Show the plot\n",
    "plt.tight_layout()\n",
    "plt.show()"
   ]
  },
  {
   "cell_type": "code",
   "execution_count": 182,
   "id": "e58f1fd0",
   "metadata": {},
   "outputs": [
    {
     "data": {
      "text/plain": [
       "department_id\n",
       "4     263833\n",
       "16    124611\n",
       "7      44445\n",
       "19     39334\n",
       "1      36696\n",
       "13     33574\n",
       "3      20824\n",
       "20     20638\n",
       "15     20472\n",
       "12     16856\n",
       "9      15606\n",
       "14     10623\n",
       "17     10437\n",
       "18      6352\n",
       "6       3616\n",
       "11      2448\n",
       "5       2038\n",
       "21       681\n",
       "10       572\n",
       "8        471\n",
       "2        192\n",
       "Name: count, dtype: int64"
      ]
     },
     "execution_count": 182,
     "metadata": {},
     "output_type": "execute_result"
    }
   ],
   "source": [
    "# Finding department_id numbers for Married_Upperincome_Lfamily_MiddleAge\n",
    "df_Married_Upperincome_Lfamily_MiddleAge['department_id'].value_counts(dropna = False)"
   ]
  },
  {
   "cell_type": "code",
   "execution_count": 183,
   "id": "dcaac2af",
   "metadata": {},
   "outputs": [],
   "source": [
    "# Finding department_id percentages for Married_Upperincome_Lfamily_MiddleAge\n",
    "total_rows = df_Married_Upperincome_Lfamily_MiddleAge.shape[0]"
   ]
  },
  {
   "cell_type": "code",
   "execution_count": 184,
   "id": "26a2324d",
   "metadata": {},
   "outputs": [],
   "source": [
    "percentages = df_Married_Upperincome_Lfamily_MiddleAge['department_id'].value_counts(dropna = False) / total_rows * 100"
   ]
  },
  {
   "cell_type": "code",
   "execution_count": 185,
   "id": "a6c96ba5",
   "metadata": {
    "scrolled": true
   },
   "outputs": [
    {
     "name": "stdout",
     "output_type": "stream",
     "text": [
      "department_id\n",
      "4     39.125844\n",
      "16    18.479533\n",
      "7      6.591094\n",
      "19     5.833144\n",
      "1      5.441935\n",
      "13     4.978949\n",
      "3      3.088153\n",
      "20     3.060569\n",
      "15     3.035952\n",
      "12     2.499707\n",
      "9      2.314335\n",
      "14     1.575367\n",
      "17     1.547784\n",
      "18     0.941987\n",
      "6      0.536245\n",
      "11     0.363033\n",
      "5      0.302231\n",
      "21     0.100991\n",
      "10     0.084826\n",
      "8      0.069848\n",
      "2      0.028473\n",
      "Name: count, dtype: float64\n"
     ]
    }
   ],
   "source": [
    "print(percentages)"
   ]
  },
  {
   "cell_type": "code",
   "execution_count": 186,
   "id": "c7a764bb",
   "metadata": {},
   "outputs": [],
   "source": [
    "# Finding loyalty flag percentages for Married_Upperincome_Lfamily_MiddleAge\n",
    "percentages = df_Married_Upperincome_Lfamily_MiddleAge['loyalty_flag'].value_counts(dropna = False) / total_rows * 100"
   ]
  },
  {
   "cell_type": "code",
   "execution_count": 187,
   "id": "d11e8152",
   "metadata": {},
   "outputs": [
    {
     "name": "stdout",
     "output_type": "stream",
     "text": [
      "loyalty_flag\n",
      "Regular customer    52.145498\n",
      "Loyal customer      33.683464\n",
      "New customer        14.171038\n",
      "Name: count, dtype: float64\n"
     ]
    }
   ],
   "source": [
    "print(percentages)"
   ]
  },
  {
   "cell_type": "code",
   "execution_count": 188,
   "id": "6f977741",
   "metadata": {},
   "outputs": [],
   "source": [
    "# Finding price range percentages for Married_Upperincome_Lfamily_MiddleAge\n",
    "percentages = df_Married_Upperincome_Lfamily_MiddleAge['price_range_loc'].value_counts(dropna = False) / total_rows * 100"
   ]
  },
  {
   "cell_type": "code",
   "execution_count": 189,
   "id": "2af376a8",
   "metadata": {},
   "outputs": [
    {
     "name": "stdout",
     "output_type": "stream",
     "text": [
      "price_range_loc\n",
      "Mid-range product     69.637961\n",
      "Low-range product     28.928890\n",
      "High-range product     1.433150\n",
      "Name: count, dtype: float64\n"
     ]
    }
   ],
   "source": [
    "print(percentages)"
   ]
  },
  {
   "cell_type": "markdown",
   "id": "396865e7",
   "metadata": {},
   "source": [
    "#### Analysis of Younger_LivingwParents profile (Young Dependant)"
   ]
  },
  {
   "cell_type": "code",
   "execution_count": 190,
   "id": "91e892a7",
   "metadata": {},
   "outputs": [],
   "source": [
    "# Creating Younger_LivingwParents dataframe\n",
    "df_Younger_LivingwParents = df_ords_prods_customers_filtered[df_ords_prods_customers_filtered['Profile']=='Younger_LivingwParents']"
   ]
  },
  {
   "cell_type": "code",
   "execution_count": 191,
   "id": "8db732c8",
   "metadata": {},
   "outputs": [
    {
     "data": {
      "text/plain": [
       "Region\n",
       "Mountain West    80357\n",
       "Plains           68265\n",
       "Mid-Atlantic     61310\n",
       "South Central    58479\n",
       "Southeast        57510\n",
       "New England      55277\n",
       "North Central    53738\n",
       "West Coast       43816\n",
       "Name: count, dtype: int64"
      ]
     },
     "execution_count": 191,
     "metadata": {},
     "output_type": "execute_result"
    }
   ],
   "source": [
    "# Finding regional numbers for Younger_LivingwParents\n",
    "df_Younger_LivingwParents['Region'].value_counts(dropna = False)"
   ]
  },
  {
   "cell_type": "code",
   "execution_count": 192,
   "id": "bd61da73",
   "metadata": {},
   "outputs": [],
   "source": [
    "# Finding regional percentages for Younger_LivingwParents\n",
    "total_rows = df_Younger_LivingwParents.shape[0]"
   ]
  },
  {
   "cell_type": "code",
   "execution_count": 193,
   "id": "a03a8654",
   "metadata": {},
   "outputs": [],
   "source": [
    "percentages = df_Younger_LivingwParents['Region'].value_counts(dropna = False) / total_rows * 100"
   ]
  },
  {
   "cell_type": "code",
   "execution_count": 194,
   "id": "ba6f9a44",
   "metadata": {},
   "outputs": [
    {
     "name": "stdout",
     "output_type": "stream",
     "text": [
      "Region\n",
      "Mountain West    16.784682\n",
      "Plains           14.258948\n",
      "Mid-Atlantic     12.806213\n",
      "South Central    12.214884\n",
      "Southeast        12.012482\n",
      "New England      11.546061\n",
      "North Central    11.224601\n",
      "West Coast        9.152129\n",
      "Name: count, dtype: float64\n"
     ]
    }
   ],
   "source": [
    "print(percentages)"
   ]
  },
  {
   "cell_type": "code",
   "execution_count": 195,
   "id": "48b82ae8",
   "metadata": {},
   "outputs": [
    {
     "data": {
      "image/png": "[encoded data removed]",
      "text/plain": [
       "<Figure size 1000x600 with 1 Axes>"
      ]
     },
     "metadata": {},
     "output_type": "display_data"
    }
   ],
   "source": [
    "# Create a bar graph for regional distribution of customers in Younger_LivingwParents\n",
    "plt.figure(figsize=(10, 6)) \n",
    "percentages.plot(kind='bar')\n",
    "\n",
    "# Label the axes and title\n",
    "plt.xlabel('Region')\n",
    "plt.ylabel('Percentage')\n",
    "plt.title('Regional Distribution of Customers in Profile: Younger_LivingwParents')\n",
    "\n",
    "# Adjust the margins to create more space for y-axis labels\n",
    "plt.subplots_adjust(left=0.3, right=0.8, top=0.9, bottom=0.3)\n",
    "\n",
    "path = r'/Users/davidmsimpson/20230907 Instacart Basket Analysis'\n",
    "filename = 'Regional_dist_Married_Upperincome_Lfamily_MiddleAge.png'\n",
    "\n",
    "# Save the chart\n",
    "plt.savefig(os.path.join(path, '04 Analysis', 'Visualizations', 'Regional_dist_Younger_LivingwParents'))\n",
    "\n",
    "# Show the plot\n",
    "plt.tight_layout()\n",
    "plt.show()"
   ]
  },
  {
   "cell_type": "code",
   "execution_count": 196,
   "id": "322371f7",
   "metadata": {},
   "outputs": [
    {
     "data": {
      "text/plain": [
       "department_id\n",
       "4     176223\n",
       "16     87423\n",
       "19     37994\n",
       "7      36414\n",
       "1      27302\n",
       "13     23142\n",
       "20     15474\n",
       "3      13992\n",
       "15     13655\n",
       "9      10605\n",
       "12      9706\n",
       "14      8544\n",
       "17      7285\n",
       "18      3828\n",
       "6       2558\n",
       "11      1812\n",
       "5       1348\n",
       "10       536\n",
       "21       470\n",
       "8        331\n",
       "2        110\n",
       "Name: count, dtype: int64"
      ]
     },
     "execution_count": 196,
     "metadata": {},
     "output_type": "execute_result"
    }
   ],
   "source": [
    "# Finding department_id numbers for Younger_LivingwParents\n",
    "df_Younger_LivingwParents['department_id'].value_counts(dropna = False)"
   ]
  },
  {
   "cell_type": "code",
   "execution_count": 197,
   "id": "a7ec8653",
   "metadata": {},
   "outputs": [],
   "source": [
    "# Finding department_id percentages for Younger_LivingwParents\n",
    "total_rows = df_Younger_LivingwParents.shape[0]"
   ]
  },
  {
   "cell_type": "code",
   "execution_count": 198,
   "id": "0a6a82dc",
   "metadata": {},
   "outputs": [],
   "source": [
    "percentages = df_Younger_LivingwParents['department_id'].value_counts(dropna = False) / total_rows * 100"
   ]
  },
  {
   "cell_type": "code",
   "execution_count": 199,
   "id": "c9ede0bd",
   "metadata": {},
   "outputs": [
    {
     "name": "stdout",
     "output_type": "stream",
     "text": [
      "department_id\n",
      "4     36.808828\n",
      "16    18.260603\n",
      "19     7.936050\n",
      "7      7.606026\n",
      "1      5.702744\n",
      "13     4.833818\n",
      "20     3.232154\n",
      "3      2.922599\n",
      "15     2.852207\n",
      "9      2.215134\n",
      "12     2.027354\n",
      "14     1.784640\n",
      "17     1.521665\n",
      "18     0.799579\n",
      "6      0.534306\n",
      "11     0.378484\n",
      "5      0.281565\n",
      "10     0.111958\n",
      "21     0.098172\n",
      "8      0.069138\n",
      "2      0.022976\n",
      "Name: count, dtype: float64\n"
     ]
    }
   ],
   "source": [
    "print(percentages)"
   ]
  },
  {
   "cell_type": "code",
   "execution_count": 200,
   "id": "0163384d",
   "metadata": {},
   "outputs": [],
   "source": [
    "# Finding loyalty flag percentages for Younger_LivingwParents\n",
    "percentages = df_Younger_LivingwParents['loyalty_flag'].value_counts(dropna = False) / total_rows * 100"
   ]
  },
  {
   "cell_type": "code",
   "execution_count": 201,
   "id": "32c20cfe",
   "metadata": {},
   "outputs": [
    {
     "name": "stdout",
     "output_type": "stream",
     "text": [
      "loyalty_flag\n",
      "Regular customer    51.686050\n",
      "Loyal customer      32.848949\n",
      "New customer        15.465001\n",
      "Name: count, dtype: float64\n"
     ]
    }
   ],
   "source": [
    "print(percentages)"
   ]
  },
  {
   "cell_type": "code",
   "execution_count": 202,
   "id": "a17f86b6",
   "metadata": {},
   "outputs": [],
   "source": [
    "# Finding price range percentages for Younger_LivingwParents\n",
    "percentages = df_Younger_LivingwParents['price_range_loc'].value_counts(dropna = False) / total_rows * 100"
   ]
  },
  {
   "cell_type": "code",
   "execution_count": 203,
   "id": "e6a0a8ab",
   "metadata": {},
   "outputs": [
    {
     "name": "stdout",
     "output_type": "stream",
     "text": [
      "price_range_loc\n",
      "Mid-range product     66.826248\n",
      "Low-range product     32.013652\n",
      "High-range product     1.160100\n",
      "Name: count, dtype: float64\n"
     ]
    }
   ],
   "source": [
    "print(percentages)"
   ]
  },
  {
   "cell_type": "markdown",
   "id": "2429523c",
   "metadata": {},
   "source": [
    "#### Analysis of DivWid Lowerincome Nochildren Older profile (Lower-Income Divorced/Widowed)"
   ]
  },
  {
   "cell_type": "code",
   "execution_count": 204,
   "id": "7517d19d",
   "metadata": {},
   "outputs": [],
   "source": [
    "df_DivWid_Lowerincome_Nochildren_Older = df_ords_prods_customers_filtered[df_ords_prods_customers_filtered['Profile']=='DivWid_Lowerincome_Nochildren_Older']"
   ]
  },
  {
   "cell_type": "code",
   "execution_count": 205,
   "id": "65da9fb3",
   "metadata": {},
   "outputs": [
    {
     "data": {
      "text/plain": [
       "Region\n",
       "Mid-Atlantic     34638\n",
       "Plains           32616\n",
       "Mountain West    31510\n",
       "South Central    28304\n",
       "New England      25516\n",
       "North Central    24484\n",
       "West Coast       21468\n",
       "Southeast        21330\n",
       "Name: count, dtype: int64"
      ]
     },
     "execution_count": 205,
     "metadata": {},
     "output_type": "execute_result"
    }
   ],
   "source": [
    "df_DivWid_Lowerincome_Nochildren_Older['Region'].value_counts(dropna = False)"
   ]
  },
  {
   "cell_type": "code",
   "execution_count": 206,
   "id": "56fd567a",
   "metadata": {},
   "outputs": [
    {
     "data": {
      "text/plain": [
       "Region\n",
       "Mid-Atlantic     34638\n",
       "Plains           32616\n",
       "Mountain West    31510\n",
       "South Central    28304\n",
       "New England      25516\n",
       "North Central    24484\n",
       "West Coast       21468\n",
       "Southeast        21330\n",
       "Name: count, dtype: int64"
      ]
     },
     "execution_count": 206,
     "metadata": {},
     "output_type": "execute_result"
    }
   ],
   "source": [
    "df_DivWid_Lowerincome_Nochildren_Older['Region'].value_counts(dropna = False)"
   ]
  },
  {
   "cell_type": "code",
   "execution_count": 207,
   "id": "36f946f1",
   "metadata": {},
   "outputs": [],
   "source": [
    "total_rows = df_DivWid_Lowerincome_Nochildren_Older.shape[0]"
   ]
  },
  {
   "cell_type": "code",
   "execution_count": 208,
   "id": "6006ddf3",
   "metadata": {},
   "outputs": [],
   "source": [
    "percentages = df_DivWid_Lowerincome_Nochildren_Older['Region'].value_counts(dropna = False) / total_rows * 100"
   ]
  },
  {
   "cell_type": "code",
   "execution_count": 209,
   "id": "b05ba4a4",
   "metadata": {},
   "outputs": [
    {
     "name": "stdout",
     "output_type": "stream",
     "text": [
      "Region\n",
      "Mid-Atlantic     15.754141\n",
      "Plains           14.834490\n",
      "Mountain West    14.331456\n",
      "South Central    12.873296\n",
      "New England      11.605250\n",
      "North Central    11.135874\n",
      "West Coast        9.764129\n",
      "Southeast         9.701364\n",
      "Name: count, dtype: float64\n"
     ]
    }
   ],
   "source": [
    "print(percentages)"
   ]
  },
  {
   "cell_type": "code",
   "execution_count": 210,
   "id": "25c8a7a0",
   "metadata": {},
   "outputs": [
    {
     "data": {
      "image/png": "[encoded data removed]",
      "text/plain": [
       "<Figure size 1000x600 with 1 Axes>"
      ]
     },
     "metadata": {},
     "output_type": "display_data"
    }
   ],
   "source": [
    "# Create a bar graph for regional distribution of customers in DivWid_Lowerincome_Nochildren_Older\n",
    "plt.figure(figsize=(10, 6)) \n",
    "percentages.plot(kind='bar')\n",
    "\n",
    "# Label the axes and title\n",
    "plt.xlabel('Region')\n",
    "plt.ylabel('Percentage')\n",
    "plt.title('Regional Distribution of Customers in Profile: DivWid_Lowerincome_Nochildren_Older')\n",
    "\n",
    "# Adjust the margins to create more space for y-axis labels\n",
    "plt.subplots_adjust(left=0.3, right=0.8, top=0.9, bottom=0.3)\n",
    "\n",
    "path = r'/Users/davidmsimpson/20230907 Instacart Basket Analysis'\n",
    "filename = 'Regional_dist_DivWid_Lowerincome_Nochildren_Older.png'\n",
    "\n",
    "# Save the chart\n",
    "plt.savefig(os.path.join(path, '04 Analysis', 'Visualizations', 'Regional_dist_DivWid_Lowerincome_Nochildren_Older'))\n",
    "\n",
    "# Show the plot\n",
    "plt.tight_layout()\n",
    "plt.show()"
   ]
  },
  {
   "cell_type": "code",
   "execution_count": 211,
   "id": "1e9fcf12",
   "metadata": {},
   "outputs": [
    {
     "data": {
      "text/plain": [
       "department_id\n",
       "4     72836\n",
       "16    37610\n",
       "19    27786\n",
       "7     23588\n",
       "1     11940\n",
       "13     9490\n",
       "20     6672\n",
       "3      5970\n",
       "15     4832\n",
       "14     4420\n",
       "17     4034\n",
       "9      3989\n",
       "12     2428\n",
       "18     1407\n",
       "11      925\n",
       "6       888\n",
       "5       485\n",
       "10      270\n",
       "21      190\n",
       "8        75\n",
       "2        31\n",
       "Name: count, dtype: int64"
      ]
     },
     "execution_count": 211,
     "metadata": {},
     "output_type": "execute_result"
    }
   ],
   "source": [
    "df_DivWid_Lowerincome_Nochildren_Older['department_id'].value_counts(dropna = False)"
   ]
  },
  {
   "cell_type": "code",
   "execution_count": 250,
   "id": "f6a97a9c",
   "metadata": {},
   "outputs": [
    {
     "name": "stdout",
     "output_type": "stream",
     "text": [
      "department_id\n",
      "4     0.331275\n",
      "16    0.171059\n",
      "19    0.126377\n",
      "7     0.107284\n",
      "1     0.054306\n",
      "13    0.043163\n",
      "20    0.030346\n",
      "3     0.027153\n",
      "15    0.021977\n",
      "14    0.020103\n",
      "17    0.018348\n",
      "9     0.018143\n",
      "12    0.011043\n",
      "18    0.006399\n",
      "11    0.004207\n",
      "6     0.004039\n",
      "5     0.002206\n",
      "10    0.001228\n",
      "21    0.000864\n",
      "8     0.000341\n",
      "2     0.000141\n",
      "Name: count, dtype: float64\n"
     ]
    }
   ],
   "source": [
    "# Finding department_id percentages for DivWid_Lowerincome_Nochildren_Older\n",
    "total_rows = df_DivWid_Lowerincome_Nochildren_Older.shape[0]\n",
    "percentages_as_decimals = df_DivWid_Lowerincome_Nochildren_Older['department_id'].value_counts(dropna=False) / total_rows\n",
    "print(percentages_as_decimals)"
   ]
  },
  {
   "cell_type": "code",
   "execution_count": 212,
   "id": "5a1d86b7",
   "metadata": {},
   "outputs": [],
   "source": [
    "percentages = df_DivWid_Lowerincome_Nochildren_Older['loyalty_flag'].value_counts(dropna = False) / total_rows * 100"
   ]
  },
  {
   "cell_type": "code",
   "execution_count": 213,
   "id": "736bc668",
   "metadata": {},
   "outputs": [
    {
     "name": "stdout",
     "output_type": "stream",
     "text": [
      "loyalty_flag\n",
      "Regular customer    49.871740\n",
      "Loyal customer      31.758435\n",
      "New customer        18.369825\n",
      "Name: count, dtype: float64\n"
     ]
    }
   ],
   "source": [
    "print(percentages)"
   ]
  },
  {
   "cell_type": "code",
   "execution_count": 214,
   "id": "76fbfaa6",
   "metadata": {},
   "outputs": [],
   "source": [
    "percentages = df_DivWid_Lowerincome_Nochildren_Older['price_range_loc'].value_counts(dropna = False) / total_rows * 100"
   ]
  },
  {
   "cell_type": "code",
   "execution_count": 215,
   "id": "241d7d6e",
   "metadata": {},
   "outputs": [
    {
     "name": "stdout",
     "output_type": "stream",
     "text": [
      "price_range_loc\n",
      "Mid-range product     59.410732\n",
      "Low-range product     40.073499\n",
      "High-range product     0.515769\n",
      "Name: count, dtype: float64\n"
     ]
    }
   ],
   "source": [
    "print(percentages)"
   ]
  },
  {
   "cell_type": "markdown",
   "id": "275208bb",
   "metadata": {},
   "source": [
    "#### Analysis of Single_MiddleAged_HighSpender profile (High-Spending Single)"
   ]
  },
  {
   "cell_type": "code",
   "execution_count": 265,
   "id": "e16270bd",
   "metadata": {},
   "outputs": [],
   "source": [
    "# Creating Single_MiddleAged_HighSpender\n",
    "df_Single_MiddleAged_HighSpender = df_ords_prods_customers_filtered[df_ords_prods_customers_filtered['Profile']=='Single_MiddleAged_HighSpender']"
   ]
  },
  {
   "cell_type": "code",
   "execution_count": 266,
   "id": "aab3871a",
   "metadata": {},
   "outputs": [
    {
     "data": {
      "text/plain": [
       "Region\n",
       "Southeast        6203\n",
       "Plains           5717\n",
       "Mountain West    5577\n",
       "New England      4673\n",
       "Mid-Atlantic     3699\n",
       "North Central    3507\n",
       "West Coast       3393\n",
       "South Central    3048\n",
       "Name: count, dtype: int64"
      ]
     },
     "execution_count": 266,
     "metadata": {},
     "output_type": "execute_result"
    }
   ],
   "source": [
    "# Finding regional numbers for Single_MiddleAged_HighSpender\n",
    "df_Single_MiddleAged_HighSpender['Region'].value_counts(dropna = False)"
   ]
  },
  {
   "cell_type": "code",
   "execution_count": 267,
   "id": "6e68f7fa",
   "metadata": {},
   "outputs": [],
   "source": [
    "# Finding regional percentages for Single_MiddleAged_HighSpender\n",
    "total_rows = df_Single_MiddleAged_HighSpender.shape[0]"
   ]
  },
  {
   "cell_type": "code",
   "execution_count": 268,
   "id": "caf07e8f",
   "metadata": {},
   "outputs": [],
   "source": [
    "percentages = df_Single_MiddleAged_HighSpender['Region'].value_counts(dropna = False) / total_rows * 100"
   ]
  },
  {
   "cell_type": "code",
   "execution_count": 269,
   "id": "7a23a935",
   "metadata": {},
   "outputs": [
    {
     "name": "stdout",
     "output_type": "stream",
     "text": [
      "Region\n",
      "Southeast        17.318592\n",
      "Plains           15.961694\n",
      "Mountain West    15.570818\n",
      "New England      13.046877\n",
      "Mid-Atlantic     10.327498\n",
      "North Central     9.791440\n",
      "West Coast        9.473155\n",
      "South Central     8.509925\n",
      "Name: count, dtype: float64\n"
     ]
    }
   ],
   "source": [
    "print(percentages)"
   ]
  },
  {
   "cell_type": "code",
   "execution_count": 270,
   "id": "d6c94c13",
   "metadata": {},
   "outputs": [
    {
     "data": {
      "image/png": "[encoded data removed]",
      "text/plain": [
       "<Figure size 1000x600 with 1 Axes>"
      ]
     },
     "metadata": {},
     "output_type": "display_data"
    }
   ],
   "source": [
    "# Create a bar graph for regional distribution of customers in Single_MiddleAged_HighSpender\n",
    "plt.figure(figsize=(10, 6)) \n",
    "percentages.plot(kind='bar')\n",
    "\n",
    "# Label the axes and title\n",
    "plt.xlabel('Region')\n",
    "plt.ylabel('Percentage')\n",
    "plt.title('Regional Distribution of Customers in Profile: Single_MiddleAged_HighSpender')\n",
    "\n",
    "# Adjust the margins to create more space for y-axis labels\n",
    "plt.subplots_adjust(left=0.3, right=0.8, top=0.9, bottom=0.3)\n",
    "\n",
    "path = r'/Users/davidmsimpson/20230907 Instacart Basket Analysis'\n",
    "filename = 'Regional_dist_Single_MiddleAged_HighSpender.png'\n",
    "\n",
    "# Save the chart\n",
    "plt.savefig(os.path.join(path, '04 Analysis', 'Visualizations', 'Regional_dist_Single_MiddleAged_HighSpender'))\n",
    "\n",
    "# Show the plot\n",
    "plt.tight_layout()\n",
    "plt.show()"
   ]
  },
  {
   "cell_type": "code",
   "execution_count": 271,
   "id": "63388ea0",
   "metadata": {},
   "outputs": [
    {
     "data": {
      "text/plain": [
       "department_id\n",
       "4     11056\n",
       "16     7969\n",
       "7      3042\n",
       "1      2088\n",
       "19     1898\n",
       "13     1856\n",
       "12     1490\n",
       "3      1356\n",
       "20      990\n",
       "17      816\n",
       "15      757\n",
       "9       692\n",
       "14      579\n",
       "5       559\n",
       "6       216\n",
       "18      177\n",
       "11      169\n",
       "8        44\n",
       "2        35\n",
       "21       21\n",
       "10        7\n",
       "Name: count, dtype: int64"
      ]
     },
     "execution_count": 271,
     "metadata": {},
     "output_type": "execute_result"
    }
   ],
   "source": [
    "# Finding department_id numbers for Single_MiddleAged_HighSpender\n",
    "df_Single_MiddleAged_HighSpender['department_id'].value_counts(dropna = False)"
   ]
  },
  {
   "cell_type": "code",
   "execution_count": 272,
   "id": "5e558670",
   "metadata": {},
   "outputs": [
    {
     "name": "stdout",
     "output_type": "stream",
     "text": [
      "department_id\n",
      "4     0.308680\n",
      "16    0.222492\n",
      "7     0.084932\n",
      "1     0.058296\n",
      "19    0.052992\n",
      "13    0.051819\n",
      "12    0.041600\n",
      "3     0.037859\n",
      "20    0.027641\n",
      "17    0.022782\n",
      "15    0.021135\n",
      "9     0.019320\n",
      "14    0.016166\n",
      "5     0.015607\n",
      "6     0.006031\n",
      "18    0.004942\n",
      "11    0.004718\n",
      "8     0.001228\n",
      "2     0.000977\n",
      "21    0.000586\n",
      "10    0.000195\n",
      "Name: count, dtype: float64\n"
     ]
    }
   ],
   "source": [
    "# Finding department_id percentages for Single_MiddleAged_HighSpender\n",
    "total_rows = df_Single_MiddleAged_HighSpender.shape[0]\n",
    "percentages_as_decimals = df_Single_MiddleAged_HighSpender['department_id'].value_counts(dropna=False) / total_rows\n",
    "print(percentages_as_decimals)"
   ]
  },
  {
   "cell_type": "code",
   "execution_count": 314,
   "id": "9991dd7d",
   "metadata": {},
   "outputs": [
    {
     "name": "stdout",
     "output_type": "stream",
     "text": [
      "loyalty_flag\n",
      "Regular customer    0.488316\n",
      "Loyal customer      0.353380\n",
      "New customer        0.158305\n",
      "Name: count, dtype: float64\n"
     ]
    }
   ],
   "source": [
    "# Finding loyalty flag percentages for Single_MiddleAged_HighSpender\n",
    "total_rows = df_Single_MiddleAged_HighSpender.shape[0]\n",
    "percentages_as_decimals = df_Single_MiddleAged_HighSpender['loyalty_flag'].value_counts(dropna=False) / total_rows\n",
    "print(percentages_as_decimals)"
   ]
  },
  {
   "cell_type": "code",
   "execution_count": 315,
   "id": "8734cb4d",
   "metadata": {},
   "outputs": [],
   "source": [
    "# Finding price range percentages for Single_MiddleAged_HighSpender\n",
    "percentages_as_decimals = df_Single_MiddleAged_HighSpender['price_range_loc'].value_counts(dropna = False) / total_rows"
   ]
  },
  {
   "cell_type": "code",
   "execution_count": 316,
   "id": "dd5c9de9",
   "metadata": {},
   "outputs": [
    {
     "name": "stdout",
     "output_type": "stream",
     "text": [
      "price_range_loc\n",
      "Mid-range product     0.747773\n",
      "Low-range product     0.221403\n",
      "High-range product    0.030823\n",
      "Name: count, dtype: float64\n"
     ]
    }
   ],
   "source": [
    "print(percentages_as_decimals)"
   ]
  },
  {
   "cell_type": "markdown",
   "id": "dc058213",
   "metadata": {},
   "source": [
    "#### Analysis of Single_Upperincome_Nochildren_Younger profile (Affluent Young Single)"
   ]
  },
  {
   "cell_type": "code",
   "execution_count": 277,
   "id": "88834a3a",
   "metadata": {},
   "outputs": [],
   "source": [
    "# Creating Single_Upperincome_Nochildren_Younger\n",
    "df_Single_Upperincome_Nochildren_Younger = df_ords_prods_customers_filtered[df_ords_prods_customers_filtered['Profile']=='Single_Upperincome_Nochildren_Younger']"
   ]
  },
  {
   "cell_type": "code",
   "execution_count": 278,
   "id": "8e2472c9",
   "metadata": {},
   "outputs": [
    {
     "data": {
      "text/plain": [
       "Region\n",
       "Mid-Atlantic     3170\n",
       "Plains           2914\n",
       "New England      2653\n",
       "North Central    2632\n",
       "South Central    2474\n",
       "West Coast       1362\n",
       "Mountain West    1031\n",
       "Southeast         573\n",
       "Name: count, dtype: int64"
      ]
     },
     "execution_count": 278,
     "metadata": {},
     "output_type": "execute_result"
    }
   ],
   "source": [
    "# Finding regional numbers for Single_Upperincome_Nochildren_Younger\n",
    "df_Single_Upperincome_Nochildren_Younger['Region'].value_counts(dropna = False)"
   ]
  },
  {
   "cell_type": "code",
   "execution_count": 297,
   "id": "60c6e340",
   "metadata": {},
   "outputs": [],
   "source": [
    "# Finding regional percentages for Single_Upperincome_Nochildren_Younger\n",
    "total_rows = df_Single_Upperincome_Nochildren_Younger.shape[0]"
   ]
  },
  {
   "cell_type": "code",
   "execution_count": 310,
   "id": "491d5faa",
   "metadata": {},
   "outputs": [],
   "source": [
    "percentages_as_decimals = df_Single_Upperincome_Nochildren_Younger['Region'].value_counts(dropna = False) / total_rows"
   ]
  },
  {
   "cell_type": "code",
   "execution_count": 311,
   "id": "028dd898",
   "metadata": {},
   "outputs": [
    {
     "name": "stdout",
     "output_type": "stream",
     "text": [
      "Region\n",
      "Mid-Atlantic     0.188589\n",
      "Plains           0.173360\n",
      "New England      0.157832\n",
      "North Central    0.156583\n",
      "South Central    0.147183\n",
      "West Coast       0.081028\n",
      "Mountain West    0.061336\n",
      "Southeast        0.034089\n",
      "Name: count, dtype: float64\n"
     ]
    }
   ],
   "source": [
    "print(percentages_as_decimals)"
   ]
  },
  {
   "cell_type": "code",
   "execution_count": 282,
   "id": "b1812d00",
   "metadata": {},
   "outputs": [
    {
     "data": {
      "image/png": "[encoded data removed]",
      "text/plain": [
       "<Figure size 1000x600 with 1 Axes>"
      ]
     },
     "metadata": {},
     "output_type": "display_data"
    }
   ],
   "source": [
    "# Create a bar graph for regional distribution of customers in Single_Upperincome_Nochildren_Younger\n",
    "plt.figure(figsize=(10, 6)) \n",
    "percentages.plot(kind='bar')\n",
    "\n",
    "# Label the axes and title\n",
    "plt.xlabel('Region')\n",
    "plt.ylabel('Percentage')\n",
    "plt.title('Regional Distribution of Customers in Profile: Single_Upperincome_Nochildren_Younger')\n",
    "\n",
    "# Adjust the margins to create more space for y-axis labels\n",
    "plt.subplots_adjust(left=0.3, right=0.8, top=0.9, bottom=0.3)\n",
    "\n",
    "path = r'/Users/davidmsimpson/20230907 Instacart Basket Analysis'\n",
    "filename = 'Regional_dist_Single_Upperincome_Nochildren_Younger.png'\n",
    "\n",
    "# Save the chart\n",
    "plt.savefig(os.path.join(path, '04 Analysis', 'Visualizations', 'Regional_dist_Single_Upperincome_Nochildren_Younger'))\n",
    "\n",
    "# Show the plot\n",
    "plt.tight_layout()\n",
    "plt.show()"
   ]
  },
  {
   "cell_type": "code",
   "execution_count": 283,
   "id": "496c0f6a",
   "metadata": {},
   "outputs": [
    {
     "data": {
      "text/plain": [
       "department_id\n",
       "4     5330\n",
       "16    3165\n",
       "7     1482\n",
       "3      916\n",
       "13     915\n",
       "1      912\n",
       "19     894\n",
       "17     627\n",
       "5      469\n",
       "9      385\n",
       "20     383\n",
       "15     381\n",
       "12     364\n",
       "14     331\n",
       "6       86\n",
       "18      71\n",
       "11      63\n",
       "2       14\n",
       "8       14\n",
       "21       4\n",
       "10       3\n",
       "Name: count, dtype: int64"
      ]
     },
     "execution_count": 283,
     "metadata": {},
     "output_type": "execute_result"
    }
   ],
   "source": [
    "# Finding department_id numbers for Single_Upperincome_Nochildren_Younger\n",
    "df_Single_Upperincome_Nochildren_Younger['department_id'].value_counts(dropna = False)"
   ]
  },
  {
   "cell_type": "code",
   "execution_count": 317,
   "id": "7550ba80",
   "metadata": {},
   "outputs": [],
   "source": [
    "# Finding department_id percentages for Single_Upperincome_Nochildren_Younger\n",
    "total_rows = df_Single_Upperincome_Nochildren_Younger.shape[0]"
   ]
  },
  {
   "cell_type": "code",
   "execution_count": 318,
   "id": "3f3702e1",
   "metadata": {},
   "outputs": [],
   "source": [
    "percentages_as_decimals = df_Single_Upperincome_Nochildren_Younger['department_id'].value_counts(dropna = False) / total_rows"
   ]
  },
  {
   "cell_type": "code",
   "execution_count": 319,
   "id": "cc4870ed",
   "metadata": {},
   "outputs": [
    {
     "name": "stdout",
     "output_type": "stream",
     "text": [
      "department_id\n",
      "4     0.317092\n",
      "16    0.188292\n",
      "7     0.088167\n",
      "3     0.054495\n",
      "13    0.054435\n",
      "1     0.054257\n",
      "19    0.053186\n",
      "17    0.037301\n",
      "5     0.027902\n",
      "9     0.022904\n",
      "20    0.022785\n",
      "15    0.022666\n",
      "12    0.021655\n",
      "14    0.019692\n",
      "6     0.005116\n",
      "18    0.004224\n",
      "11    0.003748\n",
      "2     0.000833\n",
      "8     0.000833\n",
      "21    0.000238\n",
      "10    0.000178\n",
      "Name: count, dtype: float64\n"
     ]
    }
   ],
   "source": [
    "print(percentages_as_decimals)"
   ]
  },
  {
   "cell_type": "code",
   "execution_count": 294,
   "id": "ee73a0cb",
   "metadata": {},
   "outputs": [
    {
     "name": "stdout",
     "output_type": "stream",
     "text": [
      "loyalty_flag\n",
      "Regular customer    0.451663\n",
      "Loyal customer      0.433756\n",
      "New customer        0.114581\n",
      "Name: count, dtype: float64\n"
     ]
    }
   ],
   "source": [
    "# Finding loyalty flag percentages for Single_Upperincome_Nochildren_Younger\n",
    "total_rows = df_Single_Upperincome_Nochildren_Younger.shape[0]\n",
    "percentages_as_decimals = df_Single_Upperincome_Nochildren_Younger['loyalty_flag'].value_counts(dropna=False) / total_rows\n",
    "print(percentages_as_decimals)"
   ]
  },
  {
   "cell_type": "code",
   "execution_count": 309,
   "id": "f8b2c1e8",
   "metadata": {},
   "outputs": [
    {
     "name": "stdout",
     "output_type": "stream",
     "text": [
      "price_range_loc\n",
      "Mid-range product     0.694568\n",
      "Low-range product     0.294307\n",
      "High-range product    0.011125\n",
      "Name: count, dtype: float64\n"
     ]
    }
   ],
   "source": [
    "# Finding price range percentages for Single_Upperincome_Nochildren_Younger\n",
    "percentages_as_decimals = df_Single_Upperincome_Nochildren_Younger['price_range_loc'].value_counts(dropna = False) / total_rows\n",
    "print(percentages_as_decimals)"
   ]
  },
  {
   "cell_type": "code",
   "execution_count": 291,
   "id": "c3bae7fe",
   "metadata": {},
   "outputs": [
    {
     "name": "stderr",
     "output_type": "stream",
     "text": [
      "/var/folders/v0/xrbnqqfs3715z2hj7f5pvkf80000gn/T/ipykernel_2861/1505249089.py:3: SettingWithCopyWarning: \n",
      "A value is trying to be set on a copy of a slice from a DataFrame.\n",
      "Try using .loc[row_indexer,col_indexer] = value instead\n",
      "\n",
      "See the caveats in the documentation: https://pandas.pydata.org/pandas-docs/stable/user_guide/indexing.html#returning-a-view-versus-a-copy\n",
      "  df_ords_prods_customers_filtered['total_amount_paid'] = df_ords_prods_customers_filtered['prices'] * df_ords_prods_customers_filtered['order_number']\n"
     ]
    },
    {
     "data": {
      "text/plain": [
       "Region\n",
       "Mid-Atlantic     19187.615189\n",
       "Mountain West    19576.750662\n",
       "New England      19593.158251\n",
       "North Central    18845.938697\n",
       "Plains           19290.005133\n",
       "South Central    19729.790096\n",
       "Southeast        19972.246238\n",
       "West Coast       20130.277354\n",
       "Name: total_amount_paid, dtype: float64"
      ]
     },
     "execution_count": 291,
     "metadata": {},
     "output_type": "execute_result"
    }
   ],
   "source": [
    "# Finding average total per customer by Region\n",
    "# Calculate the total amount paid for each order (price x order_number) using .loc\n",
    "df_ords_prods_customers_filtered['total_amount_paid'] = df_ords_prods_customers_filtered['prices'] * df_ords_prods_customers_filtered['order_number']\n",
    "\n",
    "# Group the DataFrame by 'Region' and 'user_id,' and calculate the sum of 'total_amount_paid'\n",
    "average_total_amount_by_Region = df_ords_prods_customers_filtered.groupby(['Region', 'user_id'])['total_amount_paid'].sum()\n",
    "\n",
    "# Group by 'Region' and calculate the mean of the sums for each user\n",
    "average_total_amount_by_Region = average_total_amount_by_Region.groupby('Region').mean()\n",
    "\n",
    "average_total_amount_by_Region"
   ]
  },
  {
   "cell_type": "code",
   "execution_count": 292,
   "id": "d48836b2",
   "metadata": {},
   "outputs": [
    {
     "data": {
      "text/plain": [
       "Region\n",
       "Mid-Atlantic     10.926624\n",
       "Mountain West    10.551351\n",
       "New England      10.646368\n",
       "North Central    10.707552\n",
       "Plains           10.567985\n",
       "South Central    10.107048\n",
       "Southeast        10.898906\n",
       "West Coast       10.464139\n",
       "Name: Avg_price_paid, dtype: float64"
      ]
     },
     "execution_count": 292,
     "metadata": {},
     "output_type": "execute_result"
    }
   ],
   "source": [
    "# Find average prices paid by Region\n",
    "# Group the DataFrame by Region and calculate the mean of 'Avg_price_paid'\n",
    "average_price_by_Region = df_ords_prods_customers_filtered.groupby('Region')['Avg_price_paid'].mean()\n",
    "\n",
    "average_price_by_Region"
   ]
  },
  {
   "cell_type": "code",
   "execution_count": null,
   "id": "2f571ef7",
   "metadata": {},
   "outputs": [],
   "source": []
  }
 ],
 "metadata": {
  "kernelspec": {
   "display_name": "Python 3 (ipykernel)",
   "language": "python",
   "name": "python3"
  },
  "language_info": {
   "codemirror_mode": {
    "name": "ipython",
    "version": 3
   },
   "file_extension": ".py",
   "mimetype": "text/x-python",
   "name": "python",
   "nbconvert_exporter": "python",
   "pygments_lexer": "ipython3",
   "version": "3.11.4"
  }
 },
 "nbformat": 4,
 "nbformat_minor": 5
}
