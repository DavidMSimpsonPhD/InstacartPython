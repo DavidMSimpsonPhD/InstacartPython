{
 "cells": [
  {
   "cell_type": "markdown",
   "id": "e1dae6f3",
   "metadata": {},
   "source": [
    "#01. Importing Libraries"
   ]
  },
  {
   "cell_type": "code",
   "execution_count": 2,
   "id": "7e159ddf",
   "metadata": {},
   "outputs": [],
   "source": [
    "#import libraries\n",
    "import pandas as pd\n",
    "import numpy as np\n",
    "import os"
   ]
  },
  {
   "cell_type": "markdown",
   "id": "5d466e7a",
   "metadata": {},
   "source": [
    "#02. Working with Python Data Types"
   ]
  },
  {
   "cell_type": "code",
   "execution_count": 3,
   "id": "796bdd8e",
   "metadata": {},
   "outputs": [],
   "source": [
    "x=10"
   ]
  },
  {
   "cell_type": "code",
   "execution_count": 4,
   "id": "2d55699d",
   "metadata": {},
   "outputs": [
    {
     "name": "stdout",
     "output_type": "stream",
     "text": [
      "10\n"
     ]
    }
   ],
   "source": [
    "print(x)"
   ]
  },
  {
   "cell_type": "code",
   "execution_count": 5,
   "id": "f43ca1ce",
   "metadata": {},
   "outputs": [],
   "source": [
    "y=1000"
   ]
  },
  {
   "cell_type": "code",
   "execution_count": 6,
   "id": "f5abb4ec",
   "metadata": {},
   "outputs": [],
   "source": [
    "z=25"
   ]
  },
  {
   "cell_type": "code",
   "execution_count": 7,
   "id": "f86a2573",
   "metadata": {},
   "outputs": [
    {
     "data": {
      "text/plain": [
       "100.0"
      ]
     },
     "execution_count": 7,
     "metadata": {},
     "output_type": "execute_result"
    }
   ],
   "source": [
    "y/x"
   ]
  },
  {
   "cell_type": "code",
   "execution_count": 8,
   "id": "2e7c636e",
   "metadata": {},
   "outputs": [
    {
     "data": {
      "text/plain": [
       "100"
      ]
     },
     "execution_count": 8,
     "metadata": {},
     "output_type": "execute_result"
    }
   ],
   "source": [
    "x*x"
   ]
  },
  {
   "cell_type": "code",
   "execution_count": 9,
   "id": "2fc7ea05",
   "metadata": {},
   "outputs": [
    {
     "data": {
      "text/plain": [
       "100"
      ]
     },
     "execution_count": 9,
     "metadata": {},
     "output_type": "execute_result"
    }
   ],
   "source": [
    "z+75"
   ]
  },
  {
   "cell_type": "code",
   "execution_count": 10,
   "id": "63bc85cf",
   "metadata": {},
   "outputs": [],
   "source": [
    "a=1963.0227"
   ]
  },
  {
   "cell_type": "code",
   "execution_count": 11,
   "id": "4565ae5a",
   "metadata": {},
   "outputs": [],
   "source": [
    "b=32.33"
   ]
  },
  {
   "cell_type": "code",
   "execution_count": 12,
   "id": "f0e5871a",
   "metadata": {},
   "outputs": [
    {
     "data": {
      "text/plain": [
       "60.71830188679245"
      ]
     },
     "execution_count": 12,
     "metadata": {},
     "output_type": "execute_result"
    }
   ],
   "source": [
    "a/b"
   ]
  },
  {
   "cell_type": "code",
   "execution_count": 14,
   "id": "38296294",
   "metadata": {},
   "outputs": [],
   "source": [
    "c='ana'"
   ]
  },
  {
   "cell_type": "code",
   "execution_count": 15,
   "id": "a25a6246",
   "metadata": {},
   "outputs": [],
   "source": [
    "d='ly'"
   ]
  },
  {
   "cell_type": "code",
   "execution_count": 16,
   "id": "b4ab2bc8",
   "metadata": {},
   "outputs": [],
   "source": [
    "e='sis'"
   ]
  },
  {
   "cell_type": "code",
   "execution_count": 17,
   "id": "de82f045",
   "metadata": {},
   "outputs": [
    {
     "data": {
      "text/plain": [
       "'analysis'"
      ]
     },
     "execution_count": 17,
     "metadata": {},
     "output_type": "execute_result"
    }
   ],
   "source": [
    "c+d+e"
   ]
  },
  {
   "cell_type": "code",
   "execution_count": 18,
   "id": "d1e7e4df",
   "metadata": {},
   "outputs": [],
   "source": [
    "f='Close'"
   ]
  },
  {
   "cell_type": "code",
   "execution_count": 19,
   "id": "47870cf5",
   "metadata": {},
   "outputs": [],
   "source": [
    "g=' the door.'"
   ]
  },
  {
   "cell_type": "code",
   "execution_count": 20,
   "id": "c52ca06a",
   "metadata": {},
   "outputs": [
    {
     "data": {
      "text/plain": [
       "'Close the door.'"
      ]
     },
     "execution_count": 20,
     "metadata": {},
     "output_type": "execute_result"
    }
   ],
   "source": [
    "f+g"
   ]
  },
  {
   "cell_type": "code",
   "execution_count": 21,
   "id": "1b2da57b",
   "metadata": {},
   "outputs": [],
   "source": [
    "h='There are '"
   ]
  },
  {
   "cell_type": "code",
   "execution_count": 22,
   "id": "825cfb64",
   "metadata": {},
   "outputs": [],
   "source": [
    "i='mosquitos.'"
   ]
  },
  {
   "cell_type": "code",
   "execution_count": 23,
   "id": "ee1cb776",
   "metadata": {},
   "outputs": [
    {
     "data": {
      "text/plain": [
       "'There are mosquitos.'"
      ]
     },
     "execution_count": 23,
     "metadata": {},
     "output_type": "execute_result"
    }
   ],
   "source": [
    "h+i"
   ]
  },
  {
   "cell_type": "code",
   "execution_count": null,
   "id": "1cfbe27d",
   "metadata": {},
   "outputs": [],
   "source": []
  }
 ],
 "metadata": {
  "kernelspec": {
   "display_name": "Python 3 (ipykernel)",
   "language": "python",
   "name": "python3"
  },
  "language_info": {
   "codemirror_mode": {
    "name": "ipython",
    "version": 3
   },
   "file_extension": ".py",
   "mimetype": "text/x-python",
   "name": "python",
   "nbconvert_exporter": "python",
   "pygments_lexer": "ipython3",
   "version": "3.11.4"
  }
 },
 "nbformat": 4,
 "nbformat_minor": 5
}
